{
 "cells": [
  {
   "cell_type": "code",
   "execution_count": 1,
   "metadata": {
    "collapsed": true
   },
   "outputs": [],
   "source": [
    "import seaborn as sns\n",
    "import matplotlib.pyplot as plt\n",
    "import pandas\n",
    "%matplotlib inline\n",
    "import numpy as np\n",
    "import time\n"
   ]
  },
  {
   "cell_type": "markdown",
   "metadata": {},
   "source": [
    "## only look at stories with 10+ shares. Group stories by title."
   ]
  },
  {
   "cell_type": "code",
   "execution_count": 2,
   "metadata": {
    "collapsed": true
   },
   "outputs": [],
   "source": [
    "df = pandas.read_csv('DATA/USERS/all_data.csv',  dtype={'candidates': 'S10'})"
   ]
  },
  {
   "cell_type": "code",
   "execution_count": 3,
   "metadata": {
    "collapsed": false
   },
   "outputs": [
    {
     "data": {
      "text/plain": [
       "137978"
      ]
     },
     "execution_count": 3,
     "metadata": {},
     "output_type": "execute_result"
    }
   ],
   "source": [
    "len(df)"
   ]
  },
  {
   "cell_type": "code",
   "execution_count": 4,
   "metadata": {
    "collapsed": false
   },
   "outputs": [
    {
     "data": {
      "text/plain": [
       "Index([u'_id', u'author', u'sentiment', u'time', u'tweet', u'url', u'a_id',\n",
       "       u'title', u'date_written', u'org', u't_id', u'candidates'],\n",
       "      dtype='object')"
      ]
     },
     "execution_count": 4,
     "metadata": {},
     "output_type": "execute_result"
    }
   ],
   "source": [
    "df.columns"
   ]
  },
  {
   "cell_type": "code",
   "execution_count": 5,
   "metadata": {
    "collapsed": true
   },
   "outputs": [],
   "source": [
    "stories_gt_10 = df.title.value_counts()[df.title.value_counts() >= 10].index"
   ]
  },
  {
   "cell_type": "code",
   "execution_count": 6,
   "metadata": {
    "collapsed": false
   },
   "outputs": [
    {
     "name": "stdout",
     "output_type": "stream",
     "text": [
      "2657\n"
     ]
    }
   ],
   "source": [
    "print len(set(stories_gt_10))"
   ]
  },
  {
   "cell_type": "code",
   "execution_count": 7,
   "metadata": {
    "collapsed": false
   },
   "outputs": [
    {
     "name": "stdout",
     "output_type": "stream",
     "text": [
      "123113\n"
     ]
    }
   ],
   "source": [
    "subset = df[df.title.isin(stories_gt_10)]\n",
    "print len(subset)"
   ]
  },
  {
   "cell_type": "code",
   "execution_count": 8,
   "metadata": {
    "collapsed": true
   },
   "outputs": [],
   "source": [
    "subset.to_csv('DATA/GT_10_STORIES/subset.csv')"
   ]
  },
  {
   "cell_type": "code",
   "execution_count": 9,
   "metadata": {
    "collapsed": false
   },
   "outputs": [
    {
     "name": "stdout",
     "output_type": "stream",
     "text": [
      "20956\n",
      "20956\n"
     ]
    }
   ],
   "source": [
    "print len(subset.author.unique())\n",
    "print len(set(subset.author))"
   ]
  },
  {
   "cell_type": "code",
   "execution_count": 10,
   "metadata": {
    "collapsed": false
   },
   "outputs": [],
   "source": [
    "outfi = open('DATA/GT_10_STORIES/authors.csv', 'w')\n",
    "for item in list(set(subset.author)):\n",
    "  outfi.write(\"%s\\n\" % item)\n",
    "outfi.close()"
   ]
  },
  {
   "cell_type": "markdown",
   "metadata": {
    "collapsed": true
   },
   "source": [
    "## Basic Stats"
   ]
  },
  {
   "cell_type": "code",
   "execution_count": 11,
   "metadata": {
    "collapsed": false
   },
   "outputs": [
    {
     "data": {
      "text/plain": [
       "20956"
      ]
     },
     "execution_count": 11,
     "metadata": {},
     "output_type": "execute_result"
    }
   ],
   "source": [
    "len(set(subset.author))"
   ]
  },
  {
   "cell_type": "code",
   "execution_count": 19,
   "metadata": {
    "collapsed": false
   },
   "outputs": [
    {
     "name": "stdout",
     "output_type": "stream",
     "text": [
      "Tweets per Author\n"
     ]
    },
    {
     "data": {
      "text/plain": [
       "count    20956.000000\n",
       "mean         5.874833\n",
       "std         35.145778\n",
       "min          1.000000\n",
       "10%          1.000000\n",
       "25%          1.000000\n",
       "50%          1.000000\n",
       "75%          2.000000\n",
       "99%        124.000000\n",
       "max       1246.000000\n",
       "Name: author, dtype: float64"
      ]
     },
     "execution_count": 19,
     "metadata": {},
     "output_type": "execute_result"
    }
   ],
   "source": [
    "print \"Tweets per Author\"\n",
    "subset.author.value_counts().describe(percentiles=[.10,.25,.5,.75,.99])"
   ]
  },
  {
   "cell_type": "code",
   "execution_count": 22,
   "metadata": {
    "collapsed": false
   },
   "outputs": [
    {
     "name": "stdout",
     "output_type": "stream",
     "text": [
      "Publication Distribution\n"
     ]
    },
    {
     "data": {
      "image/png": "[encoded data removed]",
      "text/plain": [
       "<matplotlib.figure.Figure at 0x115ba6e90>"
      ]
     },
     "metadata": {},
     "output_type": "display_data"
    }
   ],
   "source": [
    "print \"Publication Distribution\"\n",
    "subset.org.value_counts().plot(kind='bar', title='Story Shares by Publication')\n",
    "plt.tight_layout()\n",
    "plt.savefig('FIGS/SUBSET/pub_dist.png')"
   ]
  },
  {
   "cell_type": "code",
   "execution_count": 13,
   "metadata": {
    "collapsed": false
   },
   "outputs": [
    {
     "data": {
      "text/plain": [
       "13472"
      ]
     },
     "execution_count": 13,
     "metadata": {},
     "output_type": "execute_result"
    }
   ],
   "source": [
    "#cand2code={'HillaryClinton':0,\"JohnKasich\":1,'SenSanders':3, 'realDonaldTrump':2,'TedCruz':4}\n",
    "follows_candid = subset[subset.candidates != '00000'] \n",
    "len(set(follows_candid.author))"
   ]
  },
  {
   "cell_type": "code",
   "execution_count": 26,
   "metadata": {
    "collapsed": true
   },
   "outputs": [],
   "source": [
    "candids = ['10000','01000','00100','00010','00001']"
   ]
  },
  {
   "cell_type": "code",
   "execution_count": 40,
   "metadata": {
    "collapsed": false
   },
   "outputs": [],
   "source": [
    "single_candid = subset[subset.candidates.isin(candids)]\n",
    "len(set(single_candid.author))\n",
    "#single_candid.to_csv('DATA/GT_10_STORIES/single_candid.csv')"
   ]
  },
  {
   "cell_type": "code",
   "execution_count": 42,
   "metadata": {
    "collapsed": false
   },
   "outputs": [],
   "source": [
    "clinton_camp = subset[subset.candidates == '10000'] \n",
    "clinton_camp.to_csv('DATA/GT_10_STORIES/clinton_camp.csv')\n",
    "kasich_camp = subset[subset.candidates == '01000'] \n",
    "kasich_camp.to_csv('DATA/GT_10_STORIES/kasich_camp.csv')\n",
    "trump_camp = subset[subset.candidates == '00100'] \n",
    "trump_camp.to_csv('DATA/GT_10_STORIES/trump_camp.csv')\n",
    "sanders_camp = subset[subset.candidates == '00010'] \n",
    "sanders_camp.to_csv('DATA/GT_10_STORIES/sanders_camp.csv')\n",
    "cruz_camp = subset[subset.candidates == '00001'] \n",
    "cruz_camp.to_csv('DATA/GT_10_STORIES/cruz_camp.csv')"
   ]
  },
  {
   "cell_type": "code",
   "execution_count": 25,
   "metadata": {
    "collapsed": false
   },
   "outputs": [
    {
     "name": "stdout",
     "output_type": "stream",
     "text": [
      "Number of Clinton-only followers: 1858\n",
      "Total tweets: 6432\n",
      "\n",
      "Number of Trump-only followers: 2018\n",
      "Total tweets: 8815\n",
      "\n",
      "Number of Sanders-only followers: 1616\n",
      "Total tweets: 4725\n",
      "\n",
      "Number of Cruz-only followers: 916\n",
      "Total tweets: 3441\n",
      "\n",
      "Number of Kasich-only followers: 159\n",
      "Total tweets: 1048\n",
      "\n"
     ]
    }
   ],
   "source": [
    "print 'Number of Clinton-only followers:', len(set(clinton_camp.author))\n",
    "print'Total tweets:', len(clinton_camp)  \n",
    "print\n",
    "print 'Number of Trump-only followers:', len(set(trump_camp.author))\n",
    "print'Total tweets:', len(trump_camp)  \n",
    "print\n",
    "print 'Number of Sanders-only followers:', len(set(sanders_camp.author))\n",
    "print'Total tweets:', len(sanders_camp)  \n",
    "print\n",
    "print 'Number of Cruz-only followers:', len(set(cruz_camp.author))\n",
    "print'Total tweets:', len(cruz_camp)  \n",
    "print\n",
    "print 'Number of Kasich-only followers:', len(set(kasich_camp.author))\n",
    "print'Total tweets:', len(kasich_camp)  \n",
    "print"
   ]
  },
  {
   "cell_type": "code",
   "execution_count": 29,
   "metadata": {
    "collapsed": false
   },
   "outputs": [
    {
     "data": {
      "text/plain": [
       "Index([u'_id', u'author', u'sentiment', u'time', u'tweet', u'url', u'a_id',\n",
       "       u'title', u'date_written', u'org', u't_id', u'candidates'],\n",
       "      dtype='object')"
      ]
     },
     "execution_count": 29,
     "metadata": {},
     "output_type": "execute_result"
    }
   ],
   "source": [
    "subset.columns"
   ]
  },
  {
   "cell_type": "code",
   "execution_count": 39,
   "metadata": {
    "collapsed": false
   },
   "outputs": [
    {
     "data": {
      "image/png": "[encoded data removed]",
      "text/plain": [
       "<matplotlib.figure.Figure at 0x1168c6b90>"
      ]
     },
     "metadata": {},
     "output_type": "display_data"
    }
   ],
   "source": [
    "subset.sentiment.value_counts(normalize=True).plot(kind='bar')\n",
    "plt.title('Sentiment of Tweets (Normalized)')\n",
    "plt.ylabel('Percent')\n",
    "plt.tight_layout()\n",
    "plt.savefig('FIGS/SUBSET/sentiment.png')"
   ]
  },
  {
   "cell_type": "markdown",
   "metadata": {},
   "source": []
  },
  {
   "cell_type": "code",
   "execution_count": null,
   "metadata": {
    "collapsed": true
   },
   "outputs": [],
   "source": []
  }
 ],
 "metadata": {
  "kernelspec": {
   "display_name": "Python 2",
   "language": "python",
   "name": "python2"
  },
  "language_info": {
   "codemirror_mode": {
    "name": "ipython",
    "version": 2
   },
   "file_extension": ".py",
   "mimetype": "text/x-python",
   "name": "python",
   "nbconvert_exporter": "python",
   "pygments_lexer": "ipython2",
   "version": "2.7.11"
  }
 },
 "nbformat": 4,
 "nbformat_minor": 0
}
