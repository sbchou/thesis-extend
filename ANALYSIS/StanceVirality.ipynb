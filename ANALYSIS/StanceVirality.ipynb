{
 "cells": [
  {
   "cell_type": "code",
   "execution_count": 1,
   "metadata": {
    "collapsed": true
   },
   "outputs": [],
   "source": [
    "import seaborn as sns\n",
    "import matplotlib.pyplot as plt\n",
    "import pandas\n",
    "%matplotlib inline\n",
    "import numpy as np\n",
    "import time"
   ]
  },
  {
   "cell_type": "code",
   "execution_count": 3,
   "metadata": {
    "collapsed": true
   },
   "outputs": [],
   "source": [
    "pandas.set_option('max_colwidth', 800)"
   ]
  },
  {
   "cell_type": "code",
   "execution_count": 4,
   "metadata": {
    "collapsed": true
   },
   "outputs": [],
   "source": [
    "df = pandas.read_csv('DATA/GT_10_STORIES/single_candid.csv', dtype={'candidates': 'S10'})"
   ]
  },
  {
   "cell_type": "code",
   "execution_count": 5,
   "metadata": {
    "collapsed": false
   },
   "outputs": [
    {
     "name": "stdout",
     "output_type": "stream",
     "text": [
      "24470\n",
      "6572\n"
     ]
    }
   ],
   "source": [
    "#sanity data checks-- make sure you didn't lose any.\n",
    "print len(df) # idk why i gained some tweets...\n",
    "print len(set(df.author)) # 6,567"
   ]
  },
  {
   "cell_type": "code",
   "execution_count": 6,
   "metadata": {
    "collapsed": true
   },
   "outputs": [],
   "source": [
    "CLINTON = '10000'\n",
    "KASICH = '01000'\n",
    "SANDERS = '00010'\n",
    "TRUMP = '00100'\n",
    "CRUZ = '00001'\n",
    "CANDIDS = [CLINTON, TRUMP, SANDERS, CRUZ, KASICH]\n",
    "code_to_candid = {CLINTON:'Clinton', TRUMP: 'Trump', SANDERS:'Sanders', CRUZ:'Cruz', KASICH:'Kasich'}"
   ]
  },
  {
   "cell_type": "code",
   "execution_count": 15,
   "metadata": {
    "collapsed": false
   },
   "outputs": [
    {
     "name": "stdout",
     "output_type": "stream",
     "text": [
      "Most Tweeted Stories by Clinton Followers\n",
      "\n",
      "The One Weird Trait That Predicts Whether You’re a Trump Supporter                               115\n",
      "I Get Sanders’ Appeal. But He’s Not a Credible President.                                         74\n",
      "Ted Cruz Is No Jack Kennedy                                                                       68\n",
      "Why I'm voting for Trump                                                                          50\n",
      "Anne Frank's stepsister compares Donald Trump to Adolf Hitler                                     46\n",
      "Poll: Clinton has a better shot at beating Trump than Sanders                                     42\n",
      "Judge dismisses lawsuits over Clinton's emails                                                    34\n",
      "Terrorists use Trump's 'Muslim ban' speech in recruitment video                                   33\n",
      "Trump’s Campaign Is Damaging His Brand                                                            27\n",
      "Donald Trump is not beating Hillary Clinton in the polls, no matter how many times he says it     27\n",
      "Name: title, dtype: int64\n",
      "\n",
      "Most Tweeted Stories by Trump Followers\n",
      "\n",
      "Donald Trump Is Shocking, Vulgar and Right                               221\n",
      "Trump basks in his spotlight                                              84\n",
      "Poll: Trump dominates GOP field                                           79\n",
      "The One Weird Trait That Predicts Whether You’re a Trump Supporter        75\n",
      "Why I'm voting for Trump                                                  74\n",
      "Rubio: Law-abiding undocumented immigrants could stay                     73\n",
      "Poll: Donald Trump gained 15 points on Ted Cruz in Iowa in two weeks      69\n",
      "FOX NEWS POLL  Trump gains in Iowa, dominates New Hampshire               57\n",
      "TODD STARNES School caught trying to get students to work for Hillary     57\n",
      "Poll: Evangelicals flocking to Trump                                      54\n",
      "Name: title, dtype: int64\n",
      "\n",
      "Most Tweeted Stories by Sanders Followers\n",
      "\n",
      "The One Weird Trait That Predicts Whether You’re a Trump Supporter                     136\n",
      "Bernie Sanders Will Win Iowa, New Hampshire, Nevada and South Carolina. Here's Why.    104\n",
      "Bernie Sanders Is a Once in a Lifetime Presidential Candidate. The Time Is Now.         99\n",
      "On January 20, 2017 Bernie Sanders Will Be Sworn In as America's 45th President         98\n",
      "Biden praises Sanders on income inequality                                              91\n",
      "Hillary's Corporate Democrats Taking Down Bernie Sanders                                91\n",
      "Bernie Sanders Is Now the 'Inevitable' Democratic Nominee and Presidential Winner       90\n",
      "How the media missed Sanders                                                            83\n",
      "The Nation endorses Bernie Sanders                                                      74\n",
      "State Department asks for deadline extension on Hillary Clinton emails                  72\n",
      "Name: title, dtype: int64\n",
      "\n",
      "Most Tweeted Stories by Cruz Followers\n",
      "\n",
      "Donald Trump attacks evangelical leader in Iowa who endorsed Ted Cruz                     60\n",
      "Rubio: Law-abiding undocumented immigrants could stay                                     57\n",
      "Donald Trump Is Shocking, Vulgar and Right                                                43\n",
      "Let's uproot the pernicious, unproven claim that Ted Cruz attacked Donald Trump's wife    43\n",
      "TODD STARNES School caught trying to get students to work for Hillary                     43\n",
      "The One Weird Trait That Predicts Whether You’re a Trump Supporter                        32\n",
      "How the RNC squashed its only conservative-media debate                                   21\n",
      "NEXT ROUND: Fox News announces lineup for GOP prime time debate                           20\n",
      "BATTLE FOR THE GOP RNC cuts debate ties with mag over anti-Trump issue                    18\n",
      "BLOOMING CANDIDACY? Former NYC mayor reportedly mulling WH bid                            18\n",
      "Name: title, dtype: int64\n",
      "\n",
      "Most Tweeted Stories by Kasich Followers\n",
      "\n",
      "The One Weird Trait That Predicts Whether You’re a Trump Supporter           6\n",
      "Donald Trump Is Shocking, Vulgar and Right                                   6\n",
      "Why the GOP Primary Could Be Even Crazier Than You Think                     5\n",
      "Marco Rubio -- The Next American President                                   4\n",
      "Donald Trump, Bernie Sanders hold solid leads in Iowa, CNN/ORC poll finds    4\n",
      "Trump and Sanders using anger against big money to build their movements     4\n",
      "The Real Kasich Threat                                                       4\n",
      "Republicans point fingers: Who let Trump get this far?                       4\n",
      "Gallup: Share of Democrats reaches record low                                4\n",
      "Koch brother: Trump plan would 'destroy free society'                        3\n",
      "Name: title, dtype: int64\n",
      "\n"
     ]
    }
   ],
   "source": [
    "for c in CANDIDS:\n",
    "    print \"Most Tweeted Stories by\", code_to_candid[c], \"Followers\"\n",
    "    print\n",
    "    print df[df.candidates == c].title.value_counts()[:10]\n",
    "    df[df.candidates == c].url.value_counts()[:10].to_csv('DATA/STANCE_VIRALITY/'+ code_to_candid[c] + '_top10url.csv')\n",
    "    print"
   ]
  },
  {
   "cell_type": "code",
   "execution_count": 16,
   "metadata": {
    "collapsed": false
   },
   "outputs": [
    {
     "name": "stdout",
     "output_type": "stream",
     "text": [
      "Least Tweeted Stories by Clinton Followers\n",
      "\n",
      "Mark Zuckerberg Pokes Donald Trump During Facebook Event       1\n",
      "Who is Marco Rubio?                                            1\n",
      "Does Donald Trump know what he's talking about? (Opinion)      1\n",
      "Gov. Christie Endorses Donald Trump                            1\n",
      "House Dems see leverage on security with Trump ahead           1\n",
      "Trump's Saturday delegate disaster                             1\n",
      "Donald Trump on Ted Cruz: 'They're going to sue his ass up'    1\n",
      "Erick Erickson to GOP establishment: Rally to Rubio            1\n",
      "Trump leads polls in Iowa, New Hampshire and South Carolina    1\n",
      "Ryan slams door on potential 2016 GOP nomination               1\n",
      "Name: title, dtype: int64\n",
      "\n",
      "Least Tweeted Stories by Trump Followers\n",
      "\n",
      "Donald Trump reemerges to rip media coverage of his Iowa finish    1\n",
      "Senate Judiciary GOP will talk SCOTUS strategy next week           1\n",
      "Marco's reboot: How Rubio plans to turn things around              1\n",
      "Why Trump may be hoping for a long caucus night in Iowa            1\n",
      "Biden calls GOP 2016 field 'gift from the Lord'                    1\n",
      "Trump campaign bad for biz?                                        1\n",
      "Bush: I'm 'much better looking' than Chris Christie                1\n",
      "Jeb Bush releases welfare reform proposal                          1\n",
      "Who is Donald Trump?                                               1\n",
      "Neil Bush, Jeb's brother, joins Ted Cruz's finance team            1\n",
      "Name: title, dtype: int64\n",
      "\n",
      "Least Tweeted Stories by Sanders Followers\n",
      "\n",
      "Republicans to face off at CNN debate                                              1\n",
      "Trump and Cruz to battle at town hall                                              1\n",
      "Boston Globe editorial: 'Stop Trump now'                                           1\n",
      "Donald Trump Turns to Ethanol to Fuel Fight With Ted Cruz                          1\n",
      "Donald Trump isn't even the best presidential candidate in his family              1\n",
      "All eyes on Michigan on Super Tuesday 2                                            1\n",
      "Everything you need to know about the next GOP debate                              1\n",
      "Rubio slams opponents in South Carolina                                            1\n",
      "Is Ted Cruz, born in Canada, eligible for the presidency? Legal experts say yes    1\n",
      "Donald Trump unexpectedly clears his schedule                                      1\n",
      "Name: title, dtype: int64\n",
      "\n",
      "Least Tweeted Stories by Cruz Followers\n",
      "\n",
      "Both frontrunners are playing defense in Tuesday’s Wisconsin primary     1\n",
      "Donald Trump and Ted Cruz: The Populist vs. The Preacher                 1\n",
      "Cruz does little to tamp down Super Tuesday expectations                 1\n",
      "IS THE WALL FEASIBLE? Border agents weigh in on Trump's proposed plan    1\n",
      "Cruz's big wins and other takeaways from a big weekend                   1\n",
      "Bush, allies: Rubio's abortion position would give Dems fodder           1\n",
      "To Do List: What Each GOP Candidate Must Achieve in Thursday’s Debate    1\n",
      "Full text: Donald Trump responds to Pope Francis                         1\n",
      "Marco Rubio, Hillary Clinton Pick Up Endorsements From Iowa Newspaper    1\n",
      "Trump joins his 'diversity coalition' for photo op                       1\n",
      "Name: title, dtype: int64\n",
      "\n",
      "Least Tweeted Stories by Kasich Followers\n",
      "\n",
      "Rubio's Stepford malfunction: the GOP New Hampshire debate                                                                                                                                              1\n",
      "Bernie Sanders wins big with Michigan Muslims                                                                                                                                                           1\n",
      "First congressman to back Trump: 'We need a chief executive'                                                                                                                                            1\n",
      "Republican debate: Who won Trump-Cruz smackdown?                                                                                                                                                        1\n",
      "Donald Trump Is Right About One Thing...Ish                                                                                                                                                             1\n",
      "Stripping Conservative Magazine Of Debate Is Latest Sign Of GOP's Trump Nerves                                                                                                                          1\n",
      "Hillary and Bernie: The Credibility Gap                                                                                                                                                                 1\n",
      "Poll: Trump leads ahead of New Hampshire's vote                                                                                                                                                         1\n",
      "Clinton, Trump seek more wins on Super Saturday                                                                                                                                                         1\n",
      "Cruz dares Trump to sue him over abortion ad - Trump towers: GOP primary leader hits polling high - FOX NEWS FIRST: Cruz falls under Trump pummeling - Vatican hits Trump's criticism of pope's trip    1\n",
      "Name: title, dtype: int64\n",
      "\n"
     ]
    }
   ],
   "source": [
    "for c in CANDIDS:\n",
    "    print \"Least Tweeted Stories by\", code_to_candid[c], \"Followers\"\n",
    "    print\n",
    "    print df[df.candidates == c].title.value_counts(ascending=True)[:10]\n",
    "    df[df.candidates == c].url.value_counts(ascending=True)[:10].to_csv('DATA/STANCE_VIRALITY/'+ code_to_candid[c] + '_bottom10url.csv')\n",
    "    print"
   ]
  },
  {
   "cell_type": "code",
   "execution_count": 17,
   "metadata": {
    "collapsed": false
   },
   "outputs": [
    {
     "name": "stdout",
     "output_type": "stream",
     "text": [
      "Least Tweeted Stories by Clinton Followers\n",
      "\n",
      "Mark Zuckerberg Pokes Donald Trump During Facebook Event       1\n",
      "Who is Marco Rubio?                                            1\n",
      "Does Donald Trump know what he's talking about? (Opinion)      1\n",
      "Gov. Christie Endorses Donald Trump                            1\n",
      "House Dems see leverage on security with Trump ahead           1\n",
      "Trump's Saturday delegate disaster                             1\n",
      "Donald Trump on Ted Cruz: 'They're going to sue his ass up'    1\n",
      "Erick Erickson to GOP establishment: Rally to Rubio            1\n",
      "Trump leads polls in Iowa, New Hampshire and South Carolina    1\n",
      "Ryan slams door on potential 2016 GOP nomination               1\n",
      "Name: title, dtype: int64\n",
      "\n",
      "Least Tweeted Stories by Trump Followers\n",
      "\n",
      "Donald Trump reemerges to rip media coverage of his Iowa finish    1\n",
      "Senate Judiciary GOP will talk SCOTUS strategy next week           1\n",
      "Marco's reboot: How Rubio plans to turn things around              1\n",
      "Why Trump may be hoping for a long caucus night in Iowa            1\n",
      "Biden calls GOP 2016 field 'gift from the Lord'                    1\n",
      "Trump campaign bad for biz?                                        1\n",
      "Bush: I'm 'much better looking' than Chris Christie                1\n",
      "Jeb Bush releases welfare reform proposal                          1\n",
      "Who is Donald Trump?                                               1\n",
      "Neil Bush, Jeb's brother, joins Ted Cruz's finance team            1\n",
      "Name: title, dtype: int64\n",
      "\n",
      "Least Tweeted Stories by Sanders Followers\n",
      "\n",
      "Republicans to face off at CNN debate                                              1\n",
      "Trump and Cruz to battle at town hall                                              1\n",
      "Boston Globe editorial: 'Stop Trump now'                                           1\n",
      "Donald Trump Turns to Ethanol to Fuel Fight With Ted Cruz                          1\n",
      "Donald Trump isn't even the best presidential candidate in his family              1\n",
      "All eyes on Michigan on Super Tuesday 2                                            1\n",
      "Everything you need to know about the next GOP debate                              1\n",
      "Rubio slams opponents in South Carolina                                            1\n",
      "Is Ted Cruz, born in Canada, eligible for the presidency? Legal experts say yes    1\n",
      "Donald Trump unexpectedly clears his schedule                                      1\n",
      "Name: title, dtype: int64\n",
      "\n",
      "Least Tweeted Stories by Cruz Followers\n",
      "\n",
      "Both frontrunners are playing defense in Tuesday’s Wisconsin primary     1\n",
      "Donald Trump and Ted Cruz: The Populist vs. The Preacher                 1\n",
      "Cruz does little to tamp down Super Tuesday expectations                 1\n",
      "IS THE WALL FEASIBLE? Border agents weigh in on Trump's proposed plan    1\n",
      "Cruz's big wins and other takeaways from a big weekend                   1\n",
      "Bush, allies: Rubio's abortion position would give Dems fodder           1\n",
      "To Do List: What Each GOP Candidate Must Achieve in Thursday’s Debate    1\n",
      "Full text: Donald Trump responds to Pope Francis                         1\n",
      "Marco Rubio, Hillary Clinton Pick Up Endorsements From Iowa Newspaper    1\n",
      "Trump joins his 'diversity coalition' for photo op                       1\n",
      "Name: title, dtype: int64\n",
      "\n",
      "Least Tweeted Stories by Kasich Followers\n",
      "\n",
      "Rubio's Stepford malfunction: the GOP New Hampshire debate                                                                                                                                              1\n",
      "Bernie Sanders wins big with Michigan Muslims                                                                                                                                                           1\n",
      "First congressman to back Trump: 'We need a chief executive'                                                                                                                                            1\n",
      "Republican debate: Who won Trump-Cruz smackdown?                                                                                                                                                        1\n",
      "Donald Trump Is Right About One Thing...Ish                                                                                                                                                             1\n",
      "Stripping Conservative Magazine Of Debate Is Latest Sign Of GOP's Trump Nerves                                                                                                                          1\n",
      "Hillary and Bernie: The Credibility Gap                                                                                                                                                                 1\n",
      "Poll: Trump leads ahead of New Hampshire's vote                                                                                                                                                         1\n",
      "Clinton, Trump seek more wins on Super Saturday                                                                                                                                                         1\n",
      "Cruz dares Trump to sue him over abortion ad - Trump towers: GOP primary leader hits polling high - FOX NEWS FIRST: Cruz falls under Trump pummeling - Vatican hits Trump's criticism of pope's trip    1\n",
      "Name: title, dtype: int64\n",
      "\n"
     ]
    }
   ],
   "source": [
    "for c in CANDIDS:\n",
    "    print \"Least Tweeted Stories by\", code_to_candid[c], \"Followers\"\n",
    "    print\n",
    "    print df[df.candidates == c].title.value_counts(ascending=True)[:10]\n",
    "    df[df.candidates == c].title.value_counts(ascending=True)[:10].to_csv('DATA/STANCE_VIRALITY/'+ code_to_candid[c] + '_bottom10title.csv')\n",
    "    print"
   ]
  },
  {
   "cell_type": "code",
   "execution_count": 18,
   "metadata": {
    "collapsed": false
   },
   "outputs": [
    {
     "data": {
      "text/plain": [
       "Index([u'Unnamed: 0', u'_id', u'author', u'sentiment', u'time', u'tweet',\n",
       "       u'url', u'a_id', u'title', u'date_written', u'org', u't_id',\n",
       "       u'candidates'],\n",
       "      dtype='object')"
      ]
     },
     "execution_count": 18,
     "metadata": {},
     "output_type": "execute_result"
    }
   ],
   "source": [
    "df.columns"
   ]
  },
  {
   "cell_type": "code",
   "execution_count": null,
   "metadata": {
    "collapsed": true
   },
   "outputs": [],
   "source": []
  }
 ],
 "metadata": {
  "kernelspec": {
   "display_name": "Python 2",
   "language": "python",
   "name": "python2"
  },
  "language_info": {
   "codemirror_mode": {
    "name": "ipython",
    "version": 2
   },
   "file_extension": ".py",
   "mimetype": "text/x-python",
   "name": "python",
   "nbconvert_exporter": "python",
   "pygments_lexer": "ipython2",
   "version": "2.7.11"
  }
 },
 "nbformat": 4,
 "nbformat_minor": 0
}
