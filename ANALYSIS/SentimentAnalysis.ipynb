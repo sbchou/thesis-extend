{
 "cells": [
  {
   "cell_type": "code",
   "execution_count": 1,
   "metadata": {
    "collapsed": true
   },
   "outputs": [],
   "source": [
    "import seaborn as sns\n",
    "import matplotlib.pyplot as plt\n",
    "import pandas\n",
    "%matplotlib inline\n",
    "import numpy as np\n",
    "import time"
   ]
  },
  {
   "cell_type": "markdown",
   "metadata": {},
   "source": [
    "## Hypotheses: Are stories that generate negative reactions more likely to be shared (re: hate linking etc.)"
   ]
  },
  {
   "cell_type": "code",
   "execution_count": 47,
   "metadata": {
    "collapsed": false
   },
   "outputs": [],
   "source": [
    "# all stories with 10+ tweets\n",
    "df = pandas.read_csv('DATA/GT_10_STORIES/subset_sentiment.csv', dtype={'candidates': 'S10', 'sentiment_coded': np.float32})"
   ]
  },
  {
   "cell_type": "code",
   "execution_count": 48,
   "metadata": {
    "collapsed": false
   },
   "outputs": [
    {
     "data": {
      "text/plain": [
       "{0.0, 1.0, nan, 100.0, nan, nan, nan, 10101.0, nan, -1.0, nan}"
      ]
     },
     "execution_count": 48,
     "metadata": {},
     "output_type": "execute_result"
    }
   ],
   "source": [
    "set(df.sentiment_coded)"
   ]
  },
  {
   "cell_type": "code",
   "execution_count": 49,
   "metadata": {
    "collapsed": false
   },
   "outputs": [
    {
     "data": {
      "text/plain": [
       "title\n",
       "Trump previews fight with Rubio, calls Cruz a 'nervous wreck'                                                                                                           -1\n",
       "Blame John McCain For Donald Trump                                                                                                                                      -1\n",
       "MARTIN, MIKE OUT O'Malley, Huckabee drop out of presidential race                                                                                                       -1\n",
       "Lawsuit makes claims about Trump-Ailes ties                                                                                                                             -1\n",
       "Judge dismisses attempt to kick Cruz off New York ballot                                                                                                                -1\n",
       "Jeb Bush: Donald Trump's debate boycott will hurt him in Iowa                                                                                                           -1\n",
       "Brooks cites Cruz's 'dark and satanic tones'                                                                                                                            -1\n",
       "Bure: 'Disappointed' in GOP                                                                                                                                             -1\n",
       "Bush calls Trump 'loser'                                                                                                                                                -1\n",
       "Trump campaign bad for biz?                                                                                                                                             -1\n",
       "Jeb Bush mocks Trump's debate boycott: 'Poor little Donald, being mistreated'                                                                                           -1\n",
       "Huffington Post stories to come with note calling Trump a 'racist' and 'liar'                                                                                           -1\n",
       "Heading Into Iowa, GOP Candidates Clash But Fail To Derail The Trump Express                                                                                            -1\n",
       "Trump's Humiliating Fox News--Here's What It Means                                                                                                                      -1\n",
       "Trump's Mar-a-Lago hires hundreds of foreign workers                                                                                                                    -1\n",
       "GOP rivals mock Trump, try to make the most of his absence                                                                                                              -1\n",
       "Trump's love-hate relationship with the Clintons                                                                                                                        -1\n",
       "GOP is one unhappy family                                                                                                                                               -1\n",
       "Trump, Indiana and the Tragedy of Great Trade War Politics                                                                                                              -1\n",
       "Trump on taxes: 'I fight like hell not to pay'                                                                                                                          -1\n",
       "Trump: Obama was 'sincere' when he cried about gun victims                                                                                                              -1\n",
       "Bitter GOP divisions are like nothing the party has seen before                                                                                                         -1\n",
       "Bill Clinton rape accuser says she's backing Trump                                                                                                                      -1\n",
       "Ted Cruz: Wisconsin voters 'resoundingly rejected' Donald Trump                                                                                                         -1\n",
       "At Trump Rallies, Buttons Promising Death to ISIS and Prison to Clinton Sell Briskly                                                                                    -1\n",
       "Teenager in Clash at Trump Rally                                                                                                                                        -1\n",
       "TRUMP ABORTION RESET  Walks back remark about &lsquo;punishment&rsquo; for women                                                                                        -1\n",
       "The Bizarre and Scary World of Republicans                                                                                                                              -1\n",
       "TODD PALIN ACCIDENT Hospitalized after serious snow machine incident                                                                                                    -1\n",
       "Sanders' camp serves DNC with lawsuit over voter data                                                                                                                   -1\n",
       "                                                                                                                                                                        ..\n",
       "Bush                                                                                                                                                                     1\n",
       "As Iowa looms, GOP wonders: Does Trump have fans, or voters?                                                                                                             1\n",
       "Conservatives Emerge Strong In Latest Republican Debate                                                                                                                  1\n",
       "Clinton and Sanders spar over who can win in November                                                                                                                    1\n",
       "The Cruz Eligibility Question: Legal Scholars Weigh In                                                                                                                   1\n",
       "Iowa caucuses leave Republican and Democratic contests far from settled                                                                                                  1\n",
       "As Iowa looms, GOP wonders: does Trump have fans, or voters?                                                                                                             1\n",
       "Conservative group takes aim at Trump in new campaign                                                                                                                    1\n",
       "Thanks to Bernie Sanders America is Ceasing to Listen to The False Oracles of Mainstream Media                                                                           1\n",
       "Ted Cruz: 'CNN got it correct'                                                                                                                                           1\n",
       "Ted Cruz, worried about Super Tuesday, hunting for delegates                                                                                                             1\n",
       "Ted Cruz's conventional campaign to win Iowa                                                                                                                             1\n",
       "Economic Anxieties Confront Candidates                                                                                                                                   1\n",
       "Is Trump for real? One question New Hampshire will answer                                                                                                                1\n",
       "BERNIE HELPING HILL? Sanders stayin' alive helps Clinton stay in spotlight                                                                                               1\n",
       "It's Time for Hillary Clinton to Concede the Democratic Nomination to Bernie Sanders                                                                                     1\n",
       "Debate Tactics: Can Obama Boost Hillary Over The Top?                                                                                                                    1\n",
       "Florida Gov. Rick Scott praises Donald Trump in op-ed                                                                                                                    1\n",
       "Debate coach: A lesson in taking down Trump                                                                                                                              1\n",
       "JAB AT TRUMP? McConnell 'optimistic' for GOP contested convention                                                                                                        1\n",
       "Ted Cruz ad in South Carolina hits Trump's character                                                                                                                     1\n",
       "Carson NH PAC staff defects to Cruz                                                                                                                                      1\n",
       "Ted Cruz Gets a Texas Welcome in New Hampshire                                                                                                                           1\n",
       "Ted Cruz Gains Endorsement of Duck Dynasty's Phil Robertson                                                                                                              1\n",
       "Democratic mayor to challenge GOP's Rand Paul in Senate race                                                                                                             1\n",
       "TRUMP, CLINTON ROLL ON AS RUBIO'S RUN COMES TO AN END Frontrunners score impressive wins, Kasich moves on with Ohio victory   &#8212; so where does GOP go from here?    1\n",
       "TRUMP TAKES ON POPE Candidate claims pontiff doesn't get immigration                                                                                                     1\n",
       "5 Reasons Bernie Sanders Will Win the Presidency in a Landslide                                                                                                          1\n",
       "The GOP's Super Doomsday                                                                                                                                                 1\n",
       "‘Trump Is Falling Fast’: An Election Gambler Predicts New Hampshire                                                                                                      1\n",
       "Name: sentiment_coded, dtype: float32"
      ]
     },
     "execution_count": 49,
     "metadata": {},
     "output_type": "execute_result"
    }
   ],
   "source": [
    "df.groupby('title')['sentiment_coded'].mean().sort_values()"
   ]
  },
  {
   "cell_type": "code",
   "execution_count": 52,
   "metadata": {
    "collapsed": false
   },
   "outputs": [],
   "source": [
    "by_title = df.groupby('title')\n",
    "df['sentiment_mean'] = by_title['sentiment_coded'].transform(lambda x: np.mean(x)) \n",
    "df['num_tweets'] = by_title['tweet'].transform(lambda x: len(x)) "
   ]
  },
  {
   "cell_type": "code",
   "execution_count": 53,
   "metadata": {
    "collapsed": false
   },
   "outputs": [
    {
     "data": {
      "text/html": [
       "<div>\n",
       "<table border=\"1\" class=\"dataframe\">\n",
       "  <thead>\n",
       "    <tr style=\"text-align: right;\">\n",
       "      <th></th>\n",
       "      <th>Unnamed: 0</th>\n",
       "      <th>sentiment_coded</th>\n",
       "      <th>url</th>\n",
       "      <th>title</th>\n",
       "      <th>tweet</th>\n",
       "      <th>candidates</th>\n",
       "      <th>a_id</th>\n",
       "      <th>sentiment_mean</th>\n",
       "      <th>num_tweets</th>\n",
       "    </tr>\n",
       "  </thead>\n",
       "  <tbody>\n",
       "    <tr>\n",
       "      <th>46134</th>\n",
       "      <td>53277</td>\n",
       "      <td>1</td>\n",
       "      <td>http://www.politico.com/playbook/2016/01/donal...</td>\n",
       "      <td>#DonaldDuck: TRUMP WALKS INTO TRAP? Empty podi...</td>\n",
       "      <td>Geoff Garin polled 160 political insiders and ...</td>\n",
       "      <td>11111</td>\n",
       "      <td>5693202ed0c92c3659461152bfc6b67d</td>\n",
       "      <td>-0.2</td>\n",
       "      <td>10</td>\n",
       "    </tr>\n",
       "    <tr>\n",
       "      <th>49507</th>\n",
       "      <td>56952</td>\n",
       "      <td>-1</td>\n",
       "      <td>http://www.politico.com/playbook/2016/01/donal...</td>\n",
       "      <td>#DonaldDuck: TRUMP WALKS INTO TRAP? Empty podi...</td>\n",
       "      <td>DonaldDuck: TRUMP WALKS INTO TRAP? ... (Politi...</td>\n",
       "      <td>00000</td>\n",
       "      <td>5693202ed0c92c3659461152bfc6b67d</td>\n",
       "      <td>-0.2</td>\n",
       "      <td>10</td>\n",
       "    </tr>\n",
       "    <tr>\n",
       "      <th>15801</th>\n",
       "      <td>18277</td>\n",
       "      <td>0</td>\n",
       "      <td>http://www.politico.com/playbook/2016/01/donal...</td>\n",
       "      <td>#DonaldDuck: TRUMP WALKS INTO TRAP? Empty podi...</td>\n",
       "      <td>#TheNewsClub #DonaldDuck: TRUMP WALKS INTO TRA...</td>\n",
       "      <td>00100</td>\n",
       "      <td>5693202ed0c92c3659461152bfc6b67d</td>\n",
       "      <td>-0.2</td>\n",
       "      <td>10</td>\n",
       "    </tr>\n",
       "    <tr>\n",
       "      <th>80376</th>\n",
       "      <td>90998</td>\n",
       "      <td>0</td>\n",
       "      <td>http://www.politico.com/playbook/2016/01/donal...</td>\n",
       "      <td>#DonaldDuck: TRUMP WALKS INTO TRAP? Empty podi...</td>\n",
       "      <td>In @POLITICO Playbook: #DonaldDuck: Trump walk...</td>\n",
       "      <td>11111</td>\n",
       "      <td>5693202ed0c92c3659461152bfc6b67d</td>\n",
       "      <td>-0.2</td>\n",
       "      <td>10</td>\n",
       "    </tr>\n",
       "    <tr>\n",
       "      <th>84984</th>\n",
       "      <td>96037</td>\n",
       "      <td>-1</td>\n",
       "      <td>http://www.politico.com/playbook/2016/01/donal...</td>\n",
       "      <td>#DonaldDuck: TRUMP WALKS INTO TRAP? Empty podi...</td>\n",
       "      <td>#DonaldDuck: TRUMP WALKS INTO TRAP? Empty podi...</td>\n",
       "      <td>00001</td>\n",
       "      <td>5693202ed0c92c3659461152bfc6b67d</td>\n",
       "      <td>-0.2</td>\n",
       "      <td>10</td>\n",
       "    </tr>\n",
       "  </tbody>\n",
       "</table>\n",
       "</div>"
      ],
      "text/plain": [
       "      Unnamed: 0  sentiment_coded  \\\n",
       "46134      53277                1   \n",
       "49507      56952               -1   \n",
       "15801      18277                0   \n",
       "80376      90998                0   \n",
       "84984      96037               -1   \n",
       "\n",
       "                                                     url  \\\n",
       "46134  http://www.politico.com/playbook/2016/01/donal...   \n",
       "49507  http://www.politico.com/playbook/2016/01/donal...   \n",
       "15801  http://www.politico.com/playbook/2016/01/donal...   \n",
       "80376  http://www.politico.com/playbook/2016/01/donal...   \n",
       "84984  http://www.politico.com/playbook/2016/01/donal...   \n",
       "\n",
       "                                                   title  \\\n",
       "46134  #DonaldDuck: TRUMP WALKS INTO TRAP? Empty podi...   \n",
       "49507  #DonaldDuck: TRUMP WALKS INTO TRAP? Empty podi...   \n",
       "15801  #DonaldDuck: TRUMP WALKS INTO TRAP? Empty podi...   \n",
       "80376  #DonaldDuck: TRUMP WALKS INTO TRAP? Empty podi...   \n",
       "84984  #DonaldDuck: TRUMP WALKS INTO TRAP? Empty podi...   \n",
       "\n",
       "                                                   tweet candidates  \\\n",
       "46134  Geoff Garin polled 160 political insiders and ...      11111   \n",
       "49507  DonaldDuck: TRUMP WALKS INTO TRAP? ... (Politi...      00000   \n",
       "15801  #TheNewsClub #DonaldDuck: TRUMP WALKS INTO TRA...      00100   \n",
       "80376  In @POLITICO Playbook: #DonaldDuck: Trump walk...      11111   \n",
       "84984  #DonaldDuck: TRUMP WALKS INTO TRAP? Empty podi...      00001   \n",
       "\n",
       "                                   a_id  sentiment_mean num_tweets  \n",
       "46134  5693202ed0c92c3659461152bfc6b67d            -0.2         10  \n",
       "49507  5693202ed0c92c3659461152bfc6b67d            -0.2         10  \n",
       "15801  5693202ed0c92c3659461152bfc6b67d            -0.2         10  \n",
       "80376  5693202ed0c92c3659461152bfc6b67d            -0.2         10  \n",
       "84984  5693202ed0c92c3659461152bfc6b67d            -0.2         10  "
      ]
     },
     "execution_count": 53,
     "metadata": {},
     "output_type": "execute_result"
    }
   ],
   "source": [
    "df.sort_values('title').head()"
   ]
  },
  {
   "cell_type": "code",
   "execution_count": 56,
   "metadata": {
    "collapsed": false
   },
   "outputs": [],
   "source": [
    "df_senti = df.drop_duplicates(subset='title')[['url','title','sentiment_mean','num_tweets']]"
   ]
  },
  {
   "cell_type": "code",
   "execution_count": 59,
   "metadata": {
    "collapsed": false
   },
   "outputs": [],
   "source": [
    "df_senti.to_csv(\"DATA/GT_10_STORIES/sentiment_numtweets.csv\")"
   ]
  },
  {
   "cell_type": "code",
   "execution_count": 77,
   "metadata": {
    "collapsed": false
   },
   "outputs": [],
   "source": [
    "x = list(df_senti.sentiment_mean)\n",
    "y = list(df_senti.num_tweets)\n",
    "y = [float(i) for i in y]"
   ]
  },
  {
   "cell_type": "code",
   "execution_count": 82,
   "metadata": {
    "collapsed": false
   },
   "outputs": [
    {
     "data": {
      "image/png": "[encoded data removed]",
      "text/plain": [
       "<matplotlib.figure.Figure at 0x1204be650>"
      ]
     },
     "metadata": {},
     "output_type": "display_data"
    }
   ],
   "source": [
    "plt.scatter(x,y)\n",
    "plt.xlim([-1,1])\n",
    "plt.ylim([0,1400])\n",
    "plt.title('Tweet Sentiment vs. Volume')\n",
    "plt.ylabel('Number of Tweets')\n",
    "plt.xlabel('Average Sentiment of Tweets')\n",
    "plt.tight_layout()\n",
    "plt.savefig('FIGS/SUBSET/sent_vs_volume.png')"
   ]
  },
  {
   "cell_type": "code",
   "execution_count": 79,
   "metadata": {
    "collapsed": false
   },
   "outputs": [
    {
     "name": "stdout",
     "output_type": "stream",
     "text": [
      "(nan, 1.0)\n"
     ]
    }
   ],
   "source": [
    "from scipy.stats.stats import pearsonr   \n",
    "print pearsonr(x,y)"
   ]
  },
  {
   "cell_type": "code",
   "execution_count": null,
   "metadata": {
    "collapsed": false
   },
   "outputs": [],
   "source": []
  },
  {
   "cell_type": "code",
   "execution_count": null,
   "metadata": {
    "collapsed": true
   },
   "outputs": [],
   "source": []
  }
 ],
 "metadata": {
  "kernelspec": {
   "display_name": "Python 2",
   "language": "python",
   "name": "python2"
  },
  "language_info": {
   "codemirror_mode": {
    "name": "ipython",
    "version": 2
   },
   "file_extension": ".py",
   "mimetype": "text/x-python",
   "name": "python",
   "nbconvert_exporter": "python",
   "pygments_lexer": "ipython2",
   "version": "2.7.11"
  }
 },
 "nbformat": 4,
 "nbformat_minor": 0
}
