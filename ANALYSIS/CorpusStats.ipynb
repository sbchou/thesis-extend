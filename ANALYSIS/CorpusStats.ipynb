{
 "cells": [
  {
   "cell_type": "code",
   "execution_count": 60,
   "metadata": {
    "collapsed": true
   },
   "outputs": [],
   "source": [
    "import seaborn as sns\n",
    "import matplotlib.pyplot as plt\n",
    "import pandas\n",
    "%matplotlib inline\n",
    "import numpy as np"
   ]
  },
  {
   "cell_type": "code",
   "execution_count": 6,
   "metadata": {
    "collapsed": true
   },
   "outputs": [],
   "source": [
    "df = pandas.read_csv('DATA/JOINED/ALL.JOINED', names=['aid','title','date_written','org','tid'])"
   ]
  },
  {
   "cell_type": "code",
   "execution_count": 7,
   "metadata": {
    "collapsed": false
   },
   "outputs": [
    {
     "data": {
      "text/plain": [
       "Index([u'aid', u'title', u'date_written', u'org', u'tid'], dtype='object')"
      ]
     },
     "execution_count": 7,
     "metadata": {},
     "output_type": "execute_result"
    }
   ],
   "source": [
    "df.columns"
   ]
  },
  {
   "cell_type": "code",
   "execution_count": 12,
   "metadata": {
    "collapsed": false
   },
   "outputs": [
    {
     "name": "stdout",
     "output_type": "stream",
     "text": [
      "total stories: 137986\n"
     ]
    }
   ],
   "source": [
    "print \"total stories:\",len(df)"
   ]
  },
  {
   "cell_type": "code",
   "execution_count": 85,
   "metadata": {
    "collapsed": false
   },
   "outputs": [
    {
     "data": {
      "text/plain": [
       "<matplotlib.axes._subplots.AxesSubplot at 0x11a975610>"
      ]
     },
     "execution_count": 85,
     "metadata": {},
     "output_type": "execute_result"
    },
    {
     "data": {
      "image/png": "[encoded data removed]",
      "text/plain": [
       "<matplotlib.figure.Figure at 0x117e762d0>"
      ]
     },
     "metadata": {},
     "output_type": "display_data"
    }
   ],
   "source": [
    "df.org.value_counts().plot(kind='bar', title='Story Shares by Publication')"
   ]
  },
  {
   "cell_type": "code",
   "execution_count": 25,
   "metadata": {
    "collapsed": false
   },
   "outputs": [
    {
     "name": "stdout",
     "output_type": "stream",
     "text": [
      "Number unique stories: 6912\n"
     ]
    }
   ],
   "source": [
    "print \"Number unique stories:\",len(df.title.unique())"
   ]
  },
  {
   "cell_type": "code",
   "execution_count": 116,
   "metadata": {
    "collapsed": false
   },
   "outputs": [],
   "source": [
    "story_counts = list(df.title.value_counts())\n",
    "# list like [1262, 901, ....num_tweets, num_tweets... 1, 1, 1]\n",
    " "
   ]
  },
  {
   "cell_type": "code",
   "execution_count": 121,
   "metadata": {
    "collapsed": false
   },
   "outputs": [
    {
     "data": {
      "image/png": "[encoded data removed]",
      "text/plain": [
       "<matplotlib.figure.Figure at 0x10d574bd0>"
      ]
     },
     "metadata": {},
     "output_type": "display_data"
    }
   ],
   "source": [
    "plt.plot(story_counts)\n",
    "plt.title(\"Story Share Distribution\")\n",
    "plt.xlabel(\"Story ID\")\n",
    "plt.ylabel(\"Number of Times Story was Shared\")\n",
    "plt.savefig('FIGS/story_dist.png')"
   ]
  },
  {
   "cell_type": "code",
   "execution_count": 109,
   "metadata": {
    "collapsed": false
   },
   "outputs": [],
   "source": [
    "#plt.plot(df.title.value_counts())\n",
    "#df.title.value_counts().plot()\n",
    "#plt.title(\"Story Share Distribution\")\n",
    "#plt.xlabel(\"Stories Shared X Times\")\n",
    "#plt.ylabel(\"Count\")\n",
    "#plt.savefig('FIGS/story_dist.png')"
   ]
  },
  {
   "cell_type": "code",
   "execution_count": 84,
   "metadata": {
    "collapsed": false
   },
   "outputs": [
    {
     "data": {
      "text/plain": [
       "count    6911.000000\n",
       "mean       19.940530\n",
       "std        42.788286\n",
       "min         1.000000\n",
       "10%         1.000000\n",
       "25%         2.000000\n",
       "50%         6.000000\n",
       "75%        19.000000\n",
       "99%       194.900000\n",
       "max      1262.000000\n",
       "Name: title, dtype: float64"
      ]
     },
     "execution_count": 84,
     "metadata": {},
     "output_type": "execute_result"
    }
   ],
   "source": [
    "df.title.value_counts().describe(percentiles=[.10,.25,.5,.75,.99])"
   ]
  },
  {
   "cell_type": "code",
   "execution_count": 88,
   "metadata": {
    "collapsed": false
   },
   "outputs": [
    {
     "data": {
      "text/plain": [
       "The One Weird Trait That Predicts Whether You’re a Trump Supporter           1262\n",
       "Donald Trump Is Shocking, Vulgar and Right                                    901\n",
       "Biden praises Sanders on income inequality                                    563\n",
       "Why I'm voting for Trump                                                      554\n",
       "Anne Frank's stepsister compares Donald Trump to Adolf Hitler                 445\n",
       "Trump basks in his spotlight                                                  436\n",
       "Rubio: Law-abiding undocumented immigrants could stay                         413\n",
       "Terrorists use Trump's 'Muslim ban' speech in recruitment video               398\n",
       "Iowa caucuses: Donald Trump's moment of truth                                 364\n",
       "GOP senators: If Cruz wins, we lose                                           357\n",
       "Cruz, Kasich join forces to stop Trump                                        346\n",
       "FOX NEWS POLL  Trump gains in Iowa, dominates New Hampshire                   331\n",
       "Trump campaign silent on veterans' groups receiving funds                     313\n",
       "Poll: Trump dominates GOP field                                               312\n",
       "National Review, conservative thinkers stand against Donald Trump             312\n",
       "Republican elders ask 'who's worse' for the GOP brand: Trump or Cruz          310\n",
       "Campaigns lower expectations in Iowa, brace for Trump win                     308\n",
       "TODD STARNES School caught trying to get students to work for Hillary         305\n",
       "Donald Trump, Bernie Sanders hold solid leads in Iowa, CNN/ORC poll finds     296\n",
       "NEXT ROUND: Fox News announces lineup for GOP prime time debate               292\n",
       "GOP's Trump revolt: Too little too late?                                      287\n",
       "FOX NEWS POLL  Trump, Cruz top GOP race, few have 'birther' concerns          282\n",
       "South Carolina heads to the polls after GOP brawl                             281\n",
       "Trump won't disavow KKK                                                       275\n",
       "Glenn Beck: Donald Trump shooting remark 'dangerous'                          274\n",
       "Name: title, dtype: int64"
      ]
     },
     "execution_count": 88,
     "metadata": {},
     "output_type": "execute_result"
    }
   ],
   "source": [
    "df.title.value_counts()[:25]\n",
    "#.plot(kind='bar', title=\"Top 25 Stories\")"
   ]
  },
  {
   "cell_type": "code",
   "execution_count": null,
   "metadata": {
    "collapsed": false
   },
   "outputs": [],
   "source": [
    " "
   ]
  },
  {
   "cell_type": "code",
   "execution_count": null,
   "metadata": {
    "collapsed": true
   },
   "outputs": [],
   "source": []
  }
 ],
 "metadata": {
  "kernelspec": {
   "display_name": "Python 2",
   "language": "python",
   "name": "python2"
  },
  "language_info": {
   "codemirror_mode": {
    "name": "ipython",
    "version": 2
   },
   "file_extension": ".py",
   "mimetype": "text/x-python",
   "name": "python",
   "nbconvert_exporter": "python",
   "pygments_lexer": "ipython2",
   "version": "2.7.11"
  }
 },
 "nbformat": 4,
 "nbformat_minor": 0
}
