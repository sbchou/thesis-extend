{
 "cells": [
  {
   "cell_type": "markdown",
   "metadata": {},
   "source": [
    "## Code story for candidate it's about\n",
    "* get number of mentions of ea candidate / story (raw)\n",
    "* mark as dominating candidate"
   ]
  },
  {
   "cell_type": "code",
   "execution_count": 1,
   "metadata": {
    "collapsed": true
   },
   "outputs": [],
   "source": [
    "import seaborn as sns\n",
    "import matplotlib.pyplot as plt\n",
    "import pandas\n",
    "%matplotlib inline\n",
    "import numpy as np"
   ]
  },
  {
   "cell_type": "code",
   "execution_count": 2,
   "metadata": {
    "collapsed": true
   },
   "outputs": [],
   "source": [
    "from collections import Counter\n",
    "import re"
   ]
  },
  {
   "cell_type": "code",
   "execution_count": 3,
   "metadata": {
    "collapsed": true
   },
   "outputs": [],
   "source": [
    "df = pandas.read_csv('DATA/GT_10_STORIES/url_body_complete.csv',index_col=0)"
   ]
  },
  {
   "cell_type": "code",
   "execution_count": 4,
   "metadata": {
    "collapsed": false
   },
   "outputs": [
    {
     "name": "stdout",
     "output_type": "stream",
     "text": [
      "2718\n"
     ]
    }
   ],
   "source": [
    "# drop nulls\n",
    "df = df.dropna()\n",
    "print len(df) # should be 2718 remaining stories"
   ]
  },
  {
   "cell_type": "markdown",
   "metadata": {},
   "source": [
    "## Find mentions"
   ]
  },
  {
   "cell_type": "code",
   "execution_count": 5,
   "metadata": {
    "collapsed": true
   },
   "outputs": [],
   "source": [
    "candids = ['TRUMP', 'CLINTON', 'SANDERS', 'CRUZ']"
   ]
  },
  {
   "cell_type": "code",
   "execution_count": 6,
   "metadata": {
    "collapsed": false
   },
   "outputs": [],
   "source": [
    "df['body_upper'] = df.body.apply(lambda row: row.upper())"
   ]
  },
  {
   "cell_type": "code",
   "execution_count": 7,
   "metadata": {
    "collapsed": false
   },
   "outputs": [],
   "source": [
    "#df.to_csv('DATA/GT_10_STORIES/url_body_UPPER.csv')"
   ]
  },
  {
   "cell_type": "code",
   "execution_count": 8,
   "metadata": {
    "collapsed": true
   },
   "outputs": [],
   "source": [
    "def count_candids(body): \n",
    "    count = Counter(re.findall(\"[A-Z]{2,}(?![a-z])|[A-Z][a-z]+(?=[A-Z])|[\\'\\w\\-]+\", body))\n",
    "    return {key: count[key] for key in count if key in candids}"
   ]
  },
  {
   "cell_type": "code",
   "execution_count": 9,
   "metadata": {
    "collapsed": true
   },
   "outputs": [],
   "source": [
    "def count_positiv(body): \n",
    "    count = Counter(re.findall(\"[A-Z]{2,}(?![a-z])|[A-Z][a-z]+(?=[A-Z])|[\\'\\w\\-]+\", body))\n",
    "    return len({key: count[key] for key in count if key in positiv}.values())"
   ]
  },
  {
   "cell_type": "code",
   "execution_count": 10,
   "metadata": {
    "collapsed": true
   },
   "outputs": [],
   "source": [
    "def top_candid(body): \n",
    "    count = Counter(re.findall(\"[A-Z]{2,}(?![a-z])|[A-Z][a-z]+(?=[A-Z])|[\\'\\w\\-]+\", body))\n",
    "    c =  Counter({key: count[key] for key in count if key in candids}).most_common(1)\n",
    "    if c:\n",
    "        return c[0][0]\n",
    "    else:\n",
    "        return None"
   ]
  },
  {
   "cell_type": "code",
   "execution_count": 11,
   "metadata": {
    "collapsed": false
   },
   "outputs": [],
   "source": [
    "df['counts'] = df.body_upper.apply(lambda body: count_candids(body))"
   ]
  },
  {
   "cell_type": "code",
   "execution_count": 12,
   "metadata": {
    "collapsed": false
   },
   "outputs": [],
   "source": [
    "df['top_candid'] = df.body_upper.apply(lambda body: top_candid(body))"
   ]
  },
  {
   "cell_type": "code",
   "execution_count": 13,
   "metadata": {
    "collapsed": false
   },
   "outputs": [
    {
     "data": {
      "text/plain": [
       "9      CRUZ\n",
       "11     CRUZ\n",
       "20    TRUMP\n",
       "21     CRUZ\n",
       "25    TRUMP\n",
       "Name: top_candid, dtype: object"
      ]
     },
     "execution_count": 13,
     "metadata": {},
     "output_type": "execute_result"
    }
   ],
   "source": [
    "df.top_candid.head()"
   ]
  },
  {
   "cell_type": "code",
   "execution_count": 14,
   "metadata": {
    "collapsed": false
   },
   "outputs": [],
   "source": [
    "#df.to_csv(\"DATA/FOR_CORR/candid_coded.csv\")"
   ]
  },
  {
   "cell_type": "code",
   "execution_count": 15,
   "metadata": {
    "collapsed": false
   },
   "outputs": [
    {
     "data": {
      "text/plain": [
       "Index([u'url', u'body', u'body_upper', u'counts', u'top_candid'], dtype='object')"
      ]
     },
     "execution_count": 15,
     "metadata": {},
     "output_type": "execute_result"
    }
   ],
   "source": [
    "df.columns"
   ]
  },
  {
   "cell_type": "code",
   "execution_count": 16,
   "metadata": {
    "collapsed": false
   },
   "outputs": [
    {
     "data": {
      "text/plain": [
       "Index([u'_id', u'author', u'sentiment', u'time', u'url', u'a_id',\n",
       "       u'date_written', u'org', u't_id', u'candidates', u'candid_camp',\n",
       "       u'num_tweets', u'sentiment_mean', u'num_tweets_all', u'wc',\n",
       "       u'negativ_ct', u'positiv_ct', u'negativ_percent', u'positiv_percent',\n",
       "       u'emotionality', u'positivity'],\n",
       "      dtype='object')"
      ]
     },
     "execution_count": 16,
     "metadata": {},
     "output_type": "execute_result"
    }
   ],
   "source": [
    "emot = pandas.read_csv(\"DATA/FOR_CORR/all_segments_no_title.csv\", index_col=0)\n",
    "emot.columns"
   ]
  },
  {
   "cell_type": "code",
   "execution_count": 17,
   "metadata": {
    "collapsed": false
   },
   "outputs": [],
   "source": [
    "joined = pandas.merge(emot, df, left_on=emot.url, right_on=df.url )"
   ]
  },
  {
   "cell_type": "code",
   "execution_count": null,
   "metadata": {
    "collapsed": false
   },
   "outputs": [],
   "source": []
  },
  {
   "cell_type": "code",
   "execution_count": 18,
   "metadata": {
    "collapsed": false
   },
   "outputs": [
    {
     "data": {
      "text/plain": [
       "Index([u'_id', u'author', u'sentiment', u'time', u'url_x', u'a_id',\n",
       "       u'date_written', u'org', u't_id', u'candidates', u'candid_camp',\n",
       "       u'num_tweets', u'sentiment_mean', u'num_tweets_all', u'wc',\n",
       "       u'negativ_ct', u'positiv_ct', u'negativ_percent', u'positiv_percent',\n",
       "       u'emotionality', u'positivity', u'url_y', u'body', u'body_upper',\n",
       "       u'counts', u'top_candid'],\n",
       "      dtype='object')"
      ]
     },
     "execution_count": 18,
     "metadata": {},
     "output_type": "execute_result"
    }
   ],
   "source": [
    "joined.columns"
   ]
  },
  {
   "cell_type": "code",
   "execution_count": 19,
   "metadata": {
    "collapsed": false
   },
   "outputs": [],
   "source": [
    "joined.rename(columns={'url_x': 'url'}, inplace=True)"
   ]
  },
  {
   "cell_type": "code",
   "execution_count": 20,
   "metadata": {
    "collapsed": false
   },
   "outputs": [],
   "source": [
    "joined[[u'_id', u'author', u'sentiment', u'time', u'url', u'a_id',\n",
    "       u'date_written', u'org', u't_id', u'candidates', u'candid_camp',\n",
    "       u'num_tweets', u'sentiment_mean', u'num_tweets_all', u'wc',\n",
    "       u'negativ_ct', u'positiv_ct', u'negativ_percent', u'positiv_percent',\n",
    "       u'emotionality', u'positivity',\n",
    "       u'counts', u'top_candid']].to_csv(\"DATA/FOR_CORR/candid_coded_all_tweets.csv\")"
   ]
  },
  {
   "cell_type": "code",
   "execution_count": 21,
   "metadata": {
    "collapsed": false
   },
   "outputs": [],
   "source": [
    "df = joined.drop_duplicates('url')\n"
   ]
  },
  {
   "cell_type": "code",
   "execution_count": 22,
   "metadata": {
    "collapsed": false
   },
   "outputs": [
    {
     "data": {
      "text/plain": [
       "2579"
      ]
     },
     "execution_count": 22,
     "metadata": {},
     "output_type": "execute_result"
    }
   ],
   "source": [
    "len(df)"
   ]
  },
  {
   "cell_type": "code",
   "execution_count": 23,
   "metadata": {
    "collapsed": false
   },
   "outputs": [],
   "source": [
    "df[[u'_id', u'author', u'sentiment', u'time', u'url', u'a_id',\n",
    "       u'date_written', u'org', u't_id', u'candidates', u'candid_camp',\n",
    "       u'num_tweets', u'sentiment_mean', u'num_tweets_all', u'wc',\n",
    "       u'negativ_ct', u'positiv_ct', u'negativ_percent', u'positiv_percent',\n",
    "       u'emotionality', u'positivity',\n",
    "       u'counts', u'top_candid']].to_csv(\"DATA/FOR_CORR/candid_coded_by_story.csv\")"
   ]
  }
 ],
 "metadata": {
  "kernelspec": {
   "display_name": "Python 2",
   "language": "python",
   "name": "python2"
  },
  "language_info": {
   "codemirror_mode": {
    "name": "ipython",
    "version": 2
   },
   "file_extension": ".py",
   "mimetype": "text/x-python",
   "name": "python",
   "nbconvert_exporter": "python",
   "pygments_lexer": "ipython2",
   "version": "2.7.11"
  }
 },
 "nbformat": 4,
 "nbformat_minor": 0
}
