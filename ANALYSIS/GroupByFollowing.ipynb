{
 "cells": [
  {
   "cell_type": "markdown",
   "metadata": {},
   "source": [
    " "
   ]
  },
  {
   "cell_type": "markdown",
   "metadata": {},
   "source": [
    "## Divide into Broad Segments\n",
    "* single candidate followers\n",
    "* all 4/5 candidates\n",
    "* no candidates\n",
    "To check behavioral differences, validate single candidate followers as a segment"
   ]
  },
  {
   "cell_type": "code",
   "execution_count": 1,
   "metadata": {
    "collapsed": true
   },
   "outputs": [],
   "source": [
    "import seaborn as sns\n",
    "import matplotlib.pyplot as plt\n",
    "import pandas\n",
    "%matplotlib inline\n",
    "import numpy as np\n",
    "from IPython.display import display, HTML\n",
    "pandas.set_option('max_colwidth', 1000)"
   ]
  },
  {
   "cell_type": "code",
   "execution_count": 2,
   "metadata": {
    "collapsed": true
   },
   "outputs": [],
   "source": [
    "all_users = pandas.read_csv('DATA/GT_10_STORIES/all.csv', \n",
    "                          dtype={'candidates': 'S10'},\n",
    "                         index_col=0)"
   ]
  },
  {
   "cell_type": "code",
   "execution_count": 3,
   "metadata": {
    "collapsed": false
   },
   "outputs": [
    {
     "name": "stdout",
     "output_type": "stream",
     "text": [
      "Index([u'_id', u'author', u'sentiment', u'time', u'tweet', u'url', u'a_id',\n",
      "       u'title', u'date_written', u'org', u't_id', u'candidates'],\n",
      "      dtype='object')\n"
     ]
    },
    {
     "data": {
      "text/plain": [
       "20964"
      ]
     },
     "execution_count": 3,
     "metadata": {},
     "output_type": "execute_result"
    }
   ],
   "source": [
    "print all_users.columns\n",
    "len(all_users.author.unique())"
   ]
  },
  {
   "cell_type": "code",
   "execution_count": 4,
   "metadata": {
    "collapsed": false
   },
   "outputs": [],
   "source": [
    "with_emot = pandas.read_csv('DATA/FOR_CORR/all_fields_no_body.csv', \n",
    "                            index_col=0)"
   ]
  },
  {
   "cell_type": "code",
   "execution_count": 5,
   "metadata": {
    "collapsed": false
   },
   "outputs": [
    {
     "name": "stdout",
     "output_type": "stream",
     "text": [
      "2651\n"
     ]
    }
   ],
   "source": [
    "print len(with_emot) # Number of Stories with emotional analysis"
   ]
  },
  {
   "cell_type": "code",
   "execution_count": null,
   "metadata": {
    "collapsed": false
   },
   "outputs": [],
   "source": []
  },
  {
   "cell_type": "code",
   "execution_count": 6,
   "metadata": {
    "collapsed": false
   },
   "outputs": [
    {
     "name": "stdout",
     "output_type": "stream",
     "text": [
      "url, title, sentiment_mean, num_tweets, wc, negativ_ct, positiv_ct, negativ_percent, positiv_percent, emotionality, positivity\n",
      "\n",
      "_id, author, sentiment, time, tweet, url, a_id, title, date_written, org, t_id, candidates\n"
     ]
    }
   ],
   "source": [
    "print \", \".join(with_emot.columns)\n",
    "print\n",
    "print \", \".join(all_users.columns)"
   ]
  },
  {
   "cell_type": "code",
   "execution_count": 7,
   "metadata": {
    "collapsed": false
   },
   "outputs": [
    {
     "name": "stdout",
     "output_type": "stream",
     "text": [
      "20964\n"
     ]
    }
   ],
   "source": [
    "#all_users = all_users.drop_duplicates('author')\n",
    "#all_users = all_users[all_users.candidates.notnull()]\n",
    "print len(all_users.author.unique())"
   ]
  },
  {
   "cell_type": "markdown",
   "metadata": {
    "collapsed": false
   },
   "source": [
    "## Segments are:\n",
    "* only one candidate\n",
    "* more than one candidate\n",
    "* all four or 5 candidates\n",
    "* no candidates"
   ]
  },
  {
   "cell_type": "code",
   "execution_count": 8,
   "metadata": {
    "collapsed": false
   },
   "outputs": [],
   "source": [
    "all_users['candid_ct'] = all_users.candidates.apply(lambda x: x.count('1') if x else 0)"
   ]
  },
  {
   "cell_type": "code",
   "execution_count": 9,
   "metadata": {
    "collapsed": false
   },
   "outputs": [
    {
     "data": {
      "text/plain": [
       "20964"
      ]
     },
     "execution_count": 9,
     "metadata": {},
     "output_type": "execute_result"
    }
   ],
   "source": [
    "len(all_users.author.unique())"
   ]
  },
  {
   "cell_type": "code",
   "execution_count": 10,
   "metadata": {
    "collapsed": false
   },
   "outputs": [
    {
     "data": {
      "text/plain": [
       "<matplotlib.text.Text at 0x113c262d0>"
      ]
     },
     "execution_count": 10,
     "metadata": {},
     "output_type": "execute_result"
    },
    {
     "data": {
      "image/png": "[encoded data removed]",
      "text/plain": [
       "<matplotlib.figure.Figure at 0x10cb3af10>"
      ]
     },
     "metadata": {},
     "output_type": "display_data"
    }
   ],
   "source": [
    "#all_users.candid_ct.hist(bins=5)\n",
    "sns.distplot(all_users.candid_ct, kde=False, rug=False);\n",
    "plt.title('How Many Candidates is a Tweeter Following?', fontsize=14)\n",
    "plt.xlabel(\"Number of Candidates Followed\")\n",
    "plt.ylabel(\"Number of Tweets\")\n",
    "#plt.savefig('FIGS/CORR/SEGMENTS/candid_ct_dist.png')"
   ]
  },
  {
   "cell_type": "code",
   "execution_count": 11,
   "metadata": {
    "collapsed": false
   },
   "outputs": [],
   "source": [
    "df_0 = all_users[all_users.candid_ct == 0]\n",
    "df_1 = all_users[all_users.candid_ct == 1]\n",
    "df_gt_1 = all_users[all_users.candid_ct > 1]\n",
    "df_gt_2 = all_users[all_users.candid_ct > 2]\n",
    "df_gt_3 = all_users[all_users.candid_ct > 3]"
   ]
  },
  {
   "cell_type": "code",
   "execution_count": 12,
   "metadata": {
    "collapsed": false
   },
   "outputs": [
    {
     "name": "stdout",
     "output_type": "stream",
     "text": [
      "72623\n",
      "24457\n",
      "26046\n",
      "13130\n",
      "6561\n"
     ]
    }
   ],
   "source": [
    "print len(df_0)\n",
    "print len(df_1)\n",
    "print len(df_gt_1)\n",
    "print len(df_gt_2)\n",
    "print len(df_gt_3)"
   ]
  },
  {
   "cell_type": "code",
   "execution_count": 13,
   "metadata": {
    "collapsed": false
   },
   "outputs": [
    {
     "name": "stdout",
     "output_type": "stream",
     "text": [
      "2648\n",
      "2587\n",
      "2548\n",
      "2316\n",
      "1842\n"
     ]
    }
   ],
   "source": [
    "print len(df_0.title.unique())\n",
    "print len(df_1.title.unique())\n",
    "print len(df_gt_1.title.unique())\n",
    "print len(df_gt_2.title.unique())\n",
    "print len(df_gt_3.title.unique())"
   ]
  },
  {
   "cell_type": "code",
   "execution_count": 14,
   "metadata": {
    "collapsed": false
   },
   "outputs": [
    {
     "name": "stderr",
     "output_type": "stream",
     "text": [
      "/usr/local/lib/python2.7/site-packages/ipykernel/__main__.py:1: SettingWithCopyWarning: \n",
      "A value is trying to be set on a copy of a slice from a DataFrame.\n",
      "Try using .loc[row_indexer,col_indexer] = value instead\n",
      "\n",
      "See the caveats in the documentation: http://pandas.pydata.org/pandas-docs/stable/indexing.html#indexing-view-versus-copy\n",
      "  if __name__ == '__main__':\n"
     ]
    }
   ],
   "source": [
    "df_0['num_tweets'] = df_0.groupby(['title']).transform('count').url\n",
    "df_0 = df_0.drop_duplicates('title')\n",
    "df_0 = pandas.merge(df_0, with_emot,how='left', on=['title', 'title'])\n",
    "df_0.rename(columns={'url_x': 'url','num_tweets_x':'num_tweets','num_tweets_y':'num_tweets_all'}, inplace=True)\n",
    "df_0 = df_0.dropna()\n",
    "df_0[['url','org','candid_ct','num_tweets','num_tweets_all','sentiment_mean',\n",
    "             'wc','negativ_ct','positiv_ct','negativ_percent','positiv_percent',\n",
    "             'emotionality','positivity']].to_csv(\"DATA/FOR_CORR/GROUPBY_FOLLOWING/following_0.csv\", index=False)"
   ]
  },
  {
   "cell_type": "code",
   "execution_count": 15,
   "metadata": {
    "collapsed": false
   },
   "outputs": [
    {
     "name": "stderr",
     "output_type": "stream",
     "text": [
      "/usr/local/lib/python2.7/site-packages/ipykernel/__main__.py:1: SettingWithCopyWarning: \n",
      "A value is trying to be set on a copy of a slice from a DataFrame.\n",
      "Try using .loc[row_indexer,col_indexer] = value instead\n",
      "\n",
      "See the caveats in the documentation: http://pandas.pydata.org/pandas-docs/stable/indexing.html#indexing-view-versus-copy\n",
      "  if __name__ == '__main__':\n"
     ]
    }
   ],
   "source": [
    "df_1['num_tweets'] = df_1.groupby(['title']).transform('count').url\n",
    "df_1 = df_1.drop_duplicates('title')\n",
    "df_1 = pandas.merge(df_1, with_emot,how='left', on=['title', 'title'])\n",
    "df_1.rename(columns={'url_x': 'url','num_tweets_x':'num_tweets','num_tweets_y':'num_tweets_all'}, inplace=True)\n",
    "df_1 = df_1.dropna()\n",
    "df_1[['url','org','candid_ct','num_tweets','num_tweets_all','sentiment_mean',\n",
    "             'wc','negativ_ct','positiv_ct','negativ_percent','positiv_percent',\n",
    "             'emotionality','positivity']].to_csv(\"DATA/FOR_CORR/GROUPBY_FOLLOWING/following_1.csv\", index=False)"
   ]
  },
  {
   "cell_type": "code",
   "execution_count": 16,
   "metadata": {
    "collapsed": false
   },
   "outputs": [
    {
     "name": "stderr",
     "output_type": "stream",
     "text": [
      "/usr/local/lib/python2.7/site-packages/ipykernel/__main__.py:1: SettingWithCopyWarning: \n",
      "A value is trying to be set on a copy of a slice from a DataFrame.\n",
      "Try using .loc[row_indexer,col_indexer] = value instead\n",
      "\n",
      "See the caveats in the documentation: http://pandas.pydata.org/pandas-docs/stable/indexing.html#indexing-view-versus-copy\n",
      "  if __name__ == '__main__':\n"
     ]
    }
   ],
   "source": [
    "df_gt_1['num_tweets'] = df_gt_1.groupby(['title']).transform('count').url\n",
    "df_gt_1 = df_gt_1.drop_duplicates('title')\n",
    "df_gt_1 = pandas.merge(df_gt_1, with_emot,how='left', on=['title', 'title'])\n",
    "df_gt_1.rename(columns={'url_x': 'url','num_tweets_x':'num_tweets','num_tweets_y':'num_tweets_all'}, inplace=True)\n",
    "df_gt_1 = df_gt_1.dropna()\n",
    "df_gt_1[['url','org','candid_ct','num_tweets','num_tweets_all','sentiment_mean',\n",
    "             'wc','negativ_ct','positiv_ct','negativ_percent','positiv_percent',\n",
    "             'emotionality','positivity']].to_csv(\"DATA/FOR_CORR/GROUPBY_FOLLOWING/following_gt_1.csv\", index=False)"
   ]
  },
  {
   "cell_type": "code",
   "execution_count": 17,
   "metadata": {
    "collapsed": false
   },
   "outputs": [
    {
     "name": "stderr",
     "output_type": "stream",
     "text": [
      "/usr/local/lib/python2.7/site-packages/ipykernel/__main__.py:1: SettingWithCopyWarning: \n",
      "A value is trying to be set on a copy of a slice from a DataFrame.\n",
      "Try using .loc[row_indexer,col_indexer] = value instead\n",
      "\n",
      "See the caveats in the documentation: http://pandas.pydata.org/pandas-docs/stable/indexing.html#indexing-view-versus-copy\n",
      "  if __name__ == '__main__':\n"
     ]
    }
   ],
   "source": [
    "df_gt_2['num_tweets'] = df_gt_2.groupby(['title']).transform('count').url\n",
    "df_gt_2 = df_gt_2.drop_duplicates('title')\n",
    "df_gt_2 = pandas.merge(df_gt_2, with_emot,how='left', on=['title', 'title'])\n",
    "df_gt_2.rename(columns={'url_x': 'url','num_tweets_x':'num_tweets','num_tweets_y':'num_tweets_all'}, inplace=True)\n",
    "df_gt_2 = df_gt_2.dropna()\n",
    "df_gt_2[['url','org','candid_ct','num_tweets','num_tweets_all','sentiment_mean',\n",
    "             'wc','negativ_ct','positiv_ct','negativ_percent','positiv_percent',\n",
    "             'emotionality','positivity']].to_csv(\"DATA/FOR_CORR/GROUPBY_FOLLOWING/following_gt_2.csv\", index=False)"
   ]
  },
  {
   "cell_type": "code",
   "execution_count": 18,
   "metadata": {
    "collapsed": false
   },
   "outputs": [
    {
     "name": "stderr",
     "output_type": "stream",
     "text": [
      "/usr/local/lib/python2.7/site-packages/ipykernel/__main__.py:1: SettingWithCopyWarning: \n",
      "A value is trying to be set on a copy of a slice from a DataFrame.\n",
      "Try using .loc[row_indexer,col_indexer] = value instead\n",
      "\n",
      "See the caveats in the documentation: http://pandas.pydata.org/pandas-docs/stable/indexing.html#indexing-view-versus-copy\n",
      "  if __name__ == '__main__':\n"
     ]
    }
   ],
   "source": [
    "df_gt_3['num_tweets'] = df_gt_3.groupby(['title']).transform('count').url\n",
    "df_gt_3 = df_gt_3.drop_duplicates('title')\n",
    "df_gt_3 = pandas.merge(df_gt_3, with_emot,how='left', on=['title', 'title'])\n",
    "df_gt_3.rename(columns={'url_x': 'url','num_tweets_x':'num_tweets','num_tweets_y':'num_tweets_all'}, inplace=True)\n",
    "df_gt_3 = df_gt_3.dropna()\n",
    "df_gt_3[['url','org','candid_ct','num_tweets','num_tweets_all','sentiment_mean',\n",
    "             'wc','negativ_ct','positiv_ct','negativ_percent','positiv_percent',\n",
    "             'emotionality','positivity']].to_csv(\"DATA/FOR_CORR/GROUPBY_FOLLOWING/following_gt_3.csv\", index=False)"
   ]
  },
  {
   "cell_type": "code",
   "execution_count": null,
   "metadata": {
    "collapsed": false
   },
   "outputs": [],
   "source": []
  },
  {
   "cell_type": "code",
   "execution_count": 19,
   "metadata": {
    "collapsed": false
   },
   "outputs": [
    {
     "name": "stdout",
     "output_type": "stream",
     "text": [
      "Index([u'_id', u'author', u'sentiment', u'time', u'tweet', u'url', u'a_id',\n",
      "       u'title', u'date_written', u'org', u't_id', u'candidates', u'candid_ct',\n",
      "       u'num_tweets', u'url_y', u'sentiment_mean', u'num_tweets_all', u'wc',\n",
      "       u'negativ_ct', u'positiv_ct', u'negativ_percent', u'positiv_percent',\n",
      "       u'emotionality', u'positivity'],\n",
      "      dtype='object')\n"
     ]
    }
   ],
   "source": [
    "print df_gt_3.columns"
   ]
  },
  {
   "cell_type": "code",
   "execution_count": null,
   "metadata": {
    "collapsed": false
   },
   "outputs": [],
   "source": []
  },
  {
   "cell_type": "code",
   "execution_count": null,
   "metadata": {
    "collapsed": false
   },
   "outputs": [],
   "source": [
    " "
   ]
  },
  {
   "cell_type": "code",
   "execution_count": null,
   "metadata": {
    "collapsed": false
   },
   "outputs": [],
   "source": [
    " "
   ]
  }
 ],
 "metadata": {
  "kernelspec": {
   "display_name": "Python 2",
   "language": "python",
   "name": "python2"
  },
  "language_info": {
   "codemirror_mode": {
    "name": "ipython",
    "version": 2
   },
   "file_extension": ".py",
   "mimetype": "text/x-python",
   "name": "python",
   "nbconvert_exporter": "python",
   "pygments_lexer": "ipython2",
   "version": "2.7.11"
  }
 },
 "nbformat": 4,
 "nbformat_minor": 0
}
