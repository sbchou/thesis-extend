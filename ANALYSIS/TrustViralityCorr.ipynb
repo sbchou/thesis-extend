{
 "cells": [
  {
   "cell_type": "markdown",
   "metadata": {},
   "source": [
    "## Let's check to see what stories from part 1 are in dataset2"
   ]
  },
  {
   "cell_type": "code",
   "execution_count": 1,
   "metadata": {
    "collapsed": true
   },
   "outputs": [],
   "source": [
    "import seaborn as sns\n",
    "import matplotlib.pyplot as plt\n",
    "import pandas\n",
    "%matplotlib inline\n",
    "import numpy as np\n",
    "from IPython.display import display, HTML\n"
   ]
  },
  {
   "cell_type": "code",
   "execution_count": 2,
   "metadata": {
    "collapsed": true
   },
   "outputs": [],
   "source": [
    "pandas.set_option('max_colwidth', 1000)"
   ]
  },
  {
   "cell_type": "markdown",
   "metadata": {},
   "source": [
    "## Load Part 1 Data"
   ]
  },
  {
   "cell_type": "code",
   "execution_count": 3,
   "metadata": {
    "collapsed": true
   },
   "outputs": [],
   "source": [
    "part1_df = pandas.read_csv('DATA/STUDY1/Part1/flattened_ALL.csv')"
   ]
  },
  {
   "cell_type": "code",
   "execution_count": 4,
   "metadata": {
    "collapsed": false
   },
   "outputs": [
    {
     "data": {
      "text/plain": [
       "Index([u'worker_id', u'gender', u'age', u'party', u'voting_for', u'state',\n",
       "       u'title', u'source', u'candidate', u'flesch', u'is_complex', u'fair',\n",
       "       u'trust'],\n",
       "      dtype='object')"
      ]
     },
     "execution_count": 4,
     "metadata": {},
     "output_type": "execute_result"
    }
   ],
   "source": [
    "part2_df = pandas.read_csv('DATA/STUDY1/Part2/flattened_results.csv')\n",
    "part2_df.columns"
   ]
  },
  {
   "cell_type": "code",
   "execution_count": 5,
   "metadata": {
    "collapsed": false
   },
   "outputs": [],
   "source": [
    "urls1 = set(part1_df.url)\n",
    "titles1 = set(part1_df.title)\n",
    "titles2 = set(part2_df.title)"
   ]
  },
  {
   "cell_type": "markdown",
   "metadata": {},
   "source": [
    "## In the entire dataset, how many stories from part 1 are in here?"
   ]
  },
  {
   "cell_type": "code",
   "execution_count": 6,
   "metadata": {
    "collapsed": true
   },
   "outputs": [],
   "source": [
    "tweets_df = pandas.read_csv('DATA/USERS/all_data.csv', dtype={'candidates': 'S10'})"
   ]
  },
  {
   "cell_type": "code",
   "execution_count": 7,
   "metadata": {
    "collapsed": false
   },
   "outputs": [
    {
     "data": {
      "text/plain": [
       "137978"
      ]
     },
     "execution_count": 7,
     "metadata": {},
     "output_type": "execute_result"
    }
   ],
   "source": [
    "len(tweets_df)"
   ]
  },
  {
   "cell_type": "code",
   "execution_count": 8,
   "metadata": {
    "collapsed": false
   },
   "outputs": [],
   "source": [
    "tweeted_titles = set(tweets_df.title)"
   ]
  },
  {
   "cell_type": "code",
   "execution_count": 9,
   "metadata": {
    "collapsed": false
   },
   "outputs": [],
   "source": [
    "intersect1 = tweeted_titles.intersection(titles1)"
   ]
  },
  {
   "cell_type": "code",
   "execution_count": 10,
   "metadata": {
    "collapsed": true
   },
   "outputs": [],
   "source": [
    "intersect2 = tweeted_titles.intersection(titles2)"
   ]
  },
  {
   "cell_type": "code",
   "execution_count": 11,
   "metadata": {
    "collapsed": false
   },
   "outputs": [
    {
     "name": "stdout",
     "output_type": "stream",
     "text": [
      "Number of Stories from Study 1 Tweeted About: 54\n",
      "Percent of Stories from Study 1 Tweeted About: 45.0 %\n",
      "Total Number of Stories from Study 1: 120\n"
     ]
    }
   ],
   "source": [
    "print \"Number of Stories from Study 1 Tweeted About:\", len(intersect1)\n",
    "print \"Percent of Stories from Study 1 Tweeted About:\", len(intersect1) / (.01 *  len(titles1)), '%'\n",
    "print \"Total Number of Stories from Study 1:\", len(titles1)"
   ]
  },
  {
   "cell_type": "code",
   "execution_count": 12,
   "metadata": {
    "collapsed": false
   },
   "outputs": [
    {
     "name": "stdout",
     "output_type": "stream",
     "text": [
      "Number of Stories from Study 2 Tweeted About: 0\n",
      "Percent of Stories from Study 2 Tweeted About: 0.0 %\n",
      "Total Number of Stories from Study 2: 8\n"
     ]
    }
   ],
   "source": [
    "print \"Number of Stories from Study 2 Tweeted About:\", len(intersect2)\n",
    "print \"Percent of Stories from Study 2 Tweeted About:\", len(intersect2) / (.01 *  len(titles2)), '%'\n",
    "print \"Total Number of Stories from Study 2:\", len(titles2)"
   ]
  },
  {
   "cell_type": "code",
   "execution_count": 13,
   "metadata": {
    "collapsed": true
   },
   "outputs": [],
   "source": [
    "# How many tweets do we have for each of the stories that are replicated in Part1?"
   ]
  },
  {
   "cell_type": "code",
   "execution_count": 14,
   "metadata": {
    "collapsed": false
   },
   "outputs": [
    {
     "data": {
      "text/plain": [
       "54"
      ]
     },
     "execution_count": 14,
     "metadata": {},
     "output_type": "execute_result"
    }
   ],
   "source": [
    "len(intersect1)"
   ]
  },
  {
   "cell_type": "code",
   "execution_count": 15,
   "metadata": {
    "collapsed": true
   },
   "outputs": [],
   "source": [
    "intersect_url = set(tweets_df.url).intersection(urls1)"
   ]
  },
  {
   "cell_type": "code",
   "execution_count": 16,
   "metadata": {
    "collapsed": false
   },
   "outputs": [
    {
     "data": {
      "text/plain": [
       "52"
      ]
     },
     "execution_count": 16,
     "metadata": {},
     "output_type": "execute_result"
    }
   ],
   "source": [
    "len(intersect_url)"
   ]
  },
  {
   "cell_type": "code",
   "execution_count": 17,
   "metadata": {
    "collapsed": false
   },
   "outputs": [
    {
     "name": "stdout",
     "output_type": "stream",
     "text": [
      "Number of Stories from Study 1 Tweeted About: 52\n",
      "Percent of Stories from Study 1 Tweeted About: 44.4444444444 %\n",
      "Total Number of Stories from Study 1: 117\n"
     ]
    }
   ],
   "source": [
    "print \"Number of Stories from Study 1 Tweeted About:\", len(intersect_url)\n",
    "print \"Percent of Stories from Study 1 Tweeted About:\", len(intersect_url) / (.01 *  len(urls1)), '%'\n",
    "print \"Total Number of Stories from Study 1:\", len(urls1)"
   ]
  },
  {
   "cell_type": "code",
   "execution_count": 18,
   "metadata": {
    "collapsed": false
   },
   "outputs": [],
   "source": [
    "intersect_df = tweets_df[tweets_df.url.isin(urls1)]"
   ]
  },
  {
   "cell_type": "code",
   "execution_count": 19,
   "metadata": {
    "collapsed": false
   },
   "outputs": [
    {
     "name": "stdout",
     "output_type": "stream",
     "text": [
      "1559\n"
     ]
    }
   ],
   "source": [
    "print len(intersect_df)"
   ]
  },
  {
   "cell_type": "code",
   "execution_count": 20,
   "metadata": {
    "collapsed": false
   },
   "outputs": [
    {
     "data": {
      "image/png": "[encoded data removed]",
      "text/plain": [
       "<matplotlib.figure.Figure at 0x118d6f590>"
      ]
     },
     "metadata": {},
     "output_type": "display_data"
    }
   ],
   "source": [
    "intersect_df.url.value_counts().plot(kind='bar')\n",
    "plt.xticks([])\n",
    "plt.ylabel('Number of Tweets')\n",
    "plt.xlabel('Story')\n",
    "plt.title(\"Distribution of Tweets about Stories in Study 1\")\n",
    "plt.tight_layout()\n",
    "plt.savefig('FIGS/OVERLAP/tweet_dist.png')"
   ]
  },
  {
   "cell_type": "code",
   "execution_count": 21,
   "metadata": {
    "collapsed": false
   },
   "outputs": [],
   "source": [
    "gt_10_tweets = intersect_df.title.value_counts()[intersect_df.title.value_counts() >= 10]"
   ]
  },
  {
   "cell_type": "code",
   "execution_count": 22,
   "metadata": {
    "collapsed": false
   },
   "outputs": [
    {
     "data": {
      "text/plain": [
       "33"
      ]
     },
     "execution_count": 22,
     "metadata": {},
     "output_type": "execute_result"
    }
   ],
   "source": [
    "len(gt_10_tweets)"
   ]
  },
  {
   "cell_type": "code",
   "execution_count": 74,
   "metadata": {
    "collapsed": false
   },
   "outputs": [
    {
     "data": {
      "text/plain": [
       "1488"
      ]
     },
     "execution_count": 74,
     "metadata": {},
     "output_type": "execute_result"
    }
   ],
   "source": [
    "sum(gt_10_tweets)"
   ]
  },
  {
   "cell_type": "code",
   "execution_count": 24,
   "metadata": {
    "collapsed": false
   },
   "outputs": [
    {
     "data": {
      "text/plain": [
       "0.0"
      ]
     },
     "execution_count": 24,
     "metadata": {},
     "output_type": "execute_result"
    }
   ],
   "source": [
    "part1_df[part1_df.title=='Why Cruz is in trouble in Texas'].trust.mean()"
   ]
  },
  {
   "cell_type": "code",
   "execution_count": 25,
   "metadata": {
    "collapsed": true
   },
   "outputs": [],
   "source": [
    "trusts = []"
   ]
  },
  {
   "cell_type": "code",
   "execution_count": 26,
   "metadata": {
    "collapsed": false
   },
   "outputs": [
    {
     "name": "stdout",
     "output_type": "stream",
     "text": [
      "Jeb Bush on Donald Trump: 'The guy needs therapy' , 154 , 0.50\n",
      "Why Cruz is in trouble in Texas , 140 , 0.00\n",
      "Sanders a prolific Dem fundraiser , 106 , 0.83\n",
      "Ted Cruz's conventional campaign to win Iowa , 106 , 0.33\n",
      "Who's funding this pro-Ted Cruz super PAC? , 82 , 0.17\n",
      "CNN/WMUR Poll: Cruz climbs in NH , 78 , 0.67\n",
      "Sanders surpasses 2015 fundraising goal with sizable haul , 76 , 0.33\n",
      "Cruz rules out 'deportation force' to boot undocumented immigrants , 71 , 1.00\n",
      "Ted Cruz worry: Big South Carolina loss equals bad Super Tuesday , 61 , 0.50\n",
      "Hillary Clinton hopes for strong Latino turnout in Nevada , 61 , 1.17\n",
      "Evangelical leader sub-tweets Donald Trump , 55 , 0.67\n",
      "Political fallout for Clinton after North Korea's nuke test , 42 , 0.17\n",
      "Ted Cruz tries to seize Rand Paul's libertarian mantle , 39 , 0.83\n",
      "Takeaways from Ted Cruz's Iowa road trip , 39 , 0.67\n",
      "Obama hopes to pave way for Clinton with SOTU , 38 , 0.50\n",
      "Cruz to tea party supporters: Don't get 'burned' by fake conservatives , 32 , 0.50\n",
      "Clinton: 'I know what it is like to come from behind and win in New Hampshire' , 26 , 0.33\n",
      "Clinton to Planned Parenthood: 'I will always have your back' , 22 , 1.17\n",
      "Graham: Cruz worse than Obama , 22 , 0.83\n",
      "BORDERLINE ACCURATE Trump camp defends using African migrants in 'wall' ad , 22 , 0.83\n",
      "Trump unscathed in GOP ad wars , 22 , 0.50\n",
      "Sanders goes negative with Goldman Sachs, Iraq jabs , 21 , 0.50\n",
      "Ted Cruz ad features business suits crossing border , 21 , 1.17\n",
      "Trump deflects specifics when it comes to abortion position , 21 , 0.67\n",
      "Cruz changes tune on rounding up undocumented immigrants , 18 , 0.83\n",
      "Sanders raised $20 million in January , 18 , 1.00\n",
      "Clinton super PAC gets big donor boost , 17 , 0.67\n",
      "Sanders to release letter from his doctor before Iowa caucuses , 15 , 0.00\n",
      "Jerry Falwell backs Donald Trump: Satire is dead (Opinion) , 15 , -0.33\n",
      "First on CNN: Texas Gov. Greg Abbott to endorse Cruz for president , 13 , 0.67\n",
      "Ted Cruz: To Help Stop Drug Abuse, Build the Mexico Border Wall , 12 , 0.83\n",
      "Ahead of Nevada caucus, Clinton goes up with first Spanish-language ads , 12 , 1.00\n",
      "Sanders campaign touts another endorsement that didn't happen , 11 , 0.50\n"
     ]
    }
   ],
   "source": [
    "for t in gt_10_tweets.index:\n",
    "    print t,',', gt_10_tweets[t],',',\"%.2f\" % part1_df[part1_df.title==t].trust.mean()\n",
    "    trusts.append(part1_df[part1_df.title==t].trust.mean())"
   ]
  },
  {
   "cell_type": "code",
   "execution_count": 27,
   "metadata": {
    "collapsed": false
   },
   "outputs": [
    {
     "name": "stdout",
     "output_type": "stream",
     "text": [
      "avg: 0.606060606061\n"
     ]
    }
   ],
   "source": [
    "print \"avg:\", sum(trusts)/len(trusts)"
   ]
  },
  {
   "cell_type": "code",
   "execution_count": 28,
   "metadata": {
    "collapsed": false
   },
   "outputs": [
    {
     "data": {
      "text/plain": [
       "Index([u'_id', u'author', u'sentiment', u'time', u'tweet', u'url', u'a_id',\n",
       "       u'title', u'date_written', u'org', u't_id', u'candidates'],\n",
       "      dtype='object')"
      ]
     },
     "execution_count": 28,
     "metadata": {},
     "output_type": "execute_result"
    }
   ],
   "source": [
    "intersect_df.columns"
   ]
  },
  {
   "cell_type": "code",
   "execution_count": 32,
   "metadata": {
    "collapsed": false
   },
   "outputs": [],
   "source": [
    "# let's make a df: url | avg trust\n",
    "trust_df = pandas.DataFrame(part1_df.groupby('url').trust.mean())"
   ]
  },
  {
   "cell_type": "code",
   "execution_count": 47,
   "metadata": {
    "collapsed": false
   },
   "outputs": [],
   "source": [
    "# now let's make a df: url | num tweets\n",
    "tweet_counts = pandas.DataFrame(tweets_df.groupby('url').size(), columns=['num_tweets'])"
   ]
  },
  {
   "cell_type": "code",
   "execution_count": 55,
   "metadata": {
    "collapsed": false
   },
   "outputs": [],
   "source": [
    "trust_viral_df = pandas.merge(trust_df, tweet_counts, left_index=True, right_index=True)"
   ]
  },
  {
   "cell_type": "code",
   "execution_count": 56,
   "metadata": {
    "collapsed": true
   },
   "outputs": [],
   "source": [
    "trust_viral_df.to_csv('DATA/TRUST_VIRALITY/trust_viral_df.csv')"
   ]
  },
  {
   "cell_type": "code",
   "execution_count": 71,
   "metadata": {
    "collapsed": false
   },
   "outputs": [
    {
     "data": {
      "image/png": "[encoded data removed]",
      "text/plain": [
       "<matplotlib.figure.Figure at 0x119b48d10>"
      ]
     },
     "metadata": {},
     "output_type": "display_data"
    }
   ],
   "source": [
    "plt.scatter(trust_viral_df.trust, trust_viral_df.num_tweets)\n",
    "plt.title('Num Tweets vs. Avg Trust of Stories from Study 1', fontsize=14)\n",
    "plt.ylim([0,200])\n",
    "plt.xlabel('Average Trust Score')\n",
    "plt.ylabel('Number of Tweets')\n",
    "plt.savefig('FIGS/TRUST_VIRALITY/tweets_vs_trust.png')"
   ]
  },
  {
   "cell_type": "code",
   "execution_count": 72,
   "metadata": {
    "collapsed": true
   },
   "outputs": [],
   "source": [
    "from scipy.stats import pearsonr"
   ]
  },
  {
   "cell_type": "code",
   "execution_count": 73,
   "metadata": {
    "collapsed": false
   },
   "outputs": [
    {
     "data": {
      "text/plain": [
       "(-0.10981076831641384, 0.43836605291271258)"
      ]
     },
     "execution_count": 73,
     "metadata": {},
     "output_type": "execute_result"
    }
   ],
   "source": [
    "pearsonr(trust_viral_df.trust, trust_viral_df.num_tweets)"
   ]
  },
  {
   "cell_type": "code",
   "execution_count": null,
   "metadata": {
    "collapsed": true
   },
   "outputs": [],
   "source": []
  }
 ],
 "metadata": {
  "kernelspec": {
   "display_name": "Python 2",
   "language": "python",
   "name": "python2"
  },
  "language_info": {
   "codemirror_mode": {
    "name": "ipython",
    "version": 2
   },
   "file_extension": ".py",
   "mimetype": "text/x-python",
   "name": "python",
   "nbconvert_exporter": "python",
   "pygments_lexer": "ipython2",
   "version": "2.7.11"
  }
 },
 "nbformat": 4,
 "nbformat_minor": 0
}
