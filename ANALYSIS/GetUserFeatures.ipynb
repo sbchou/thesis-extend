{
 "cells": [
  {
   "cell_type": "code",
   "execution_count": 1,
   "metadata": {
    "collapsed": false
   },
   "outputs": [],
   "source": [
    "import seaborn as sns\n",
    "import matplotlib.pyplot as plt\n",
    "import pandas\n",
    "%matplotlib inline\n",
    "import numpy as np\n",
    "import glob\n",
    "import time\n",
    "import csv"
   ]
  },
  {
   "cell_type": "code",
   "execution_count": 2,
   "metadata": {
    "collapsed": false
   },
   "outputs": [],
   "source": [
    "import tweepy\n",
    "\n",
    "CONSUMER_KEY = \"P6F9glaUd7uB3kj5ElRWRXIDm\"\n",
    "CONSUMER_SECRET = \"lasmKKLlE0WzOXTe61u1s1PERsuKludoUIkY9W2XWkHf6xxbsW\"\n",
    "\n",
    "auth = tweepy.AppAuthHandler(CONSUMER_KEY, CONSUMER_SECRET)\n",
    "twitter_api = tweepy.API(auth)"
   ]
  },
  {
   "cell_type": "code",
   "execution_count": 3,
   "metadata": {
    "collapsed": false
   },
   "outputs": [],
   "source": [
    "#twitter_api.get_user(['465446166',''465446166'])"
   ]
  },
  {
   "cell_type": "code",
   "execution_count": 4,
   "metadata": {
    "collapsed": false
   },
   "outputs": [],
   "source": [
    "#for i in range(0,100):\n",
    "#    while True:\n",
    "#        try:\n",
    "#            # do stuff\n",
    "#        except SomeSpecificException:\n",
    "#            continue\n",
    "#        break\n",
    "\n",
    "        \n",
    "def get_feautures(id):\n",
    "    while True:\n",
    "        try:\n",
    "            u = twitter_api.get_user(id)\n",
    "            return [u.followers_count, u.friends_count, u.favourites_count, u.verified]\n",
    "        except Exception as e:\n",
    "            print e\n",
    "            if 'code' in e.message[0] and e.message[0]['code'] == 88:\n",
    "                print \"zzzzzZZZZzz\"\n",
    "                time.sleep(60*15) \n",
    "                try:\n",
    "                    u = twitter_api.get_user(id)\n",
    "                    return [u.followers_count, u.friends_count, u.favourites_count, u.verified]\n",
    "                except Exception as e:\n",
    "                    print e\n",
    "                    return [None, None, None, None]\n",
    "            else: \n",
    "                return [None, None, None, None]\n",
    "        break"
   ]
  },
  {
   "cell_type": "code",
   "execution_count": 5,
   "metadata": {
    "collapsed": false
   },
   "outputs": [],
   "source": [
    "user_list = pandas.read_csv('DATA/GT_10_STORIES/authors.csv', index_col=0, names=['author'])"
   ]
  },
  {
   "cell_type": "code",
   "execution_count": 6,
   "metadata": {
    "collapsed": false
   },
   "outputs": [],
   "source": [
    "#followers = user_list.author.apply(lambda row: get_count(row))"
   ]
  },
  {
   "cell_type": "code",
   "execution_count": 7,
   "metadata": {
    "collapsed": false
   },
   "outputs": [
    {
     "data": {
      "text/plain": [
       "20956"
      ]
     },
     "execution_count": 7,
     "metadata": {},
     "output_type": "execute_result"
    }
   ],
   "source": [
    "users = list(set(user_list.index))\n",
    "len(users)"
   ]
  },
  {
   "cell_type": "code",
   "execution_count": 8,
   "metadata": {
    "collapsed": false
   },
   "outputs": [],
   "source": [
    "features = []"
   ]
  },
  {
   "cell_type": "code",
   "execution_count": 13,
   "metadata": {
    "collapsed": false
   },
   "outputs": [
    {
     "name": "stdout",
     "output_type": "stream",
     "text": [
      "[{u'message': u'User has been suspended.', u'code': 63}]\n",
      "[{u'message': u'User not found.', u'code': 50}]\n",
      "[{u'message': u'User not found.', u'code': 50}]\n",
      "[{u'message': u'User has been suspended.', u'code': 63}]\n",
      "[{u'message': u'User has been suspended.', u'code': 63}]\n",
      "[{u'message': u'User not found.', u'code': 50}]\n",
      "[{u'message': u'User has been suspended.', u'code': 63}]\n",
      "[{u'message': u'User not found.', u'code': 50}]\n",
      "[{u'message': u'User has been suspended.', u'code': 63}]\n",
      "[{u'message': u'User has been suspended.', u'code': 63}]\n",
      "[{u'message': u'User not found.', u'code': 50}]\n",
      "[{u'message': u'Rate limit exceeded', u'code': 88}]\n",
      "zzzzzZZZZzz\n",
      "[{u'message': u'User has been suspended.', u'code': 63}]\n",
      "[{u'message': u'User has been suspended.', u'code': 63}]\n",
      "[{u'message': u'User has been suspended.', u'code': 63}]\n",
      "[{u'message': u'User has been suspended.', u'code': 63}]\n",
      "[{u'message': u'User has been suspended.', u'code': 63}]\n",
      "[{u'message': u'User has been suspended.', u'code': 63}]\n",
      "[{u'message': u'User not found.', u'code': 50}]\n",
      "[{u'message': u'User has been suspended.', u'code': 63}]\n",
      "[{u'message': u'User not found.', u'code': 50}]\n",
      "[{u'message': u'User has been suspended.', u'code': 63}]\n",
      "[{u'message': u'User not found.', u'code': 50}]\n",
      "[{u'message': u'User has been suspended.', u'code': 63}]\n",
      "[{u'message': u'User has been suspended.', u'code': 63}]\n",
      "[{u'message': u'User not found.', u'code': 50}]\n",
      "[{u'message': u'User has been suspended.', u'code': 63}]\n",
      "[{u'message': u'User not found.', u'code': 50}]\n",
      "[{u'message': u'User has been suspended.', u'code': 63}]\n",
      "[{u'message': u'User not found.', u'code': 50}]\n",
      "[{u'message': u'User not found.', u'code': 50}]\n",
      "[{u'message': u'User not found.', u'code': 50}]\n",
      "[{u'message': u'User not found.', u'code': 50}]\n",
      "[{u'message': u'User not found.', u'code': 50}]\n",
      "[{u'message': u'User not found.', u'code': 50}]\n",
      "[{u'message': u'User not found.', u'code': 50}]\n",
      "[{u'message': u'User has been suspended.', u'code': 63}]\n",
      "[{u'message': u'User not found.', u'code': 50}]\n",
      "[{u'message': u'User not found.', u'code': 50}]\n",
      "[{u'message': u'User has been suspended.', u'code': 63}]\n",
      "[{u'message': u'User not found.', u'code': 50}]\n",
      "[{u'message': u'User not found.', u'code': 50}]\n",
      "[{u'message': u'Rate limit exceeded', u'code': 88}]\n",
      "zzzzzZZZZzz\n",
      "[{u'message': u'User has been suspended.', u'code': 63}]\n",
      "[{u'message': u'User not found.', u'code': 50}]\n",
      "[{u'message': u'User not found.', u'code': 50}]\n",
      "[{u'message': u'User has been suspended.', u'code': 63}]\n",
      "[{u'message': u'User has been suspended.', u'code': 63}]\n",
      "[{u'message': u'User not found.', u'code': 50}]\n",
      "[{u'message': u'User not found.', u'code': 50}]\n",
      "[{u'message': u'User has been suspended.', u'code': 63}]\n",
      "[{u'message': u'User not found.', u'code': 50}]\n",
      "[{u'message': u'User not found.', u'code': 50}]\n",
      "[{u'message': u'User has been suspended.', u'code': 63}]\n",
      "[{u'message': u'User not found.', u'code': 50}]\n",
      "[{u'message': u'User not found.', u'code': 50}]\n",
      "[{u'message': u'User has been suspended.', u'code': 63}]\n",
      "[{u'message': u'User not found.', u'code': 50}]\n",
      "[{u'message': u'User not found.', u'code': 50}]\n",
      "[{u'message': u'User has been suspended.', u'code': 63}]\n",
      "[{u'message': u'User not found.', u'code': 50}]\n",
      "[{u'message': u'User not found.', u'code': 50}]\n",
      "[{u'message': u'User not found.', u'code': 50}]\n",
      "[{u'message': u'User has been suspended.', u'code': 63}]\n",
      "[{u'message': u'User has been suspended.', u'code': 63}]\n",
      "[{u'message': u'User has been suspended.', u'code': 63}]\n",
      "[{u'message': u'Rate limit exceeded', u'code': 88}]\n",
      "zzzzzZZZZzz\n",
      "[{u'message': u'User not found.', u'code': 50}]\n",
      "[{u'message': u'User not found.', u'code': 50}]\n",
      "[{u'message': u'User has been suspended.', u'code': 63}]\n",
      "[{u'message': u'User has been suspended.', u'code': 63}]\n",
      "[{u'message': u'User has been suspended.', u'code': 63}]\n",
      "[{u'message': u'User not found.', u'code': 50}]\n",
      "[{u'message': u'User not found.', u'code': 50}]\n",
      "[{u'message': u'User not found.', u'code': 50}]\n",
      "[{u'message': u'User has been suspended.', u'code': 63}]\n",
      "[{u'message': u'User not found.', u'code': 50}]\n",
      "[{u'message': u'User not found.', u'code': 50}]\n",
      "[{u'message': u'User has been suspended.', u'code': 63}]\n",
      "[{u'message': u'User not found.', u'code': 50}]\n",
      "[{u'message': u'User not found.', u'code': 50}]\n",
      "[{u'message': u'User not found.', u'code': 50}]\n",
      "[{u'message': u'User not found.', u'code': 50}]\n",
      "[{u'message': u'User not found.', u'code': 50}]\n",
      "[{u'message': u'User not found.', u'code': 50}]\n",
      "[{u'message': u'User not found.', u'code': 50}]\n",
      "[{u'message': u'User not found.', u'code': 50}]\n",
      "[{u'message': u'User not found.', u'code': 50}]\n",
      "[{u'message': u'User not found.', u'code': 50}]\n",
      "[{u'message': u'User has been suspended.', u'code': 63}]\n",
      "[{u'message': u'User not found.', u'code': 50}]\n",
      "[{u'message': u'User has been suspended.', u'code': 63}]\n",
      "[{u'message': u'User has been suspended.', u'code': 63}]\n",
      "[{u'message': u'User not found.', u'code': 50}]\n",
      "[{u'message': u'User has been suspended.', u'code': 63}]\n",
      "[{u'message': u'User has been suspended.', u'code': 63}]\n",
      "[{u'message': u'User not found.', u'code': 50}]\n",
      "[{u'message': u'User not found.', u'code': 50}]\n",
      "[{u'message': u'Rate limit exceeded', u'code': 88}]\n",
      "zzzzzZZZZzz\n",
      "[{u'message': u'User not found.', u'code': 50}]\n",
      "[{u'message': u'User not found.', u'code': 50}]\n",
      "[{u'message': u'User not found.', u'code': 50}]\n",
      "[{u'message': u'User has been suspended.', u'code': 63}]\n",
      "[{u'message': u'User not found.', u'code': 50}]\n",
      "[{u'message': u'User not found.', u'code': 50}]\n"
     ]
    },
    {
     "name": "stderr",
     "output_type": "stream",
     "text": [
      "/usr/local/lib/python2.7/site-packages/ipykernel/__main__.py:17: DeprecationWarning: BaseException.message has been deprecated as of Python 2.6\n"
     ]
    }
   ],
   "source": [
    "with open('DATA/GT_10_STORIES/user_features.2.csv','w') as out:\n",
    "    csv_out=csv.writer(out)\n",
    "    csv_out.writerow(['author', 'follower_ct', 'friends_count', 'favourites_count', 'verified'])\n",
    "    for u in users[14325:]:\n",
    "        feats = get_feautures(u)\n",
    "        #print u, feats\n",
    "        #features.append(([u] + feats))\n",
    "        csv_out.writerow([u] + feats)"
   ]
  },
  {
   "cell_type": "code",
   "execution_count": null,
   "metadata": {
    "collapsed": false
   },
   "outputs": [],
   "source": [
    "len(features)"
   ]
  },
  {
   "cell_type": "code",
   "execution_count": null,
   "metadata": {
    "collapsed": false
   },
   "outputs": [],
   "source": [
    " features[0]"
   ]
  },
  {
   "cell_type": "code",
   "execution_count": null,
   "metadata": {
    "collapsed": false
   },
   "outputs": [],
   "source": [
    "#import csv\n",
    "#with open('DATA/GT_10_TWEETS/user_features.csv','w') as out:\n",
    "#    csv_out=csv.writer(out)\n",
    "#    csv_out.writerow(['author', 'follower_ct', 'friends_count', 'favourites_count', 'verified'])\n",
    "#    for row in features:\n",
    "#        csv_out.writerow(row)"
   ]
  },
  {
   "cell_type": "code",
   "execution_count": null,
   "metadata": {
    "collapsed": true
   },
   "outputs": [],
   "source": []
  },
  {
   "cell_type": "code",
   "execution_count": 11,
   "metadata": {
    "collapsed": false
   },
   "outputs": [
    {
     "data": {
      "text/plain": [
       "15558"
      ]
     },
     "execution_count": 11,
     "metadata": {},
     "output_type": "execute_result"
    }
   ],
   "source": [
    "users.index(u)"
   ]
  },
  {
   "cell_type": "code",
   "execution_count": 12,
   "metadata": {
    "collapsed": false
   },
   "outputs": [
    {
     "data": {
      "text/plain": [
       "14325"
      ]
     },
     "execution_count": 12,
     "metadata": {},
     "output_type": "execute_result"
    }
   ],
   "source": [
    "users.index(3310803258) "
   ]
  },
  {
   "cell_type": "code",
   "execution_count": null,
   "metadata": {
    "collapsed": true
   },
   "outputs": [],
   "source": [
    " "
   ]
  }
 ],
 "metadata": {
  "kernelspec": {
   "display_name": "Python 2",
   "language": "python",
   "name": "python2"
  },
  "language_info": {
   "codemirror_mode": {
    "name": "ipython",
    "version": 2
   },
   "file_extension": ".py",
   "mimetype": "text/x-python",
   "name": "python",
   "nbconvert_exporter": "python",
   "pygments_lexer": "ipython2",
   "version": "2.7.11"
  }
 },
 "nbformat": 4,
 "nbformat_minor": 0
}
