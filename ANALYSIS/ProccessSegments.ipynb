{
 "cells": [
  {
   "cell_type": "markdown",
   "metadata": {},
   "source": [
    " "
   ]
  },
  {
   "cell_type": "code",
   "execution_count": 1,
   "metadata": {
    "collapsed": true
   },
   "outputs": [],
   "source": [
    "import seaborn as sns\n",
    "import matplotlib.pyplot as plt\n",
    "import pandas\n",
    "%matplotlib inline\n",
    "import numpy as np\n",
    "from IPython.display import display, HTML\n",
    "pandas.set_option('max_colwidth', 1000)"
   ]
  },
  {
   "cell_type": "code",
   "execution_count": 2,
   "metadata": {
    "collapsed": true
   },
   "outputs": [],
   "source": [
    "with_candid = pandas.read_csv('DATA/GT_10_STORIES/single_candid.csv', \n",
    "                          dtype={'candidates': 'S10'},\n",
    "                         index_col=0)"
   ]
  },
  {
   "cell_type": "code",
   "execution_count": 3,
   "metadata": {
    "collapsed": false
   },
   "outputs": [],
   "source": [
    "with_emot = pandas.read_csv('DATA/FOR_CORR/all_fields_no_body.csv', \n",
    "                            index_col=0)"
   ]
  },
  {
   "cell_type": "code",
   "execution_count": 4,
   "metadata": {
    "collapsed": false
   },
   "outputs": [
    {
     "name": "stdout",
     "output_type": "stream",
     "text": [
      "24470\n",
      "2588\n"
     ]
    }
   ],
   "source": [
    "print len(with_candid) # Number of tweets : 24.470 K\n",
    "print len(with_candid.title.unique()) # Number of Stories 2.588 K"
   ]
  },
  {
   "cell_type": "code",
   "execution_count": 5,
   "metadata": {
    "collapsed": false
   },
   "outputs": [
    {
     "name": "stdout",
     "output_type": "stream",
     "text": [
      "2651\n"
     ]
    }
   ],
   "source": [
    "print len(with_emot) # Number of Stories with emotional analysis"
   ]
  },
  {
   "cell_type": "code",
   "execution_count": 6,
   "metadata": {
    "collapsed": false
   },
   "outputs": [
    {
     "name": "stdout",
     "output_type": "stream",
     "text": [
      "url, title, sentiment_mean, num_tweets, wc, negativ_ct, positiv_ct, negativ_percent, positiv_percent, emotionality, positivity\n",
      "\n",
      "_id, author, sentiment, time, tweet, url, a_id, title, date_written, org, t_id, candidates\n"
     ]
    }
   ],
   "source": [
    "print \", \".join(with_emot.columns)\n",
    "print\n",
    "print \", \".join(with_candid.columns)"
   ]
  },
  {
   "cell_type": "code",
   "execution_count": 7,
   "metadata": {
    "collapsed": true
   },
   "outputs": [],
   "source": [
    "CLINTON = '10000'\n",
    "KASICH = '01000'\n",
    "SANDERS = '00010'\n",
    "TRUMP = '00100'\n",
    "CRUZ = '00001'\n",
    "CANDIDS = [CLINTON, TRUMP, SANDERS, CRUZ, KASICH]\n",
    "code_to_candid = {CLINTON:'Clinton', TRUMP: 'Trump',\n",
    "                  SANDERS:'Sanders', CRUZ:'Cruz', \n",
    "                  KASICH:'Kasich'}"
   ]
  },
  {
   "cell_type": "code",
   "execution_count": 8,
   "metadata": {
    "collapsed": false
   },
   "outputs": [],
   "source": [
    "with_candid['candid_camp'] = with_candid.candidates.apply(lambda x: code_to_candid[x] if x else \"\")"
   ]
  },
  {
   "cell_type": "code",
   "execution_count": 9,
   "metadata": {
    "collapsed": false
   },
   "outputs": [
    {
     "data": {
      "text/plain": [
       "candid_camp\n",
       "              0\n",
       "Clinton    6432\n",
       "Cruz       3440\n",
       "Kasich     1048\n",
       "Sanders    4725\n",
       "Trump      8812\n",
       "Name: t_id, dtype: int64"
      ]
     },
     "execution_count": 9,
     "metadata": {},
     "output_type": "execute_result"
    }
   ],
   "source": [
    "with_candid.groupby('candid_camp').t_id.count()"
   ]
  },
  {
   "cell_type": "code",
   "execution_count": 10,
   "metadata": {
    "collapsed": false
   },
   "outputs": [
    {
     "data": {
      "text/plain": [
       "24470"
      ]
     },
     "execution_count": 10,
     "metadata": {},
     "output_type": "execute_result"
    }
   ],
   "source": [
    "len(with_candid)"
   ]
  },
  {
   "cell_type": "code",
   "execution_count": 11,
   "metadata": {
    "collapsed": false
   },
   "outputs": [],
   "source": [
    "clinton_df = with_candid[with_candid.candid_camp==\"Clinton\"]\n",
    "trump_df = with_candid[with_candid.candid_camp==\"Trump\"]\n",
    "sanders_df = with_candid[with_candid.candid_camp==\"Sanders\"]\n",
    "cruz_df = with_candid[with_candid.candid_camp==\"Cruz\"]\n",
    "kasich_df = with_candid[with_candid.candid_camp==\"Kasich\"] "
   ]
  },
  {
   "cell_type": "code",
   "execution_count": 15,
   "metadata": {
    "collapsed": false
   },
   "outputs": [
    {
     "name": "stdout",
     "output_type": "stream",
     "text": [
      "6432\n",
      "8812\n",
      "4725\n",
      "3440\n",
      "1048\n",
      "23409\n"
     ]
    }
   ],
   "source": [
    "print len(clinton_df) \n",
    "print len(trump_df)\n",
    "print len(sanders_df)\n",
    "print len(cruz_df)\n",
    "print len(kasich_df)\n",
    "print len(clinton_df) + len(trump_df) + len(sanders_df) + len(cruz_df) "
   ]
  },
  {
   "cell_type": "code",
   "execution_count": 28,
   "metadata": {
    "collapsed": false
   },
   "outputs": [
    {
     "name": "stdout",
     "output_type": "stream",
     "text": [
      "unique stories\n",
      "1970\n",
      "1985\n",
      "1209\n",
      "1496\n"
     ]
    }
   ],
   "source": [
    "print \"unique stories\"\n",
    "print len(clinton_df.title.unique()) \n",
    "print len(trump_df.title.unique())\n",
    "print len(sanders_df.title.unique())\n",
    "print len(cruz_df.title.unique())\n"
   ]
  },
  {
   "cell_type": "markdown",
   "metadata": {},
   "source": [
    "## preprocess tweets"
   ]
  },
  {
   "cell_type": "code",
   "execution_count": 16,
   "metadata": {
    "collapsed": false
   },
   "outputs": [
    {
     "name": "stderr",
     "output_type": "stream",
     "text": [
      "/usr/local/lib/python2.7/site-packages/ipykernel/__main__.py:1: SettingWithCopyWarning: \n",
      "A value is trying to be set on a copy of a slice from a DataFrame.\n",
      "Try using .loc[row_indexer,col_indexer] = value instead\n",
      "\n",
      "See the caveats in the documentation: http://pandas.pydata.org/pandas-docs/stable/indexing.html#indexing-view-versus-copy\n",
      "  if __name__ == '__main__':\n"
     ]
    }
   ],
   "source": [
    "clinton_df['num_tweets'] = clinton_df.groupby(['title']).transform('count').url"
   ]
  },
  {
   "cell_type": "code",
   "execution_count": 17,
   "metadata": {
    "collapsed": false
   },
   "outputs": [],
   "source": [
    "clinton_df = clinton_df.drop_duplicates('title')"
   ]
  },
  {
   "cell_type": "code",
   "execution_count": 18,
   "metadata": {
    "collapsed": false
   },
   "outputs": [],
   "source": [
    "clinton_emot = pandas.merge(clinton_df, with_emot,how='left', on=['title', 'title'])"
   ]
  },
  {
   "cell_type": "code",
   "execution_count": 19,
   "metadata": {
    "collapsed": false
   },
   "outputs": [
    {
     "name": "stdout",
     "output_type": "stream",
     "text": [
      "1970\n",
      "1970\n"
     ]
    }
   ],
   "source": [
    "print len(clinton_emot)\n",
    "print len(clinton_df.title.unique())"
   ]
  },
  {
   "cell_type": "code",
   "execution_count": 16,
   "metadata": {
    "collapsed": false
   },
   "outputs": [
    {
     "data": {
      "text/html": [
       "<div>\n",
       "<table border=\"1\" class=\"dataframe\">\n",
       "  <thead>\n",
       "    <tr style=\"text-align: right;\">\n",
       "      <th></th>\n",
       "      <th>num_tweets_x</th>\n",
       "      <th>num_tweets_y</th>\n",
       "    </tr>\n",
       "  </thead>\n",
       "  <tbody>\n",
       "    <tr>\n",
       "      <th>0</th>\n",
       "      <td>6</td>\n",
       "      <td>134</td>\n",
       "    </tr>\n",
       "    <tr>\n",
       "      <th>1</th>\n",
       "      <td>8</td>\n",
       "      <td>273</td>\n",
       "    </tr>\n",
       "    <tr>\n",
       "      <th>2</th>\n",
       "      <td>1</td>\n",
       "      <td>32</td>\n",
       "    </tr>\n",
       "    <tr>\n",
       "      <th>3</th>\n",
       "      <td>1</td>\n",
       "      <td>31</td>\n",
       "    </tr>\n",
       "    <tr>\n",
       "      <th>4</th>\n",
       "      <td>4</td>\n",
       "      <td>75</td>\n",
       "    </tr>\n",
       "  </tbody>\n",
       "</table>\n",
       "</div>"
      ],
      "text/plain": [
       "   num_tweets_x  num_tweets_y\n",
       "0             6           134\n",
       "1             8           273\n",
       "2             1            32\n",
       "3             1            31\n",
       "4             4            75"
      ]
     },
     "execution_count": 16,
     "metadata": {},
     "output_type": "execute_result"
    }
   ],
   "source": [
    "clinton_emot[['num_tweets_x','num_tweets_y']].head()"
   ]
  },
  {
   "cell_type": "code",
   "execution_count": 17,
   "metadata": {
    "collapsed": false
   },
   "outputs": [],
   "source": [
    "clinton_emot.rename(columns={'url_x': 'url','num_tweets_x':'num_tweets','num_tweets_y':'num_tweets_all'}, inplace=True)"
   ]
  },
  {
   "cell_type": "code",
   "execution_count": 18,
   "metadata": {
    "collapsed": false
   },
   "outputs": [
    {
     "name": "stdout",
     "output_type": "stream",
     "text": [
      "1964\n"
     ]
    }
   ],
   "source": [
    "clinton_emot = clinton_emot.dropna()\n",
    "print len(clinton_emot)"
   ]
  },
  {
   "cell_type": "code",
   "execution_count": 19,
   "metadata": {
    "collapsed": false
   },
   "outputs": [],
   "source": [
    "clinton_emot[['url','org','candid_camp','num_tweets','num_tweets_all','sentiment_mean',\n",
    "             'wc','negativ_ct','positiv_ct','negativ_percent','positiv_percent',\n",
    "             'emotionality','positivity']].to_csv(\"DATA/FOR_CORR/clinton_w_emot.csv\", index=False)"
   ]
  },
  {
   "cell_type": "code",
   "execution_count": null,
   "metadata": {
    "collapsed": false
   },
   "outputs": [],
   "source": []
  },
  {
   "cell_type": "code",
   "execution_count": null,
   "metadata": {
    "collapsed": false
   },
   "outputs": [],
   "source": []
  },
  {
   "cell_type": "code",
   "execution_count": 20,
   "metadata": {
    "collapsed": false
   },
   "outputs": [
    {
     "name": "stdout",
     "output_type": "stream",
     "text": [
      "1985\n",
      "1985\n",
      "1983\n"
     ]
    },
    {
     "name": "stderr",
     "output_type": "stream",
     "text": [
      "/usr/local/lib/python2.7/site-packages/ipykernel/__main__.py:2: SettingWithCopyWarning: \n",
      "A value is trying to be set on a copy of a slice from a DataFrame.\n",
      "Try using .loc[row_indexer,col_indexer] = value instead\n",
      "\n",
      "See the caveats in the documentation: http://pandas.pydata.org/pandas-docs/stable/indexing.html#indexing-view-versus-copy\n",
      "  from ipykernel import kernelapp as app\n"
     ]
    }
   ],
   "source": [
    "# repeat for trump\n",
    "trump_df['num_tweets'] = trump_df.groupby(['title']).transform('count').url\n",
    "trump_df = trump_df.drop_duplicates('title')\n",
    "trump_emot = pandas.merge(trump_df, with_emot,how='left', on=['title', 'title'])\n",
    "print len(trump_emot)\n",
    "print len(trump_df.title.unique())\n",
    "trump_emot[['num_tweets_x','num_tweets_y']].head()\n",
    "trump_emot.rename(columns={'url_x': 'url','num_tweets_x':'num_tweets','num_tweets_y':'num_tweets_all'}, inplace=True)\n",
    "trump_emot = trump_emot.dropna()\n",
    "print len(trump_emot)\n",
    "trump_emot[['url','org','candid_camp','num_tweets','num_tweets_all','sentiment_mean',\n",
    "             'wc','negativ_ct','positiv_ct','negativ_percent','positiv_percent',\n",
    "             'emotionality','positivity']].to_csv(\"DATA/FOR_CORR/trump_w_emot.csv\",index=False)"
   ]
  },
  {
   "cell_type": "code",
   "execution_count": 21,
   "metadata": {
    "collapsed": false
   },
   "outputs": [
    {
     "name": "stdout",
     "output_type": "stream",
     "text": [
      "1209\n",
      "1209\n",
      "1207\n"
     ]
    },
    {
     "name": "stderr",
     "output_type": "stream",
     "text": [
      "/usr/local/lib/python2.7/site-packages/ipykernel/__main__.py:1: SettingWithCopyWarning: \n",
      "A value is trying to be set on a copy of a slice from a DataFrame.\n",
      "Try using .loc[row_indexer,col_indexer] = value instead\n",
      "\n",
      "See the caveats in the documentation: http://pandas.pydata.org/pandas-docs/stable/indexing.html#indexing-view-versus-copy\n",
      "  if __name__ == '__main__':\n"
     ]
    }
   ],
   "source": [
    "sanders_df['num_tweets'] = sanders_df.groupby(['title']).transform('count').url\n",
    "sanders_df = sanders_df.drop_duplicates('title')\n",
    "sanders_emot = pandas.merge(sanders_df, with_emot,how='left', on=['title', 'title'])\n",
    "print len(sanders_emot)\n",
    "print len(sanders_df.title.unique())\n",
    "sanders_emot[['num_tweets_x','num_tweets_y']].head()\n",
    "sanders_emot.rename(columns={'url_x': 'url','num_tweets_x':'num_tweets','num_tweets_y':'num_tweets_all'}, inplace=True)\n",
    "sanders_emot = sanders_emot.dropna()\n",
    "print len(sanders_emot)\n",
    "sanders_emot[['url','org','candid_camp','num_tweets','num_tweets_all','sentiment_mean',\n",
    "             'wc','negativ_ct','positiv_ct','negativ_percent','positiv_percent',\n",
    "             'emotionality','positivity']].to_csv(\"DATA/FOR_CORR/sanders_w_emot.csv\",index=False)"
   ]
  },
  {
   "cell_type": "code",
   "execution_count": 22,
   "metadata": {
    "collapsed": false
   },
   "outputs": [
    {
     "name": "stdout",
     "output_type": "stream",
     "text": [
      "1496\n",
      "1496\n",
      "1495\n"
     ]
    },
    {
     "name": "stderr",
     "output_type": "stream",
     "text": [
      "/usr/local/lib/python2.7/site-packages/ipykernel/__main__.py:1: SettingWithCopyWarning: \n",
      "A value is trying to be set on a copy of a slice from a DataFrame.\n",
      "Try using .loc[row_indexer,col_indexer] = value instead\n",
      "\n",
      "See the caveats in the documentation: http://pandas.pydata.org/pandas-docs/stable/indexing.html#indexing-view-versus-copy\n",
      "  if __name__ == '__main__':\n"
     ]
    }
   ],
   "source": [
    "cruz_df['num_tweets'] = cruz_df.groupby(['title']).transform('count').url\n",
    "cruz_df = cruz_df.drop_duplicates('title')\n",
    "cruz_emot = pandas.merge(cruz_df, with_emot,how='left', on=['title', 'title'])\n",
    "print len(cruz_emot)\n",
    "print len(cruz_df.title.unique())\n",
    "cruz_emot[['num_tweets_x','num_tweets_y']].head()\n",
    "cruz_emot.rename(columns={'url_x': 'url','num_tweets_x':'num_tweets','num_tweets_y':'num_tweets_all'}, inplace=True)\n",
    "cruz_emot = cruz_emot.dropna()\n",
    "print len(cruz_emot)\n",
    "cruz_emot[['url','org','candid_camp','num_tweets','num_tweets_all','sentiment_mean',\n",
    "             'wc','negativ_ct','positiv_ct','negativ_percent','positiv_percent',\n",
    "             'emotionality','positivity']].to_csv(\"DATA/FOR_CORR/cruz_w_emot.csv\",index=False)"
   ]
  },
  {
   "cell_type": "raw",
   "metadata": {
    "collapsed": false
   },
   "source": []
  },
  {
   "cell_type": "code",
   "execution_count": 30,
   "metadata": {
    "collapsed": true
   },
   "outputs": [],
   "source": [
    "clinton = pandas.read_csv('DATA/FOR_CORR/clinton_w_emot.csv')\n",
    "trump = pandas.read_csv('DATA/FOR_CORR/trump_w_emot.csv')\n",
    "sanders = pandas.read_csv('DATA/FOR_CORR/sanders_w_emot.csv')\n",
    "cruz = pandas.read_csv('DATA/FOR_CORR/cruz_w_emot.csv')"
   ]
  },
  {
   "cell_type": "code",
   "execution_count": 33,
   "metadata": {
    "collapsed": false
   },
   "outputs": [],
   "source": [
    "all_segments = pandas.concat([clinton, trump, sanders, cruz])"
   ]
  },
  {
   "cell_type": "code",
   "execution_count": 38,
   "metadata": {
    "collapsed": false
   },
   "outputs": [
    {
     "name": "stdout",
     "output_type": "stream",
     "text": [
      "2579\n"
     ]
    },
    {
     "data": {
      "text/plain": [
       "Index([u'url', u'org', u'candid_camp', u'num_tweets', u'num_tweets_all',\n",
       "       u'sentiment_mean', u'wc', u'negativ_ct', u'positiv_ct',\n",
       "       u'negativ_percent', u'positiv_percent', u'emotionality', u'positivity'],\n",
       "      dtype='object')"
      ]
     },
     "execution_count": 38,
     "metadata": {},
     "output_type": "execute_result"
    }
   ],
   "source": [
    "print len(all_segments.url.unique())\n",
    "\n",
    "all_segments.columns"
   ]
  },
  {
   "cell_type": "code",
   "execution_count": 42,
   "metadata": {
    "collapsed": true
   },
   "outputs": [],
   "source": [
    "all_segments[[u'_id', u'author', u'sentiment', u'time', u'url', u'a_id',\n",
    "      u'date_written', u'org', u't_id', u'candidates',\n",
    "       u'candid_camp', u'num_tweets', u'sentiment_mean', u'num_tweets_all',\n",
    "       u'wc', u'negativ_ct', u'positiv_ct', u'negativ_percent',\n",
    "       u'positiv_percent', u'emotionality', u'positivity']].to_csv(\"DATA/FOR_CORR/all_segments_no_title.csv\")"
   ]
  },
  {
   "cell_type": "code",
   "execution_count": 36,
   "metadata": {
    "collapsed": false
   },
   "outputs": [],
   "source": [
    "all_segments.drop('url_y', axis=1, inplace=True)"
   ]
  },
  {
   "cell_type": "code",
   "execution_count": 37,
   "metadata": {
    "collapsed": false
   },
   "outputs": [
    {
     "data": {
      "text/plain": [
       "Index([u'_id', u'author', u'sentiment', u'time', u'tweet', u'url', u'a_id',\n",
       "       u'title', u'date_written', u'org', u't_id', u'candidates',\n",
       "       u'candid_camp', u'num_tweets', u'sentiment_mean', u'num_tweets_all',\n",
       "       u'wc', u'negativ_ct', u'positiv_ct', u'negativ_percent',\n",
       "       u'positiv_percent', u'emotionality', u'positivity'],\n",
       "      dtype='object')"
      ]
     },
     "execution_count": 37,
     "metadata": {},
     "output_type": "execute_result"
    }
   ],
   "source": [
    "all_segments.columns"
   ]
  },
  {
   "cell_type": "code",
   "execution_count": null,
   "metadata": {
    "collapsed": true
   },
   "outputs": [],
   "source": []
  },
  {
   "cell_type": "code",
   "execution_count": null,
   "metadata": {
    "collapsed": true
   },
   "outputs": [],
   "source": []
  },
  {
   "cell_type": "code",
   "execution_count": null,
   "metadata": {
    "collapsed": true
   },
   "outputs": [],
   "source": []
  },
  {
   "cell_type": "code",
   "execution_count": null,
   "metadata": {
    "collapsed": true
   },
   "outputs": [],
   "source": []
  },
  {
   "cell_type": "code",
   "execution_count": null,
   "metadata": {
    "collapsed": true
   },
   "outputs": [],
   "source": []
  },
  {
   "cell_type": "code",
   "execution_count": null,
   "metadata": {
    "collapsed": true
   },
   "outputs": [],
   "source": []
  },
  {
   "cell_type": "code",
   "execution_count": null,
   "metadata": {
    "collapsed": true
   },
   "outputs": [],
   "source": []
  },
  {
   "cell_type": "code",
   "execution_count": null,
   "metadata": {
    "collapsed": true
   },
   "outputs": [],
   "source": []
  },
  {
   "cell_type": "code",
   "execution_count": null,
   "metadata": {
    "collapsed": true
   },
   "outputs": [],
   "source": []
  },
  {
   "cell_type": "code",
   "execution_count": null,
   "metadata": {
    "collapsed": true
   },
   "outputs": [],
   "source": []
  },
  {
   "cell_type": "code",
   "execution_count": null,
   "metadata": {
    "collapsed": true
   },
   "outputs": [],
   "source": []
  },
  {
   "cell_type": "code",
   "execution_count": null,
   "metadata": {
    "collapsed": true
   },
   "outputs": [],
   "source": []
  },
  {
   "cell_type": "code",
   "execution_count": null,
   "metadata": {
    "collapsed": true
   },
   "outputs": [],
   "source": []
  },
  {
   "cell_type": "code",
   "execution_count": null,
   "metadata": {
    "collapsed": true
   },
   "outputs": [],
   "source": []
  },
  {
   "cell_type": "code",
   "execution_count": null,
   "metadata": {
    "collapsed": false
   },
   "outputs": [],
   "source": [
    " df.num_tweets.describe()"
   ]
  },
  {
   "cell_type": "code",
   "execution_count": null,
   "metadata": {
    "collapsed": false
   },
   "outputs": [],
   "source": [
    "plt.hist(df.num_tweets, bins=2000)"
   ]
  },
  {
   "cell_type": "code",
   "execution_count": null,
   "metadata": {
    "collapsed": false
   },
   "outputs": [],
   "source": [
    "numtweets = list(df.num_tweets)\n",
    "numtweets.sort(reverse=True)\n",
    "sns.distplot(numtweets, kde=False, rug=False, bins=100);\n",
    "plt.title(\"How Many Times was a Story Tweeted?\")\n",
    "plt.ylabel(\"Number of Stories\")\n",
    "plt.xlabel(\"Number of Tweets\")\n",
    "plt.savefig(\"FIGS/CORR/num_tweets_dist.png\")"
   ]
  },
  {
   "cell_type": "markdown",
   "metadata": {},
   "source": [
    "## is it a power law?\n",
    "Returns the loglikelihood ratio, and its p-value, between the two distribution fits, assuming the candidate distributions are nested.\n",
    "### R : float\n",
    "Loglikelihood ratio of the two distributions’ fit to the data. If greater than 0, the first distribution is preferred. If less than 0, the second distribution is preferred.\n",
    "### p : float\n",
    "Significance of R"
   ]
  },
  {
   "cell_type": "code",
   "execution_count": null,
   "metadata": {
    "collapsed": false
   },
   "outputs": [],
   "source": [
    "import powerlaw \n",
    "data = numtweets # data can be list or numpy array \n",
    "results = powerlaw.Fit(data) \n",
    "print results.power_law.alpha \n",
    "print results.power_law.xmin \n",
    "R, p = results.distribution_compare('power_law', 'lognormal', normalized_ratio=True)\n",
    "print \"R\", R\n",
    "print \"p\", p\n",
    " "
   ]
  },
  {
   "cell_type": "code",
   "execution_count": null,
   "metadata": {
    "collapsed": false
   },
   "outputs": [],
   "source": [
    "results.plot_pdf()"
   ]
  },
  {
   "cell_type": "code",
   "execution_count": null,
   "metadata": {
    "collapsed": false
   },
   "outputs": [],
   "source": [
    "f, ax = plt.subplots(figsize=(7, 7))\n",
    "ax.set(xscale=\"log\", yscale=\"log\")\n",
    "sns.regplot(\"wc\", \"num_tweets\", data=df, ax=ax, scatter_kws={\"s\": 100})\n"
   ]
  },
  {
   "cell_type": "markdown",
   "metadata": {},
   "source": [
    "### Do them transforms"
   ]
  },
  {
   "cell_type": "code",
   "execution_count": null,
   "metadata": {
    "collapsed": false
   },
   "outputs": [],
   "source": [
    "df = df.dropna()"
   ]
  },
  {
   "cell_type": "code",
   "execution_count": null,
   "metadata": {
    "collapsed": false
   },
   "outputs": [],
   "source": [
    "sns.distplot(df.num_tweets, kde=False, rug=False);\n",
    "plt.title(\"Number of Tweets Distribution\", fontsize=14)\n",
    "plt.xlabel(\"Number of Tweets\")\n",
    "plt.ylabel(\"Number of Stories\")\n",
    "plt.savefig(\"FIGS/CORR/num_tweets_dist.png\")"
   ]
  },
  {
   "cell_type": "code",
   "execution_count": null,
   "metadata": {
    "collapsed": false
   },
   "outputs": [],
   "source": [
    "sns.distplot(df.log_num_tweets, kde=False, rug=False);\n",
    "plt.title(\"Log(Number of Tweets) Distribution\", fontsize=14)\n",
    "plt.xlabel(\"Log(Number of Tweets)\")\n",
    "plt.ylabel(\"Number of Stories\")\n",
    "plt.savefig(\"FIGS/CORR/log_num_tweets_dist.png\")"
   ]
  },
  {
   "cell_type": "code",
   "execution_count": null,
   "metadata": {
    "collapsed": true
   },
   "outputs": [],
   "source": [
    "df['log_log_num_tweets'] = df.log_num_tweets.apply(np.log)\n",
    "df['log_log_log_num_tweets'] = df.log_log_num_tweets.apply(np.log)"
   ]
  },
  {
   "cell_type": "code",
   "execution_count": null,
   "metadata": {
    "collapsed": false,
    "scrolled": true
   },
   "outputs": [],
   "source": [
    "sns.distplot(df.log_log_num_tweets, kde=False, rug=False);\n",
    "plt.title(\"LogLog(Number of Tweets) Distribution\", fontsize=14)\n",
    "plt.xlabel(\"LogLog(Number of Tweets)\")\n",
    "plt.ylabel(\"Number of Stories\")\n",
    "plt.savefig(\"FIGS/CORR/log_log_num_tweets_dist.png\")"
   ]
  },
  {
   "cell_type": "code",
   "execution_count": null,
   "metadata": {
    "collapsed": false
   },
   "outputs": [],
   "source": [
    "sns.distplot(df.sqrt_num_tweets, kde=False, rug=False);\n",
    "plt.title(\"Sqrt(Number of Tweets) Distribution\", fontsize=14)\n",
    "plt.xlabel(\"Sqrt(Number of Tweets)\")\n",
    "plt.ylabel(\"Number of Stories\")\n",
    "plt.savefig(\"FIGS/CORR/sqrt_num_tweets_dist.png\")"
   ]
  },
  {
   "cell_type": "code",
   "execution_count": null,
   "metadata": {
    "collapsed": true
   },
   "outputs": [],
   "source": [
    "df['log_num_tweets'] = df.num_tweets.apply(np.log)\n",
    "df['log_wc'] = df.wc.apply(np.log)\n",
    "df['log_emot'] = df.emotionality.apply(lambda x: np.log(x + 1))\n",
    "df['log_pos'] = df.positivity.apply(lambda x: np.log(x + 1))"
   ]
  },
  {
   "cell_type": "code",
   "execution_count": null,
   "metadata": {
    "collapsed": true
   },
   "outputs": [],
   "source": [
    "df['sqrt_num_tweets'] = df.num_tweets.apply(np.sqrt)\n",
    "df['sqrt_wc'] = df.wc.apply(np.sqrt)\n",
    "df['sqrt_emot'] = df.emotionality.apply(np.sqrt)\n",
    "df['sqrt_pos'] = df.positivity.apply(lambda x: np.sqrt(abs(x)))"
   ]
  },
  {
   "cell_type": "code",
   "execution_count": null,
   "metadata": {
    "collapsed": true
   },
   "outputs": [],
   "source": [
    "df['sq_num_tweets'] = df.num_tweets.apply(np.square)\n",
    "df['sq_wc'] = df.wc.apply(np.square)\n",
    "df['sq_emot'] = df.emotionality.apply(np.square)\n",
    "df['sq_pos'] = df.positivity.apply(np.square)"
   ]
  },
  {
   "cell_type": "markdown",
   "metadata": {},
   "source": [
    "## first plot independent variables"
   ]
  },
  {
   "cell_type": "code",
   "execution_count": null,
   "metadata": {
    "collapsed": false
   },
   "outputs": [],
   "source": [
    "sns.distplot(df.wc, kde=False, rug=False);\n",
    "plt.title(\"Story Length Distribution\", fontsize=14)\n",
    "plt.xlabel(\"Story Length\")\n",
    "plt.ylabel(\"Number of Stories\")\n",
    "plt.savefig(\"FIGS/CORR/wc_dist.png\")"
   ]
  },
  {
   "cell_type": "code",
   "execution_count": null,
   "metadata": {
    "collapsed": false
   },
   "outputs": [],
   "source": [
    "sns.distplot(df.log_wc, kde=False, rug=False);\n",
    "plt.title(\"Log(Story Length) Distribution\", fontsize=14)\n",
    "plt.xlabel(\"Log(Story Length)\")\n",
    "plt.ylabel(\"Number of Stories\")\n",
    "plt.savefig(\"FIGS/CORR/log_wc_dist.png\")"
   ]
  },
  {
   "cell_type": "code",
   "execution_count": null,
   "metadata": {
    "collapsed": false
   },
   "outputs": [],
   "source": [
    "sns.distplot(df.sqrt_wc, kde=False, rug=False);\n",
    "plt.title(\"Sqrt(Story Length) Distribution\", fontsize=14)\n",
    "plt.xlabel(\"Sqrt(Story Length)\")\n",
    "plt.ylabel(\"Number of Stories\")\n",
    "plt.savefig(\"FIGS/CORR/sqrt_wc_dist.png\")"
   ]
  },
  {
   "cell_type": "code",
   "execution_count": null,
   "metadata": {
    "collapsed": false
   },
   "outputs": [],
   "source": [
    " "
   ]
  },
  {
   "cell_type": "code",
   "execution_count": null,
   "metadata": {
    "collapsed": true
   },
   "outputs": [],
   "source": [
    "sns.distplot(df.log_wc, kde=False, rug=False);\n",
    "plt.title(\"Log(Story Length) Distribution\", fontsize=14)\n",
    "plt.xlabel(\"Log(Story Length)\")\n",
    "plt.ylabel(\"Number of Stories\")\n",
    "plt.savefig(\"FIGS/CORR/log_wc_dist.png\")"
   ]
  },
  {
   "cell_type": "code",
   "execution_count": null,
   "metadata": {
    "collapsed": false
   },
   "outputs": [],
   "source": [
    "sns.distplot(df.emotionality, kde=False, rug=False);\n",
    "plt.title(\"Emotionality Distribution\", fontsize=14)\n",
    "plt.xlabel(\"Emotionality\")\n",
    "plt.ylabel(\"Number of Stories\")\n",
    "plt.savefig(\"FIGS/CORR/emot_dist.png\")"
   ]
  },
  {
   "cell_type": "code",
   "execution_count": null,
   "metadata": {
    "collapsed": false
   },
   "outputs": [],
   "source": [
    "sns.distplot(df.log_emot, kde=False, rug=False);\n",
    "plt.title(\"Log(Emotionality) Distribution\", fontsize=14)\n",
    "plt.xlabel(\"Log(Emotionality)\")\n",
    "plt.ylabel(\"Number of Stories\")\n",
    "plt.savefig(\"FIGS/CORR/log_emot_dist.png\")"
   ]
  },
  {
   "cell_type": "code",
   "execution_count": null,
   "metadata": {
    "collapsed": false
   },
   "outputs": [],
   "source": [
    "sns.distplot(df.sqrt_emot, kde=False, rug=False);\n",
    "plt.title(\"Sqrt(Emotionality) Distribution\", fontsize=14)\n",
    "plt.xlabel(\"Sqrt(Emotionality)\")\n",
    "plt.ylabel(\"Number of Stories\")\n",
    "plt.savefig(\"FIGS/CORR/sqrt_emot_dist.png\")"
   ]
  },
  {
   "cell_type": "code",
   "execution_count": null,
   "metadata": {
    "collapsed": false
   },
   "outputs": [],
   "source": [
    "sns.distplot(df.positivity, kde=False, rug=False);\n",
    "plt.title(\"Positivity Distribution\", fontsize=14)\n",
    "plt.xlabel(\"Positivity\")\n",
    "plt.ylabel(\"Number of Stories\")\n",
    "plt.savefig(\"FIGS/CORR/pos_dist.png\")"
   ]
  },
  {
   "cell_type": "code",
   "execution_count": null,
   "metadata": {
    "collapsed": false
   },
   "outputs": [],
   "source": [
    "sns.distplot(df.log_pos, kde=False, rug=False);\n",
    "plt.title(\"Log(Positivity) Distribution\", fontsize=14)\n",
    "plt.xlabel(\"Log(Positivity)\")\n",
    "plt.ylabel(\"Number of Stories\")\n",
    "plt.savefig(\"FIGS/CORR/log_pos_dist.png\")"
   ]
  },
  {
   "cell_type": "code",
   "execution_count": null,
   "metadata": {
    "collapsed": false
   },
   "outputs": [],
   "source": [
    "sns.distplot(df.sqrt_pos, kde=False, rug=False);\n",
    "plt.title(\"Sqrt(abs(Positivity)) Distribution\", fontsize=14)\n",
    "plt.xlabel(\"Sqrt(abs(Positivity))\")\n",
    "plt.ylabel(\"Number of Stories\")\n",
    "plt.savefig(\"FIGS/CORR/sqrt_pos_dist.png\")"
   ]
  },
  {
   "cell_type": "markdown",
   "metadata": {},
   "source": [
    "## then plot relationships"
   ]
  },
  {
   "cell_type": "code",
   "execution_count": null,
   "metadata": {
    "collapsed": false
   },
   "outputs": [],
   "source": [
    "df.wc.min()"
   ]
  },
  {
   "cell_type": "code",
   "execution_count": null,
   "metadata": {
    "collapsed": false
   },
   "outputs": [],
   "source": [
    "g = sns.pairplot(df[['log_num_tweets', 'log_wc']])"
   ]
  },
  {
   "cell_type": "code",
   "execution_count": null,
   "metadata": {
    "collapsed": false
   },
   "outputs": [],
   "source": [
    "sns.distplot(df.num_tweets, kde=False, rug=False); "
   ]
  },
  {
   "cell_type": "code",
   "execution_count": null,
   "metadata": {
    "collapsed": true
   },
   "outputs": [],
   "source": []
  }
 ],
 "metadata": {
  "kernelspec": {
   "display_name": "Python 2",
   "language": "python",
   "name": "python2"
  },
  "language_info": {
   "codemirror_mode": {
    "name": "ipython",
    "version": 2
   },
   "file_extension": ".py",
   "mimetype": "text/x-python",
   "name": "python",
   "nbconvert_exporter": "python",
   "pygments_lexer": "ipython2",
   "version": "2.7.11"
  }
 },
 "nbformat": 4,
 "nbformat_minor": 0
}
