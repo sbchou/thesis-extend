{
 "cells": [
  {
   "cell_type": "code",
   "execution_count": 2,
   "metadata": {
    "collapsed": true
   },
   "outputs": [],
   "source": [
    "import seaborn as sns\n",
    "import matplotlib.pyplot as plt\n",
    "import pandas\n",
    "%matplotlib inline\n",
    "import numpy as np"
   ]
  },
  {
   "cell_type": "code",
   "execution_count": 3,
   "metadata": {
    "collapsed": true
   },
   "outputs": [],
   "source": [
    "pandas.set_option('max_colwidth', 800)"
   ]
  },
  {
   "cell_type": "code",
   "execution_count": 4,
   "metadata": {
    "collapsed": false
   },
   "outputs": [],
   "source": [
    "all_tweets = pandas.read_csv('DATA/ALL_NEWSDOMAIN.CSV', error_bad_lines=False,names=['tid','url'], dtype={'tid': object})"
   ]
  },
  {
   "cell_type": "code",
   "execution_count": 5,
   "metadata": {
    "collapsed": false
   },
   "outputs": [
    {
     "data": {
      "text/plain": [
       "1798216"
      ]
     },
     "execution_count": 5,
     "metadata": {},
     "output_type": "execute_result"
    }
   ],
   "source": [
    "len(all_tweets)"
   ]
  },
  {
   "cell_type": "code",
   "execution_count": 6,
   "metadata": {
    "collapsed": false
   },
   "outputs": [],
   "source": [
    "matched = pandas.read_csv(\"DATA/JOINED/ALL.JOINED\",names=['aid','title','date_written','org','tid'], dtype={'tid': object})"
   ]
  },
  {
   "cell_type": "code",
   "execution_count": 7,
   "metadata": {
    "collapsed": false
   },
   "outputs": [
    {
     "data": {
      "text/plain": [
       "137986"
      ]
     },
     "execution_count": 7,
     "metadata": {},
     "output_type": "execute_result"
    }
   ],
   "source": [
    "len(matched)"
   ]
  },
  {
   "cell_type": "code",
   "execution_count": 8,
   "metadata": {
    "collapsed": false
   },
   "outputs": [
    {
     "data": {
      "text/plain": [
       "Index([u'aid', u'title', u'date_written', u'org', u'tid'], dtype='object')"
      ]
     },
     "execution_count": 8,
     "metadata": {},
     "output_type": "execute_result"
    }
   ],
   "source": [
    "matched.columns"
   ]
  },
  {
   "cell_type": "code",
   "execution_count": 9,
   "metadata": {
    "collapsed": false
   },
   "outputs": [],
   "source": [
    "unmatched = all_tweets[-all_tweets.tid.isin(matched.tid)]"
   ]
  },
  {
   "cell_type": "code",
   "execution_count": 10,
   "metadata": {
    "collapsed": false
   },
   "outputs": [
    {
     "data": {
      "text/plain": [
       "10"
      ]
     },
     "execution_count": 10,
     "metadata": {},
     "output_type": "execute_result"
    }
   ],
   "source": [
    "len(all_tweets) - (len(matched) + len(unmatched)) # WHY MISSING 10?"
   ]
  },
  {
   "cell_type": "code",
   "execution_count": 12,
   "metadata": {
    "collapsed": false
   },
   "outputs": [],
   "source": [
    "#unmatched.sample(100).sort_values('url').to_csv('DATA/QC/random_100_2.csv')"
   ]
  },
  {
   "cell_type": "markdown",
   "metadata": {},
   "source": [
    "## Check what kind of stories are being missed"
   ]
  },
  {
   "cell_type": "code",
   "execution_count": 21,
   "metadata": {
    "collapsed": false
   },
   "outputs": [
    {
     "data": {
      "text/plain": [
       "tid    1660220\n",
       "url    1660219\n",
       "dtype: int64"
      ]
     },
     "execution_count": 21,
     "metadata": {},
     "output_type": "execute_result"
    }
   ],
   "source": [
    "unmatched.count()"
   ]
  },
  {
   "cell_type": "code",
   "execution_count": 29,
   "metadata": {
    "collapsed": false
   },
   "outputs": [],
   "source": [
    "clinton_unmatch = unmatched[unmatched['url'].str.contains(\"clinton\",na=False, case=False)]\n",
    "trump_unmatch = unmatched[unmatched['url'].str.contains(\"trump\",na=False, case=False)]\n",
    "sanders_unmatch = unmatched[unmatched['url'].str.contains(\"sanders\",na=False, case=False)]\n",
    "cruz_unmatch = unmatched[unmatched['url'].str.contains(\"cruz\",na=False, case=False)]"
   ]
  },
  {
   "cell_type": "code",
   "execution_count": 53,
   "metadata": {
    "collapsed": false
   },
   "outputs": [
    {
     "name": "stdout",
     "output_type": "stream",
     "text": [
      "Total Unmatched Stories 1660220\n",
      "Number of Unmatched Stories about Clinton 218936 13.19 %\n",
      "Number of Unmatched Stories about Trump 629473 37.92 %\n",
      "Number of Unmatched Stories about Sanders 185002 11.14 %\n",
      "Number of Unmatched Stories about Cruz 150528 9.07 %\n"
     ]
    }
   ],
   "source": [
    "print \"Total Unmatched Stories\", len(unmatched)\n",
    "print \"Number of Unmatched Stories about Clinton\", len(clinton_unmatch), \"%.2f\" % float(len(clinton_unmatch) / (.01* len(unmatched))),'%'\n",
    "print \"Number of Unmatched Stories about Trump\", len(trump_unmatch), \"%.2f\" % float(len(trump_unmatch) / (.01* len(unmatched))),'%'\n",
    "print \"Number of Unmatched Stories about Sanders\", len(sanders_unmatch),\"%.2f\" % float(len(sanders_unmatch) / (.01* len(unmatched))),'%'\n",
    "print \"Number of Unmatched Stories about Cruz\", len(cruz_unmatch), \"%.2f\" % float(len(cruz_unmatch) / (.01* len(unmatched))),'%'"
   ]
  },
  {
   "cell_type": "code",
   "execution_count": 54,
   "metadata": {
    "collapsed": false
   },
   "outputs": [],
   "source": [
    "ORGS=['politico', 'huffingtonpost', 'cnn', 'washingtonpost', 'npr', 'wsj', 'fox', 'nytimes', 'latimes', 'buzzfeed', 'mcclatchy']"
   ]
  },
  {
   "cell_type": "code",
   "execution_count": 55,
   "metadata": {
    "collapsed": false
   },
   "outputs": [
    {
     "name": "stdout",
     "output_type": "stream",
     "text": [
      "POLITICO\n",
      "10.27 % ( 170464 )\n",
      "\n",
      "HUFFINGTONPOST\n",
      "14.94 % ( 248004 )\n",
      "\n",
      "CNN\n",
      "18.37 % ( 304915 )\n",
      "\n",
      "WASHINGTONPOST\n",
      "15.55 % ( 258189 )\n",
      "\n",
      "NPR\n",
      "3.26 % ( 54155 )\n",
      "\n",
      "WSJ\n",
      "2.97 % ( 49247 )\n",
      "\n",
      "FOX\n",
      "6.99 % ( 116064 )\n",
      "\n",
      "NYTIMES\n",
      "19.69 % ( 326978 )\n",
      "\n",
      "LATIMES\n",
      "1.59 % ( 26464 )\n",
      "\n",
      "BUZZFEED\n",
      "2.37 % ( 39356 )\n",
      "\n",
      "MCCLATCHY\n",
      "0.15 % ( 2426 )\n",
      "\n"
     ]
    }
   ],
   "source": [
    "for o in ORGS:\n",
    "    print o.upper()\n",
    "    foo = unmatched[unmatched['url'].str.contains(o,na=False, case=False)]\n",
    "    print  \"%.2f\" % float(len(foo) / (.01* len(unmatched))),'%', \"(\",len(foo),\")\"\n",
    "    print\n",
    "     \n",
    " "
   ]
  },
  {
   "cell_type": "code",
   "execution_count": null,
   "metadata": {
    "collapsed": false
   },
   "outputs": [],
   "source": []
  },
  {
   "cell_type": "code",
   "execution_count": null,
   "metadata": {
    "collapsed": false
   },
   "outputs": [],
   "source": []
  },
  {
   "cell_type": "code",
   "execution_count": null,
   "metadata": {
    "collapsed": true
   },
   "outputs": [],
   "source": []
  }
 ],
 "metadata": {
  "kernelspec": {
   "display_name": "Python 2",
   "language": "python",
   "name": "python2"
  },
  "language_info": {
   "codemirror_mode": {
    "name": "ipython",
    "version": 2
   },
   "file_extension": ".py",
   "mimetype": "text/x-python",
   "name": "python",
   "nbconvert_exporter": "python",
   "pygments_lexer": "ipython2",
   "version": "2.7.11"
  }
 },
 "nbformat": 4,
 "nbformat_minor": 0
}
