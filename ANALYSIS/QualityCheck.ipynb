{
 "cells": [
  {
   "cell_type": "code",
   "execution_count": 1,
   "metadata": {
    "collapsed": true
   },
   "outputs": [],
   "source": [
    "import seaborn as sns\n",
    "import matplotlib.pyplot as plt\n",
    "import pandas\n",
    "%matplotlib inline\n",
    "import numpy as np"
   ]
  },
  {
   "cell_type": "code",
   "execution_count": 2,
   "metadata": {
    "collapsed": true
   },
   "outputs": [],
   "source": [
    "pandas.set_option('max_colwidth', 800)"
   ]
  },
  {
   "cell_type": "code",
   "execution_count": 3,
   "metadata": {
    "collapsed": false
   },
   "outputs": [],
   "source": [
    "all_tweets = pandas.read_csv('DATA/ALL_NEWSDOMAIN.CSV', error_bad_lines=False,names=['tid','url'], dtype={'tid': object})"
   ]
  },
  {
   "cell_type": "code",
   "execution_count": 4,
   "metadata": {
    "collapsed": false
   },
   "outputs": [
    {
     "data": {
      "text/plain": [
       "1798216"
      ]
     },
     "execution_count": 4,
     "metadata": {},
     "output_type": "execute_result"
    }
   ],
   "source": [
    "len(all_tweets)"
   ]
  },
  {
   "cell_type": "code",
   "execution_count": 55,
   "metadata": {
    "collapsed": false
   },
   "outputs": [],
   "source": [
    "matched = pandas.read_csv(\"DATA/JOINED/ALL.JOINED\",names=['url','title','date_written','org','tid'], index_col=False,dtype={'tid': object})"
   ]
  },
  {
   "cell_type": "code",
   "execution_count": 36,
   "metadata": {
    "collapsed": false
   },
   "outputs": [
    {
     "data": {
      "text/plain": [
       "137986"
      ]
     },
     "execution_count": 36,
     "metadata": {},
     "output_type": "execute_result"
    }
   ],
   "source": [
    "len(matched)"
   ]
  },
  {
   "cell_type": "code",
   "execution_count": 37,
   "metadata": {
    "collapsed": false
   },
   "outputs": [
    {
     "data": {
      "text/plain": [
       "Index([u'url', u'title', u'date_written', u'org', u'tid'], dtype='object')"
      ]
     },
     "execution_count": 37,
     "metadata": {},
     "output_type": "execute_result"
    }
   ],
   "source": [
    "matched.columns"
   ]
  },
  {
   "cell_type": "code",
   "execution_count": 56,
   "metadata": {
    "collapsed": false
   },
   "outputs": [],
   "source": [
    "unmatched = all_tweets[-all_tweets.tid.isin(matched.tid)]"
   ]
  },
  {
   "cell_type": "code",
   "execution_count": 39,
   "metadata": {
    "collapsed": false
   },
   "outputs": [
    {
     "data": {
      "text/plain": [
       "-137986"
      ]
     },
     "execution_count": 39,
     "metadata": {},
     "output_type": "execute_result"
    }
   ],
   "source": [
    "len(all_tweets) - (len(matched) + len(unmatched)) # WHY MISSING 10?"
   ]
  },
  {
   "cell_type": "code",
   "execution_count": 40,
   "metadata": {
    "collapsed": false
   },
   "outputs": [],
   "source": [
    "#unmatched.sample(100).sort_values('url').to_csv('DATA/QC/random_100_2.csv')"
   ]
  },
  {
   "cell_type": "markdown",
   "metadata": {},
   "source": [
    "## Check what kind of stories are being missed"
   ]
  },
  {
   "cell_type": "code",
   "execution_count": 41,
   "metadata": {
    "collapsed": false
   },
   "outputs": [
    {
     "data": {
      "text/plain": [
       "tid    1798213\n",
       "url    1798215\n",
       "dtype: int64"
      ]
     },
     "execution_count": 41,
     "metadata": {},
     "output_type": "execute_result"
    }
   ],
   "source": [
    "unmatched.count()"
   ]
  },
  {
   "cell_type": "code",
   "execution_count": 42,
   "metadata": {
    "collapsed": false
   },
   "outputs": [
    {
     "data": {
      "text/html": [
       "<div>\n",
       "<table border=\"1\" class=\"dataframe\">\n",
       "  <thead>\n",
       "    <tr style=\"text-align: right;\">\n",
       "      <th></th>\n",
       "      <th>url</th>\n",
       "      <th>title</th>\n",
       "      <th>date_written</th>\n",
       "      <th>org</th>\n",
       "      <th>tid</th>\n",
       "    </tr>\n",
       "  </thead>\n",
       "  <tbody>\n",
       "    <tr>\n",
       "      <th>0</th>\n",
       "      <td>http://blogs.wsj.com/chinarealtime/2016/04/18/donald-trump-irrational-on-trade-chinas-finance-minister-says/</td>\n",
       "      <td>2246fe9d948543ea7166877279a4e742</td>\n",
       "      <td>Donald Trump ‘Irrational’ on Trade, China’s Finance Minister Says</td>\n",
       "      <td>2016-04-18 03:54:40</td>\n",
       "      <td>wsj</td>\n",
       "    </tr>\n",
       "    <tr>\n",
       "      <th>1</th>\n",
       "      <td>http://blogs.wsj.com/chinarealtime/2016/04/18/donald-trump-irrational-on-trade-chinas-finance-minister-says/</td>\n",
       "      <td>2246fe9d948543ea7166877279a4e742</td>\n",
       "      <td>Donald Trump ‘Irrational’ on Trade, China’s Finance Minister Says</td>\n",
       "      <td>2016-04-18 03:54:40</td>\n",
       "      <td>wsj</td>\n",
       "    </tr>\n",
       "    <tr>\n",
       "      <th>2</th>\n",
       "      <td>http://blogs.wsj.com/chinarealtime/2016/04/20/voters-stung-by-chinese-import-competition-turned-to-democrats-researchers/</td>\n",
       "      <td>a3d05b5651d29c4a8e8a4376a1845e90</td>\n",
       "      <td>Voters Stung by Chinese Import Competition Turned to Democrats, Economists Say</td>\n",
       "      <td>2016-04-20 03:15:54</td>\n",
       "      <td>wsj</td>\n",
       "    </tr>\n",
       "    <tr>\n",
       "      <th>3</th>\n",
       "      <td>http://blogs.wsj.com/chinarealtime/2016/04/20/voters-stung-by-chinese-import-competition-turned-to-democrats-researchers/</td>\n",
       "      <td>a3d05b5651d29c4a8e8a4376a1845e90</td>\n",
       "      <td>Voters Stung by Chinese Import Competition Turned to Democrats, Economists Say</td>\n",
       "      <td>2016-04-20 03:15:54</td>\n",
       "      <td>wsj</td>\n",
       "    </tr>\n",
       "    <tr>\n",
       "      <th>4</th>\n",
       "      <td>http://blogs.wsj.com/law/2016/04/15/sanders-and-trump-embrace-the-supreme-court-litmus-test/</td>\n",
       "      <td>a5c4c8d5e5ce59b7ea67765b9b3280f6</td>\n",
       "      <td>Sanders and Trump Embrace the Supreme Court Litmus Test</td>\n",
       "      <td>2016-04-15 20:44:01</td>\n",
       "      <td>wsj</td>\n",
       "    </tr>\n",
       "  </tbody>\n",
       "</table>\n",
       "</div>"
      ],
      "text/plain": [
       "                                                                                                                         url  \\\n",
       "0               http://blogs.wsj.com/chinarealtime/2016/04/18/donald-trump-irrational-on-trade-chinas-finance-minister-says/   \n",
       "1               http://blogs.wsj.com/chinarealtime/2016/04/18/donald-trump-irrational-on-trade-chinas-finance-minister-says/   \n",
       "2  http://blogs.wsj.com/chinarealtime/2016/04/20/voters-stung-by-chinese-import-competition-turned-to-democrats-researchers/   \n",
       "3  http://blogs.wsj.com/chinarealtime/2016/04/20/voters-stung-by-chinese-import-competition-turned-to-democrats-researchers/   \n",
       "4                               http://blogs.wsj.com/law/2016/04/15/sanders-and-trump-embrace-the-supreme-court-litmus-test/   \n",
       "\n",
       "                              title  \\\n",
       "0  2246fe9d948543ea7166877279a4e742   \n",
       "1  2246fe9d948543ea7166877279a4e742   \n",
       "2  a3d05b5651d29c4a8e8a4376a1845e90   \n",
       "3  a3d05b5651d29c4a8e8a4376a1845e90   \n",
       "4  a5c4c8d5e5ce59b7ea67765b9b3280f6   \n",
       "\n",
       "                                                                     date_written  \\\n",
       "0               Donald Trump ‘Irrational’ on Trade, China’s Finance Minister Says   \n",
       "1               Donald Trump ‘Irrational’ on Trade, China’s Finance Minister Says   \n",
       "2  Voters Stung by Chinese Import Competition Turned to Democrats, Economists Say   \n",
       "3  Voters Stung by Chinese Import Competition Turned to Democrats, Economists Say   \n",
       "4                         Sanders and Trump Embrace the Supreme Court Litmus Test   \n",
       "\n",
       "                   org  tid  \n",
       "0  2016-04-18 03:54:40  wsj  \n",
       "1  2016-04-18 03:54:40  wsj  \n",
       "2  2016-04-20 03:15:54  wsj  \n",
       "3  2016-04-20 03:15:54  wsj  \n",
       "4  2016-04-15 20:44:01  wsj  "
      ]
     },
     "execution_count": 42,
     "metadata": {},
     "output_type": "execute_result"
    }
   ],
   "source": [
    "matched.head()"
   ]
  },
  {
   "cell_type": "code",
   "execution_count": 44,
   "metadata": {
    "collapsed": false
   },
   "outputs": [],
   "source": [
    "clinton_unmatch = unmatched[unmatched['url'].str.contains(\"clinton\",na=False, case=False)]\n",
    "trump_unmatch = unmatched[unmatched['url'].str.contains(\"trump\",na=False, case=False)]\n",
    "sanders_unmatch = unmatched[unmatched['url'].str.contains(\"sanders\",na=False, case=False)]\n",
    "cruz_unmatch = unmatched[unmatched['url'].str.contains(\"cruz\",na=False, case=False)]"
   ]
  },
  {
   "cell_type": "code",
   "execution_count": 45,
   "metadata": {
    "collapsed": false
   },
   "outputs": [],
   "source": [
    "clinton_match = matched[matched['url'].str.contains(\"clinton\",na=False, case=False)]\n",
    "trump_match = matched[matched['url'].str.contains(\"trump\",na=False, case=False)]\n",
    "sanders_match = matched[matched['url'].str.contains(\"sanders\",na=False, case=False)]\n",
    "cruz_match = matched[matched['url'].str.contains(\"cruz\",na=False, case=False)]"
   ]
  },
  {
   "cell_type": "code",
   "execution_count": 46,
   "metadata": {
    "collapsed": false
   },
   "outputs": [
    {
     "name": "stdout",
     "output_type": "stream",
     "text": [
      "Total Unmatched Stories 1798216\n",
      "Number of Unmatched Stories about Clinton 237498 13.21 % of the Unmatched\n",
      "Number of Unmatched Stories about Trump 705036 39.21 %\n",
      "Number of Unmatched Stories about Sanders 197505 10.98 %\n",
      "Number of Unmatched Stories about Cruz 177356 9.86 %\n"
     ]
    }
   ],
   "source": [
    "print \"Total Unmatched Stories\", len(unmatched)\n",
    "print \"Number of Unmatched Stories about Clinton\", len(clinton_unmatch), \"%.2f\" % float(len(clinton_unmatch) / (.01* len(unmatched))),'% of the Unmatched'\n",
    "print \"Number of Unmatched Stories about Trump\", len(trump_unmatch), \"%.2f\" % float(len(trump_unmatch) / (.01* len(unmatched))),'%'\n",
    "print \"Number of Unmatched Stories about Sanders\", len(sanders_unmatch),\"%.2f\" % float(len(sanders_unmatch) / (.01* len(unmatched))),'%'\n",
    "print \"Number of Unmatched Stories about Cruz\", len(cruz_unmatch), \"%.2f\" % float(len(cruz_unmatch) / (.01* len(unmatched))),'%'"
   ]
  },
  {
   "cell_type": "code",
   "execution_count": 47,
   "metadata": {
    "collapsed": false
   },
   "outputs": [
    {
     "name": "stdout",
     "output_type": "stream",
     "text": [
      "Total Unmatched Stories 1798216\n",
      "Total Matched Stories 137986 OR 7.67 % of the Unmatched\n"
     ]
    }
   ],
   "source": [
    "print \"Total Unmatched Stories\", len(unmatched)\n",
    "print \"Total Matched Stories\", len(matched), \"OR\", \"%.2f\" % float(len(matched) / (.01* len(unmatched))),'% of the Unmatched'"
   ]
  },
  {
   "cell_type": "code",
   "execution_count": 48,
   "metadata": {
    "collapsed": false
   },
   "outputs": [
    {
     "name": "stdout",
     "output_type": "stream",
     "text": [
      "# of Clinton Matches 18551 237498 0.0781101314537\n",
      "# of Trump Matches 75531 705036 0.107130699709\n",
      "# of Sanders Matches 12496 197505 0.0632692843219\n",
      "# of Cruz Matches 26816 177356 0.151198718961\n"
     ]
    }
   ],
   "source": [
    "print \"# of Clinton Matches\", len(clinton_match), len(clinton_unmatch),  (1.0 * len(clinton_match)) / len(clinton_unmatch)\n",
    "print \"# of Trump Matches\", len(trump_match), len(trump_unmatch),  (1.0 * len(trump_match)) / len(trump_unmatch)\n",
    "print \"# of Sanders Matches\", len(sanders_match), len(sanders_unmatch),  (1.0 * len(sanders_match)) / len(sanders_unmatch)\n",
    "print \"# of Cruz Matches\", len(cruz_match), len(cruz_unmatch),  (1.0 * len(cruz_match)) / len(cruz_unmatch)"
   ]
  },
  {
   "cell_type": "code",
   "execution_count": 50,
   "metadata": {
    "collapsed": false
   },
   "outputs": [],
   "source": [
    "ORGS=['politico', 'huffingtonpost', 'cnn', 'washingtonpost', 'npr', 'wsj', 'fox', 'nytimes', 'latimes', 'buzzfeed', 'mcclatchy']"
   ]
  },
  {
   "cell_type": "code",
   "execution_count": 57,
   "metadata": {
    "collapsed": false
   },
   "outputs": [
    {
     "name": "stdout",
     "output_type": "stream",
     "text": [
      "POLITICO\n",
      "31201 201666 15.4716213938\n",
      "HUFFINGTONPOST\n",
      "4858 252862 1.92120603333\n",
      "CNN\n",
      "63897 368812 17.3250870362\n",
      "WASHINGTONPOST\n",
      "8541 266730 3.20211449781\n",
      "NPR\n",
      "3929 58099 6.76259488115\n",
      "WSJ\n",
      "5161 54409 9.48556305023\n",
      "FOX\n",
      "19329 135406 14.2748474957\n",
      "NYTIMES\n",
      "1058 328044 0.322517711039\n",
      "LATIMES\n",
      "743 27208 2.73081446633\n",
      "BUZZFEED\n",
      "628 39984 1.5706282513\n",
      "MCCLATCHY\n",
      "255 2681 9.51137635211\n"
     ]
    }
   ],
   "source": [
    "for o in ORGS:\n",
    "    print o.upper()\n",
    "    un = len(unmatched[unmatched['url'].str.contains(o,na=False, case=False)])\n",
    "    ma = len(matched[matched['url'].str.contains(o,na=False, case=False)])\n",
    "    #print  \"%.2f\" % float(len(foo) / (.01* len(unmatched))),'%', \"(\",len(foo),\")\"\n",
    "    print ma, un, ma/ (.01 * un)\n",
    " "
   ]
  },
  {
   "cell_type": "code",
   "execution_count": null,
   "metadata": {
    "collapsed": false
   },
   "outputs": [],
   "source": []
  },
  {
   "cell_type": "code",
   "execution_count": null,
   "metadata": {
    "collapsed": false
   },
   "outputs": [],
   "source": []
  },
  {
   "cell_type": "code",
   "execution_count": null,
   "metadata": {
    "collapsed": true
   },
   "outputs": [],
   "source": []
  }
 ],
 "metadata": {
  "kernelspec": {
   "display_name": "Python 2",
   "language": "python",
   "name": "python2"
  },
  "language_info": {
   "codemirror_mode": {
    "name": "ipython",
    "version": 2
   },
   "file_extension": ".py",
   "mimetype": "text/x-python",
   "name": "python",
   "nbconvert_exporter": "python",
   "pygments_lexer": "ipython2",
   "version": "2.7.11"
  }
 },
 "nbformat": 4,
 "nbformat_minor": 0
}
