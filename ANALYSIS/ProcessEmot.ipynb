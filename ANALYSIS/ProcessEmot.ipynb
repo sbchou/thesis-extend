{
 "cells": [
  {
   "cell_type": "code",
   "execution_count": 1,
   "metadata": {
    "collapsed": true
   },
   "outputs": [],
   "source": [
    "import seaborn as sns\n",
    "import matplotlib.pyplot as plt\n",
    "import pandas\n",
    "%matplotlib inline\n",
    "import numpy as np\n",
    "import csv\n",
    "import "
   ]
  },
  {
   "cell_type": "code",
   "execution_count": 14,
   "metadata": {
    "collapsed": true
   },
   "outputs": [],
   "source": [
    "from newspaper import Article\n",
    "import csv\n",
    "from collections import Counter\n",
    "import re"
   ]
  },
  {
   "cell_type": "code",
   "execution_count": 2,
   "metadata": {
    "collapsed": true
   },
   "outputs": [],
   "source": [
    "df = pandas.read_csv('DATA/GT_10_STORIES/subset.csv')"
   ]
  },
  {
   "cell_type": "code",
   "execution_count": 3,
   "metadata": {
    "collapsed": false
   },
   "outputs": [
    {
     "data": {
      "text/plain": [
       "Index([u'Unnamed: 0', u'_id', u'author', u'sentiment', u'time', u'tweet',\n",
       "       u'url', u'a_id', u'title', u'date_written', u'org', u't_id',\n",
       "       u'candidates'],\n",
       "      dtype='object')"
      ]
     },
     "execution_count": 3,
     "metadata": {},
     "output_type": "execute_result"
    }
   ],
   "source": [
    "df.columns"
   ]
  },
  {
   "cell_type": "code",
   "execution_count": 4,
   "metadata": {
    "collapsed": false
   },
   "outputs": [
    {
     "name": "stdout",
     "output_type": "stream",
     "text": [
      "20964\n"
     ]
    }
   ],
   "source": [
    "# should have 2,658 stories BY TITLE, 2734 by URL & 123,113 tweets\n",
    "# why am i gaining data???\n",
    "len(df)\n",
    "print len(set(df.author))"
   ]
  },
  {
   "cell_type": "code",
   "execution_count": 5,
   "metadata": {
    "collapsed": true
   },
   "outputs": [],
   "source": [
    "a_ids = list(set(df.a_id.astype(str)))"
   ]
  },
  {
   "cell_type": "code",
   "execution_count": 6,
   "metadata": {
    "collapsed": false
   },
   "outputs": [],
   "source": [
    "#with open('DATA/GT_10_STORIES/article_ids.csv', 'w') as f:\n",
    "#    f.write(\"\\n\".join(a_ids))"
   ]
  },
  {
   "cell_type": "code",
   "execution_count": 7,
   "metadata": {
    "collapsed": false
   },
   "outputs": [],
   "source": [
    "stories = pandas.read_csv('DATA/GT_10_STORIES/url_body.csv')"
   ]
  },
  {
   "cell_type": "code",
   "execution_count": 11,
   "metadata": {
    "collapsed": false
   },
   "outputs": [
    {
     "name": "stdout",
     "output_type": "stream",
     "text": [
      "Number of stories without text\n"
     ]
    },
    {
     "data": {
      "text/plain": [
       "318"
      ]
     },
     "execution_count": 11,
     "metadata": {},
     "output_type": "execute_result"
    }
   ],
   "source": [
    "print \"Number of stories without text\"\n",
    "len(stories[stories.body.isnull()])"
   ]
  },
  {
   "cell_type": "markdown",
   "metadata": {},
   "source": [
    "## for each row that doesn't have text, fetch the article text with Newspaper library"
   ]
  },
  {
   "cell_type": "code",
   "execution_count": 12,
   "metadata": {
    "collapsed": true
   },
   "outputs": [],
   "source": [
    "todo = stories[stories.body.isnull()]"
   ]
  },
  {
   "cell_type": "code",
   "execution_count": 13,
   "metadata": {
    "collapsed": false
   },
   "outputs": [
    {
     "data": {
      "text/html": [
       "<div>\n",
       "<table border=\"1\" class=\"dataframe\">\n",
       "  <thead>\n",
       "    <tr style=\"text-align: right;\">\n",
       "      <th></th>\n",
       "      <th>url</th>\n",
       "      <th>body</th>\n",
       "    </tr>\n",
       "  </thead>\n",
       "  <tbody>\n",
       "    <tr>\n",
       "      <th>9</th>\n",
       "      <td>https://www.washingtonpost.com/news/post-polit...</td>\n",
       "      <td>NaN</td>\n",
       "    </tr>\n",
       "    <tr>\n",
       "      <th>11</th>\n",
       "      <td>https://www.washingtonpost.com/news/post-polit...</td>\n",
       "      <td>NaN</td>\n",
       "    </tr>\n",
       "    <tr>\n",
       "      <th>20</th>\n",
       "      <td>http://money.cnn.com/2016/03/11/news/companies...</td>\n",
       "      <td>NaN</td>\n",
       "    </tr>\n",
       "    <tr>\n",
       "      <th>21</th>\n",
       "      <td>https://www.washingtonpost.com/news/the-fix/wp...</td>\n",
       "      <td>NaN</td>\n",
       "    </tr>\n",
       "    <tr>\n",
       "      <th>25</th>\n",
       "      <td>http://money.cnn.com/2016/03/16/media/donald-t...</td>\n",
       "      <td>NaN</td>\n",
       "    </tr>\n",
       "  </tbody>\n",
       "</table>\n",
       "</div>"
      ],
      "text/plain": [
       "                                                  url body\n",
       "9   https://www.washingtonpost.com/news/post-polit...  NaN\n",
       "11  https://www.washingtonpost.com/news/post-polit...  NaN\n",
       "20  http://money.cnn.com/2016/03/11/news/companies...  NaN\n",
       "21  https://www.washingtonpost.com/news/the-fix/wp...  NaN\n",
       "25  http://money.cnn.com/2016/03/16/media/donald-t...  NaN"
      ]
     },
     "execution_count": 13,
     "metadata": {},
     "output_type": "execute_result"
    }
   ],
   "source": [
    "todo.head()"
   ]
  },
  {
   "cell_type": "code",
   "execution_count": 15,
   "metadata": {
    "collapsed": true
   },
   "outputs": [],
   "source": [
    "def get_story(url):\n",
    "    article = Article(url)\n",
    "    article.download()\n",
    "    article.parse()\n",
    "    body = article.text\n",
    "    return body"
   ]
  },
  {
   "cell_type": "code",
   "execution_count": 16,
   "metadata": {
    "collapsed": false
   },
   "outputs": [
    {
     "name": "stderr",
     "output_type": "stream",
     "text": [
      "/usr/local/lib/python2.7/site-packages/ipykernel/__main__.py:1: SettingWithCopyWarning: \n",
      "A value is trying to be set on a copy of a slice from a DataFrame.\n",
      "Try using .loc[row_indexer,col_indexer] = value instead\n",
      "\n",
      "See the caveats in the documentation: http://pandas.pydata.org/pandas-docs/stable/indexing.html#indexing-view-versus-copy\n",
      "  if __name__ == '__main__':\n"
     ]
    }
   ],
   "source": [
    "todo['body'] = todo.url.apply(lambda row: get_story(row))"
   ]
  },
  {
   "cell_type": "code",
   "execution_count": 18,
   "metadata": {
    "collapsed": false
   },
   "outputs": [
    {
     "data": {
      "text/plain": [
       "9       False\n",
       "11      False\n",
       "20      False\n",
       "21      False\n",
       "25      False\n",
       "28      False\n",
       "46      False\n",
       "60      False\n",
       "88      False\n",
       "94      False\n",
       "98      False\n",
       "112     False\n",
       "119     False\n",
       "133     False\n",
       "145     False\n",
       "153     False\n",
       "162     False\n",
       "163     False\n",
       "176     False\n",
       "180     False\n",
       "181     False\n",
       "182     False\n",
       "188     False\n",
       "199     False\n",
       "218     False\n",
       "229     False\n",
       "240     False\n",
       "248     False\n",
       "249     False\n",
       "253     False\n",
       "        ...  \n",
       "2459    False\n",
       "2463    False\n",
       "2466    False\n",
       "2474    False\n",
       "2482    False\n",
       "2500    False\n",
       "2507    False\n",
       "2511    False\n",
       "2518    False\n",
       "2546    False\n",
       "2556    False\n",
       "2561    False\n",
       "2567    False\n",
       "2575    False\n",
       "2577    False\n",
       "2582    False\n",
       "2585    False\n",
       "2586    False\n",
       "2609    False\n",
       "2611    False\n",
       "2613    False\n",
       "2635    False\n",
       "2649    False\n",
       "2653    False\n",
       "2657    False\n",
       "2690    False\n",
       "2694    False\n",
       "2714    False\n",
       "2715    False\n",
       "2717    False\n",
       "Name: body_upper, dtype: bool"
      ]
     },
     "execution_count": 18,
     "metadata": {},
     "output_type": "execute_result"
    }
   ],
   "source": [
    "todo.body.isnull()"
   ]
  },
  {
   "cell_type": "code",
   "execution_count": 29,
   "metadata": {
    "collapsed": true
   },
   "outputs": [],
   "source": [
    "no_nulls = stories.dropna()"
   ]
  },
  {
   "cell_type": "code",
   "execution_count": 51,
   "metadata": {
    "collapsed": false
   },
   "outputs": [],
   "source": [
    "#todo['body'] = todo.body_upper"
   ]
  },
  {
   "cell_type": "code",
   "execution_count": 52,
   "metadata": {
    "collapsed": false
   },
   "outputs": [
    {
     "data": {
      "text/html": [
       "<div>\n",
       "<table border=\"1\" class=\"dataframe\">\n",
       "  <thead>\n",
       "    <tr style=\"text-align: right;\">\n",
       "      <th></th>\n",
       "      <th>url</th>\n",
       "      <th>body</th>\n",
       "      <th>body_upper</th>\n",
       "    </tr>\n",
       "  </thead>\n",
       "  <tbody>\n",
       "    <tr>\n",
       "      <th>9</th>\n",
       "      <td>https://www.washingtonpost.com/news/post-polit...</td>\n",
       "      <td>\\n\\nRepublican presidential candidates Donald ...</td>\n",
       "      <td>\\n\\nRepublican presidential candidates Donald ...</td>\n",
       "    </tr>\n",
       "    <tr>\n",
       "      <th>11</th>\n",
       "      <td>https://www.washingtonpost.com/news/post-polit...</td>\n",
       "      <td>\\n\\nFormer Florida governor Jeb Bush formally ...</td>\n",
       "      <td>\\n\\nFormer Florida governor Jeb Bush formally ...</td>\n",
       "    </tr>\n",
       "    <tr>\n",
       "      <th>20</th>\n",
       "      <td>http://money.cnn.com/2016/03/11/news/companies...</td>\n",
       "      <td>If there's one thing the presidential candidat...</td>\n",
       "      <td>If there's one thing the presidential candidat...</td>\n",
       "    </tr>\n",
       "    <tr>\n",
       "      <th>21</th>\n",
       "      <td>https://www.washingtonpost.com/news/the-fix/wp...</td>\n",
       "      <td>Republican presidential candidate Ted Cruz is ...</td>\n",
       "      <td>Republican presidential candidate Ted Cruz is ...</td>\n",
       "    </tr>\n",
       "    <tr>\n",
       "      <th>25</th>\n",
       "      <td>http://money.cnn.com/2016/03/16/media/donald-t...</td>\n",
       "      <td>Fox News has canceled its March 21 Republican ...</td>\n",
       "      <td>Fox News has canceled its March 21 Republican ...</td>\n",
       "    </tr>\n",
       "  </tbody>\n",
       "</table>\n",
       "</div>"
      ],
      "text/plain": [
       "                                                  url  \\\n",
       "9   https://www.washingtonpost.com/news/post-polit...   \n",
       "11  https://www.washingtonpost.com/news/post-polit...   \n",
       "20  http://money.cnn.com/2016/03/11/news/companies...   \n",
       "21  https://www.washingtonpost.com/news/the-fix/wp...   \n",
       "25  http://money.cnn.com/2016/03/16/media/donald-t...   \n",
       "\n",
       "                                                 body  \\\n",
       "9   \\n\\nRepublican presidential candidates Donald ...   \n",
       "11  \\n\\nFormer Florida governor Jeb Bush formally ...   \n",
       "20  If there's one thing the presidential candidat...   \n",
       "21  Republican presidential candidate Ted Cruz is ...   \n",
       "25  Fox News has canceled its March 21 Republican ...   \n",
       "\n",
       "                                           body_upper  \n",
       "9   \\n\\nRepublican presidential candidates Donald ...  \n",
       "11  \\n\\nFormer Florida governor Jeb Bush formally ...  \n",
       "20  If there's one thing the presidential candidat...  \n",
       "21  Republican presidential candidate Ted Cruz is ...  \n",
       "25  Fox News has canceled its March 21 Republican ...  "
      ]
     },
     "execution_count": 52,
     "metadata": {},
     "output_type": "execute_result"
    }
   ],
   "source": [
    "todo.head()"
   ]
  },
  {
   "cell_type": "code",
   "execution_count": 53,
   "metadata": {
    "collapsed": false
   },
   "outputs": [],
   "source": [
    "all_stories = pandas.concat([todo, stories])"
   ]
  },
  {
   "cell_type": "code",
   "execution_count": 54,
   "metadata": {
    "collapsed": false
   },
   "outputs": [
    {
     "name": "stdout",
     "output_type": "stream",
     "text": [
      "2726\n"
     ]
    }
   ],
   "source": [
    "print len(all_stories)"
   ]
  },
  {
   "cell_type": "code",
   "execution_count": 58,
   "metadata": {
    "collapsed": false
   },
   "outputs": [
    {
     "data": {
      "text/html": [
       "<div>\n",
       "<table border=\"1\" class=\"dataframe\">\n",
       "  <thead>\n",
       "    <tr style=\"text-align: right;\">\n",
       "      <th></th>\n",
       "      <th>body</th>\n",
       "      <th>body_upper</th>\n",
       "      <th>url</th>\n",
       "    </tr>\n",
       "  </thead>\n",
       "  <tbody>\n",
       "    <tr>\n",
       "      <th>9</th>\n",
       "      <td>\\n\\nRepublican presidential candidates Donald ...</td>\n",
       "      <td>\\n\\nRepublican presidential candidates Donald ...</td>\n",
       "      <td>https://www.washingtonpost.com/news/post-polit...</td>\n",
       "    </tr>\n",
       "    <tr>\n",
       "      <th>11</th>\n",
       "      <td>\\n\\nFormer Florida governor Jeb Bush formally ...</td>\n",
       "      <td>\\n\\nFormer Florida governor Jeb Bush formally ...</td>\n",
       "      <td>https://www.washingtonpost.com/news/post-polit...</td>\n",
       "    </tr>\n",
       "    <tr>\n",
       "      <th>20</th>\n",
       "      <td>If there's one thing the presidential candidat...</td>\n",
       "      <td>If there's one thing the presidential candidat...</td>\n",
       "      <td>http://money.cnn.com/2016/03/11/news/companies...</td>\n",
       "    </tr>\n",
       "    <tr>\n",
       "      <th>21</th>\n",
       "      <td>Republican presidential candidate Ted Cruz is ...</td>\n",
       "      <td>Republican presidential candidate Ted Cruz is ...</td>\n",
       "      <td>https://www.washingtonpost.com/news/the-fix/wp...</td>\n",
       "    </tr>\n",
       "    <tr>\n",
       "      <th>25</th>\n",
       "      <td>Fox News has canceled its March 21 Republican ...</td>\n",
       "      <td>Fox News has canceled its March 21 Republican ...</td>\n",
       "      <td>http://money.cnn.com/2016/03/16/media/donald-t...</td>\n",
       "    </tr>\n",
       "  </tbody>\n",
       "</table>\n",
       "</div>"
      ],
      "text/plain": [
       "                                                 body  \\\n",
       "9   \\n\\nRepublican presidential candidates Donald ...   \n",
       "11  \\n\\nFormer Florida governor Jeb Bush formally ...   \n",
       "20  If there's one thing the presidential candidat...   \n",
       "21  Republican presidential candidate Ted Cruz is ...   \n",
       "25  Fox News has canceled its March 21 Republican ...   \n",
       "\n",
       "                                           body_upper  \\\n",
       "9   \\n\\nRepublican presidential candidates Donald ...   \n",
       "11  \\n\\nFormer Florida governor Jeb Bush formally ...   \n",
       "20  If there's one thing the presidential candidat...   \n",
       "21  Republican presidential candidate Ted Cruz is ...   \n",
       "25  Fox News has canceled its March 21 Republican ...   \n",
       "\n",
       "                                                  url  \n",
       "9   https://www.washingtonpost.com/news/post-polit...  \n",
       "11  https://www.washingtonpost.com/news/post-polit...  \n",
       "20  http://money.cnn.com/2016/03/11/news/companies...  \n",
       "21  https://www.washingtonpost.com/news/the-fix/wp...  \n",
       "25  http://money.cnn.com/2016/03/16/media/donald-t...  "
      ]
     },
     "execution_count": 58,
     "metadata": {},
     "output_type": "execute_result"
    }
   ],
   "source": [
    "all_stories.head()"
   ]
  },
  {
   "cell_type": "code",
   "execution_count": 57,
   "metadata": {
    "collapsed": false
   },
   "outputs": [
    {
     "data": {
      "text/plain": [
       "0"
      ]
     },
     "execution_count": 57,
     "metadata": {},
     "output_type": "execute_result"
    }
   ],
   "source": [
    "len(all_stories[all_stories.body.isnull()])\n",
    "#good, no nulls."
   ]
  },
  {
   "cell_type": "code",
   "execution_count": 60,
   "metadata": {
    "collapsed": false
   },
   "outputs": [],
   "source": [
    "all_stories.to_csv(\"DATA/GT_10_STORIES/url_body_complete.csv\", columns=['url','body'],encoding='utf-8')"
   ]
  },
  {
   "cell_type": "code",
   "execution_count": null,
   "metadata": {
    "collapsed": true
   },
   "outputs": [],
   "source": [
    "# now save this to CSV."
   ]
  },
  {
   "cell_type": "code",
   "execution_count": null,
   "metadata": {
    "collapsed": true
   },
   "outputs": [],
   "source": []
  },
  {
   "cell_type": "code",
   "execution_count": 23,
   "metadata": {
    "collapsed": false
   },
   "outputs": [
    {
     "data": {
      "text/plain": [
       "Index([u'url', u'body', u'body_upper'], dtype='object')"
      ]
     },
     "execution_count": 23,
     "metadata": {},
     "output_type": "execute_result"
    }
   ],
   "source": [
    "todo.columns"
   ]
  },
  {
   "cell_type": "code",
   "execution_count": null,
   "metadata": {
    "collapsed": false
   },
   "outputs": [],
   "source": [
    "with open('DATA/EMOT/Negativ.csv', 'rb') as f:\n",
    "    reader = csv.reader(f, quotechar='\"')\n",
    "    negativ = list(reader)"
   ]
  },
  {
   "cell_type": "code",
   "execution_count": null,
   "metadata": {
    "collapsed": true
   },
   "outputs": [],
   "source": [
    "with open('DATA/EMOT/Positiv.csv', 'rb') as f:\n",
    "    reader = csv.reader(f, quotechar='\"')\n",
    "    positiv = list(reader)"
   ]
  },
  {
   "cell_type": "code",
   "execution_count": null,
   "metadata": {
    "collapsed": true
   },
   "outputs": [],
   "source": [
    "positiv = [p[0] for p in positiv]\n",
    "negativ = [n[0] for n in negativ]"
   ]
  },
  {
   "cell_type": "code",
   "execution_count": 28,
   "metadata": {
    "collapsed": false
   },
   "outputs": [
    {
     "name": "stdout",
     "output_type": "stream",
     "text": [
      "2408\n"
     ]
    }
   ],
   "source": [
    "stories = stories.dropna()\n",
    "print len(stories)"
   ]
  },
  {
   "cell_type": "code",
   "execution_count": null,
   "metadata": {
    "collapsed": false
   },
   "outputs": [],
   "source": [
    "stories['body_caps'] = stories.body.apply(lambda row: row.upper())"
   ]
  },
  {
   "cell_type": "code",
   "execution_count": null,
   "metadata": {
    "collapsed": false
   },
   "outputs": [],
   "source": []
  },
  {
   "cell_type": "code",
   "execution_count": null,
   "metadata": {
    "collapsed": false
   },
   "outputs": [],
   "source": []
  },
  {
   "cell_type": "code",
   "execution_count": null,
   "metadata": {
    "collapsed": false
   },
   "outputs": [],
   "source": []
  },
  {
   "cell_type": "code",
   "execution_count": null,
   "metadata": {
    "collapsed": true
   },
   "outputs": [],
   "source": []
  }
 ],
 "metadata": {
  "kernelspec": {
   "display_name": "Python 2",
   "language": "python",
   "name": "python2"
  },
  "language_info": {
   "codemirror_mode": {
    "name": "ipython",
    "version": 2
   },
   "file_extension": ".py",
   "mimetype": "text/x-python",
   "name": "python",
   "nbconvert_exporter": "python",
   "pygments_lexer": "ipython2",
   "version": "2.7.11"
  }
 },
 "nbformat": 4,
 "nbformat_minor": 0
}
