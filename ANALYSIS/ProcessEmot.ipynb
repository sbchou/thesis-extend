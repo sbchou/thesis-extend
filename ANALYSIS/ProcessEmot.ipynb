{
 "cells": [
  {
   "cell_type": "code",
   "execution_count": 26,
   "metadata": {
    "collapsed": true
   },
   "outputs": [],
   "source": [
    "import seaborn as sns\n",
    "import matplotlib.pyplot as plt\n",
    "import pandas\n",
    "%matplotlib inline\n",
    "import numpy as np"
   ]
  },
  {
   "cell_type": "code",
   "execution_count": 30,
   "metadata": {
    "collapsed": true
   },
   "outputs": [],
   "source": [
    "from collections import Counter\n",
    "import re"
   ]
  },
  {
   "cell_type": "code",
   "execution_count": 4,
   "metadata": {
    "collapsed": true
   },
   "outputs": [],
   "source": [
    "df = pandas.read_csv('DATA/GT_10_STORIES/url_body_complete.csv',index_col=0)"
   ]
  },
  {
   "cell_type": "code",
   "execution_count": 11,
   "metadata": {
    "collapsed": false
   },
   "outputs": [
    {
     "name": "stdout",
     "output_type": "stream",
     "text": [
      "2718\n"
     ]
    }
   ],
   "source": [
    "# drop nulls\n",
    "df = df.dropna()\n",
    "print len(df) # should be 2718 remaining stories"
   ]
  },
  {
   "cell_type": "markdown",
   "metadata": {},
   "source": [
    "## load emotions"
   ]
  },
  {
   "cell_type": "code",
   "execution_count": 12,
   "metadata": {
    "collapsed": true
   },
   "outputs": [],
   "source": [
    "with open('DATA/EMOT/Negativ.csv', 'rb') as f:\n",
    "    reader = csv.reader(f, quotechar='\"')\n",
    "    negativ = list(reader)"
   ]
  },
  {
   "cell_type": "code",
   "execution_count": 13,
   "metadata": {
    "collapsed": true
   },
   "outputs": [],
   "source": [
    "with open('DATA/EMOT/Positiv.csv', 'rb') as f:\n",
    "    reader = csv.reader(f, quotechar='\"')\n",
    "    positiv = list(reader)"
   ]
  },
  {
   "cell_type": "code",
   "execution_count": 14,
   "metadata": {
    "collapsed": true
   },
   "outputs": [],
   "source": [
    "positiv = [p[0] for p in positiv]\n",
    "negativ = [n[0] for n in negativ]"
   ]
  },
  {
   "cell_type": "code",
   "execution_count": 19,
   "metadata": {
    "collapsed": false
   },
   "outputs": [],
   "source": [
    "df['body_upper'] = df.body.apply(lambda row: row.upper())"
   ]
  },
  {
   "cell_type": "code",
   "execution_count": 21,
   "metadata": {
    "collapsed": false
   },
   "outputs": [],
   "source": [
    "#df.to_csv('DATA/GT_10_STORIES/url_body_UPPER.csv')"
   ]
  },
  {
   "cell_type": "code",
   "execution_count": 22,
   "metadata": {
    "collapsed": true
   },
   "outputs": [],
   "source": [
    "def count_negativ(body): \n",
    "    count = Counter(re.findall(\"[A-Z]{2,}(?![a-z])|[A-Z][a-z]+(?=[A-Z])|[\\'\\w\\-]+\", body))\n",
    "    return len({key: count[key] for key in count if key in negativ}.values())"
   ]
  },
  {
   "cell_type": "code",
   "execution_count": 23,
   "metadata": {
    "collapsed": true
   },
   "outputs": [],
   "source": [
    "def count_positiv(body): \n",
    "    count = Counter(re.findall(\"[A-Z]{2,}(?![a-z])|[A-Z][a-z]+(?=[A-Z])|[\\'\\w\\-]+\", body))\n",
    "    return len({key: count[key] for key in count if key in positiv}.values())"
   ]
  },
  {
   "cell_type": "code",
   "execution_count": 24,
   "metadata": {
    "collapsed": true
   },
   "outputs": [],
   "source": [
    "def wc(body): \n",
    "    return len(re.findall(\"[A-Z]{2,}(?![a-z])|[A-Z][a-z]+(?=[A-Z])|[\\'\\w\\-]+\", body))"
   ]
  },
  {
   "cell_type": "code",
   "execution_count": null,
   "metadata": {
    "collapsed": false
   },
   "outputs": [],
   "source": []
  },
  {
   "cell_type": "code",
   "execution_count": 31,
   "metadata": {
    "collapsed": false
   },
   "outputs": [],
   "source": [
    "df['wc'] = df.body.apply(lambda body: wc(body))"
   ]
  },
  {
   "cell_type": "code",
   "execution_count": 43,
   "metadata": {
    "collapsed": false
   },
   "outputs": [],
   "source": [
    "df['negativ_ct'] = df.body_upper.apply(lambda body: count_negativ(body))"
   ]
  },
  {
   "cell_type": "code",
   "execution_count": 44,
   "metadata": {
    "collapsed": false
   },
   "outputs": [],
   "source": [
    "df['positiv_ct'] = df.body_upper.apply(lambda body: count_positiv(body))"
   ]
  },
  {
   "cell_type": "code",
   "execution_count": 46,
   "metadata": {
    "collapsed": true
   },
   "outputs": [],
   "source": [
    "df['positiv_percent'] = df.positiv_ct / (1.0 * df.wc)"
   ]
  },
  {
   "cell_type": "code",
   "execution_count": 47,
   "metadata": {
    "collapsed": true
   },
   "outputs": [],
   "source": [
    "df['negativ_percent'] = df.negativ_ct / (1.0 * df.wc)"
   ]
  },
  {
   "cell_type": "code",
   "execution_count": 48,
   "metadata": {
    "collapsed": true
   },
   "outputs": [],
   "source": [
    "df['positiv_percent'] = df.positiv_ct / (1.0 * df.wc)"
   ]
  },
  {
   "cell_type": "code",
   "execution_count": 49,
   "metadata": {
    "collapsed": true
   },
   "outputs": [],
   "source": [
    "df['emotionality'] = (df.negativ_ct + df.positiv_ct) / (1.0 * df.wc)"
   ]
  },
  {
   "cell_type": "code",
   "execution_count": 50,
   "metadata": {
    "collapsed": true
   },
   "outputs": [],
   "source": [
    "df['positivity'] = df.positiv_percent - df.negativ_percent"
   ]
  },
  {
   "cell_type": "code",
   "execution_count": 51,
   "metadata": {
    "collapsed": false
   },
   "outputs": [
    {
     "data": {
      "text/html": [
       "<div>\n",
       "<table border=\"1\" class=\"dataframe\">\n",
       "  <thead>\n",
       "    <tr style=\"text-align: right;\">\n",
       "      <th></th>\n",
       "      <th>url</th>\n",
       "      <th>body</th>\n",
       "      <th>body_upper</th>\n",
       "      <th>wc</th>\n",
       "      <th>negativ_ct</th>\n",
       "      <th>positiv_ct</th>\n",
       "      <th>negativ_percent</th>\n",
       "      <th>positiv_percent</th>\n",
       "      <th>emotionality</th>\n",
       "      <th>positivity</th>\n",
       "    </tr>\n",
       "  </thead>\n",
       "  <tbody>\n",
       "    <tr>\n",
       "      <th>9</th>\n",
       "      <td>https://www.washingtonpost.com/news/post-polit...</td>\n",
       "      <td>\\n\\nRepublican presidential candidates Donald ...</td>\n",
       "      <td>\\n\\nREPUBLICAN PRESIDENTIAL CANDIDATES DONALD ...</td>\n",
       "      <td>352</td>\n",
       "      <td>2</td>\n",
       "      <td>2</td>\n",
       "      <td>0.005682</td>\n",
       "      <td>0.005682</td>\n",
       "      <td>0.011364</td>\n",
       "      <td>0.000000</td>\n",
       "    </tr>\n",
       "    <tr>\n",
       "      <th>11</th>\n",
       "      <td>https://www.washingtonpost.com/news/post-polit...</td>\n",
       "      <td>\\n\\nFormer Florida governor Jeb Bush formally ...</td>\n",
       "      <td>\\n\\nFORMER FLORIDA GOVERNOR JEB BUSH FORMALLY ...</td>\n",
       "      <td>938</td>\n",
       "      <td>5</td>\n",
       "      <td>18</td>\n",
       "      <td>0.005330</td>\n",
       "      <td>0.019190</td>\n",
       "      <td>0.024520</td>\n",
       "      <td>0.013859</td>\n",
       "    </tr>\n",
       "    <tr>\n",
       "      <th>20</th>\n",
       "      <td>http://money.cnn.com/2016/03/11/news/companies...</td>\n",
       "      <td>If there's one thing the presidential candidat...</td>\n",
       "      <td>IF THERE'S ONE THING THE PRESIDENTIAL CANDIDAT...</td>\n",
       "      <td>437</td>\n",
       "      <td>2</td>\n",
       "      <td>2</td>\n",
       "      <td>0.004577</td>\n",
       "      <td>0.004577</td>\n",
       "      <td>0.009153</td>\n",
       "      <td>0.000000</td>\n",
       "    </tr>\n",
       "    <tr>\n",
       "      <th>21</th>\n",
       "      <td>https://www.washingtonpost.com/news/the-fix/wp...</td>\n",
       "      <td>Republican presidential candidate Ted Cruz is ...</td>\n",
       "      <td>REPUBLICAN PRESIDENTIAL CANDIDATE TED CRUZ IS ...</td>\n",
       "      <td>251</td>\n",
       "      <td>4</td>\n",
       "      <td>3</td>\n",
       "      <td>0.015936</td>\n",
       "      <td>0.011952</td>\n",
       "      <td>0.027888</td>\n",
       "      <td>-0.003984</td>\n",
       "    </tr>\n",
       "    <tr>\n",
       "      <th>25</th>\n",
       "      <td>http://money.cnn.com/2016/03/16/media/donald-t...</td>\n",
       "      <td>Fox News has canceled its March 21 Republican ...</td>\n",
       "      <td>FOX NEWS HAS CANCELED ITS MARCH 21 REPUBLICAN ...</td>\n",
       "      <td>452</td>\n",
       "      <td>2</td>\n",
       "      <td>3</td>\n",
       "      <td>0.004425</td>\n",
       "      <td>0.006637</td>\n",
       "      <td>0.011062</td>\n",
       "      <td>0.002212</td>\n",
       "    </tr>\n",
       "  </tbody>\n",
       "</table>\n",
       "</div>"
      ],
      "text/plain": [
       "                                                  url  \\\n",
       "9   https://www.washingtonpost.com/news/post-polit...   \n",
       "11  https://www.washingtonpost.com/news/post-polit...   \n",
       "20  http://money.cnn.com/2016/03/11/news/companies...   \n",
       "21  https://www.washingtonpost.com/news/the-fix/wp...   \n",
       "25  http://money.cnn.com/2016/03/16/media/donald-t...   \n",
       "\n",
       "                                                 body  \\\n",
       "9   \\n\\nRepublican presidential candidates Donald ...   \n",
       "11  \\n\\nFormer Florida governor Jeb Bush formally ...   \n",
       "20  If there's one thing the presidential candidat...   \n",
       "21  Republican presidential candidate Ted Cruz is ...   \n",
       "25  Fox News has canceled its March 21 Republican ...   \n",
       "\n",
       "                                           body_upper   wc  negativ_ct  \\\n",
       "9   \\n\\nREPUBLICAN PRESIDENTIAL CANDIDATES DONALD ...  352           2   \n",
       "11  \\n\\nFORMER FLORIDA GOVERNOR JEB BUSH FORMALLY ...  938           5   \n",
       "20  IF THERE'S ONE THING THE PRESIDENTIAL CANDIDAT...  437           2   \n",
       "21  REPUBLICAN PRESIDENTIAL CANDIDATE TED CRUZ IS ...  251           4   \n",
       "25  FOX NEWS HAS CANCELED ITS MARCH 21 REPUBLICAN ...  452           2   \n",
       "\n",
       "    positiv_ct  negativ_percent  positiv_percent  emotionality  positivity  \n",
       "9            2         0.005682         0.005682      0.011364    0.000000  \n",
       "11          18         0.005330         0.019190      0.024520    0.013859  \n",
       "20           2         0.004577         0.004577      0.009153    0.000000  \n",
       "21           3         0.015936         0.011952      0.027888   -0.003984  \n",
       "25           3         0.004425         0.006637      0.011062    0.002212  "
      ]
     },
     "execution_count": 51,
     "metadata": {},
     "output_type": "execute_result"
    }
   ],
   "source": [
    "df.head()"
   ]
  },
  {
   "cell_type": "code",
   "execution_count": 52,
   "metadata": {
    "collapsed": true
   },
   "outputs": [],
   "source": [
    "#df.to_csv(\"DATA/GT_10_STORIES/positiv_negativ.csv\")"
   ]
  },
  {
   "cell_type": "markdown",
   "metadata": {},
   "source": []
  }
 ],
 "metadata": {
  "kernelspec": {
   "display_name": "Python 2",
   "language": "python",
   "name": "python2"
  },
  "language_info": {
   "codemirror_mode": {
    "name": "ipython",
    "version": 2
   },
   "file_extension": ".py",
   "mimetype": "text/x-python",
   "name": "python",
   "nbconvert_exporter": "python",
   "pygments_lexer": "ipython2",
   "version": "2.7.11"
  }
 },
 "nbformat": 4,
 "nbformat_minor": 0
}
