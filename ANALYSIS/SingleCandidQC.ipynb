{
 "cells": [
  {
   "cell_type": "markdown",
   "metadata": {},
   "source": [
    "## Sample 10 random single-candid followers from each camp\n",
    "## Write up qualitative analysis of what you see"
   ]
  },
  {
   "cell_type": "code",
   "execution_count": 1,
   "metadata": {
    "collapsed": true
   },
   "outputs": [],
   "source": [
    "import seaborn as sns\n",
    "import matplotlib.pyplot as plt\n",
    "import pandas\n",
    "%matplotlib inline\n",
    "import numpy as np\n",
    "import time\n"
   ]
  },
  {
   "cell_type": "code",
   "execution_count": 2,
   "metadata": {
    "collapsed": true
   },
   "outputs": [],
   "source": [
    "df = pandas.read_csv('DATA/GT_10_STORIES/single_candid.csv', dtype={'candidates': 'S10'})"
   ]
  },
  {
   "cell_type": "code",
   "execution_count": 3,
   "metadata": {
    "collapsed": true
   },
   "outputs": [],
   "source": [
    "CLINTON = '10000'\n",
    "KASICH = '01000'\n",
    "SANDERS = '00010'\n",
    "TRUMP = '00100'\n",
    "CRUZ = '00001'\n",
    "CANDIDS = [CLINTON, TRUMP, SANDERS, CRUZ, KASICH]\n",
    "code_to_candid = {CLINTON:'Clinton', TRUMP: 'Trump', SANDERS:'Sanders', CRUZ:'Cruz', KASICH:'Kasich'}"
   ]
  },
  {
   "cell_type": "code",
   "execution_count": 4,
   "metadata": {
    "collapsed": false
   },
   "outputs": [
    {
     "data": {
      "text/plain": [
       "24470"
      ]
     },
     "execution_count": 4,
     "metadata": {},
     "output_type": "execute_result"
    }
   ],
   "source": [
    "len(df)"
   ]
  },
  {
   "cell_type": "code",
   "execution_count": 7,
   "metadata": {
    "collapsed": false
   },
   "outputs": [
    {
     "data": {
      "text/plain": [
       "6572"
      ]
     },
     "execution_count": 7,
     "metadata": {},
     "output_type": "execute_result"
    }
   ],
   "source": [
    "len(df.author.unique())"
   ]
  },
  {
   "cell_type": "markdown",
   "metadata": {},
   "source": [
    "## Tweepy Auth"
   ]
  },
  {
   "cell_type": "code",
   "execution_count": 29,
   "metadata": {
    "collapsed": true
   },
   "outputs": [],
   "source": [
    "import tweepy\n",
    "\n",
    "CONSUMER_KEY = \"P6F9glaUd7uB3kj5ElRWRXIDm\"\n",
    "CONSUMER_SECRET = \"lasmKKLlE0WzOXTe61u1s1PERsuKludoUIkY9W2XWkHf6xxbsW\"\n",
    "\n",
    "auth = tweepy.AppAuthHandler(CONSUMER_KEY, CONSUMER_SECRET)\n",
    "twitter_api = tweepy.API(auth)"
   ]
  },
  {
   "cell_type": "code",
   "execution_count": 37,
   "metadata": {
    "collapsed": false
   },
   "outputs": [],
   "source": [
    "t = twitter_api.get_user(24481831)"
   ]
  },
  {
   "cell_type": "code",
   "execution_count": 36,
   "metadata": {
    "collapsed": false
   },
   "outputs": [
    {
     "data": {
      "text/plain": [
       "u'HNN- Real Time NEWS & EVENTS. HAITI & the world 24/7. GV Phone/SMS: 781 437 7311\\r\\nSkype: HaitiNewsNet\\r\\nWhatsApp: 1617 365 2929\\r\\nHaitiNews@yahoo.com'"
      ]
     },
     "execution_count": 36,
     "metadata": {},
     "output_type": "execute_result"
    }
   ],
   "source": [
    "t.screen_name\n",
    "t.description"
   ]
  },
  {
   "cell_type": "markdown",
   "metadata": {},
   "source": [
    "## What do the top 10 tweeters of each camp look like?"
   ]
  },
  {
   "cell_type": "code",
   "execution_count": 14,
   "metadata": {
    "collapsed": false
   },
   "outputs": [],
   "source": [
    "clinton_camp = df[df.candidates==CLINTON]\n",
    "trump_camp = df[df.candidates==TRUMP]\n",
    "sanders_camp = df[df.candidates==SANDERS]\n",
    "cruz_camp = df[df.candidates==CRUZ]"
   ]
  },
  {
   "cell_type": "code",
   "execution_count": 39,
   "metadata": {
    "collapsed": false
   },
   "outputs": [
    {
     "name": "stdout",
     "output_type": "stream",
     "text": [
      "CLINTON\n",
      "LettersFromUs\n",
      "Love a little political humor? Then Letters From Us is the site for you. Check us out for new daily blogs and comics to feed your left-brain.\n",
      "\n",
      "HaitiNewsNet\n",
      "HNN- Real Time NEWS & EVENTS. HAITI & the world 24/7. GV Phone/SMS: 781 437 7311\n",
      "Skype: HaitiNewsNet\n",
      "WhatsApp: 1617 365 2929\n",
      "HaitiNews@yahoo.com\n",
      "\n",
      "_Reality_Check_\n",
      "Borg 1963 of 2016\n",
      "\n",
      "chasesfeed\n",
      "Streaming all the best news websites to one place. Breaking news, top headlines, sports, entertainment, business, health, science, cooking\n",
      "\n",
      "TLW3\n",
      "#News, #Politics, #Sarcasm, #Atheist, #Writer, #Liberal, #Irony, #Tech - \n",
      "\n",
      "#p2, #dems, #humanity, #equality, #civilrights - \n",
      "\n",
      "I block trolls with impunity.\n",
      "\n",
      "JDoaim\n",
      "Petroleum Engineer\n",
      "\n",
      "RivasGroup\n",
      "The Rivas Group provides comprehensive political strategies, coalition building, grassroots mobilization, website development and digital media solutions.\n",
      "\n",
      "FrannieMonique\n",
      "Follow me for headline news! You need to know what's going on in our world today!\n",
      "\n",
      "RaudalesEnrique\n",
      "Noticias, Deportes, Moda, Fotografía, Ciencia, Artes, Tecnología, Curiosidades y más.\n",
      "https://t.co/mouHvZgsaK\n",
      "\n",
      "WSJopinion\n",
      "Opinion & Commentary from The Wall Street Journal.\n",
      "\n"
     ]
    }
   ],
   "source": [
    "print \"CLINTON\"\n",
    "clinton_tweeters =  clinton_camp.author.value_counts()[:10].index\n",
    "for u in clinton_tweeters:\n",
    "    t = twitter_api.get_user(u)\n",
    "    \n",
    "    print t.screen_name\n",
    "    print t.description\n",
    "    print"
   ]
  },
  {
   "cell_type": "code",
   "execution_count": 40,
   "metadata": {
    "collapsed": false,
    "scrolled": true
   },
   "outputs": [
    {
     "name": "stdout",
     "output_type": "stream",
     "text": [
      "TRUMP\n",
      "TheNewsClub_US\n",
      "We bring you the biggest breaking stories all over the world. We have online journalists that are experienced & caffeinated. with @JoshiiHD & DaviiHD\n",
      "\n",
      "Afroman231\n",
      "I like to take surveys for money\n",
      "\n",
      "macrossfan\n",
      "Geeky whitecollar southpaw who's family is priority. Anime Fan, foodie, arm-chair historian, and tech lover. I RT what I find intriguiging & most #news.\n",
      "\n",
      "RealHidee\n",
      "ALL THE WAY FROM FAPPY ENT. DOWNLOAD MY SINGLE  TITLED #IMATA https://t.co/178mAuZPzi\n",
      "\n",
      "dhaycarlos86\n",
      "Inviting you to Join Royale Business Club!  If you want to change your life this is the ONE for you! Best sellers on amazon are posted here everyday!\n",
      "\n",
      "lhanthel\n",
      "Marketing Manager Digital #Marketing Specialist #Technology #Consultant Problem Solver #SocialMedia Manager\n",
      "\n",
      "Xtrememusicmix\n",
      "Northwest Iowa's Only Alternative Station!\n",
      "\n",
      "PestCharlotte\n",
      "Envirosafe Termite & Pest \n",
      " 704-392-2241\n",
      "\n",
      "NDNTV\n",
      "Next Dimension Network is an informational, intellectual, and inspirational network created by @OfficialDKW. Entertainment, Current Events, Music, & Interviews\n",
      "\n",
      "eAvonLake\n",
      "Download the eAvonLake App today on Google Play!\n",
      "\n"
     ]
    }
   ],
   "source": [
    "print \"TRUMP\"\n",
    "trump_tweeters =  trump_camp.author.value_counts()[:10].index\n",
    "for u in trump_tweeters:\n",
    "    t = twitter_api.get_user(u)\n",
    "    \n",
    "    print t.screen_name\n",
    "    print t.description\n",
    "    print"
   ]
  },
  {
   "cell_type": "code",
   "execution_count": 42,
   "metadata": {
    "collapsed": false
   },
   "outputs": [
    {
     "name": "stdout",
     "output_type": "stream",
     "text": [
      "SANDERS\n",
      "PrometheusLaw\n",
      "I am not accepting new clients. I am on vacation and not eligible to practice law until July 15, 2016.\n",
      "\n",
      "LiberalNews2012\n",
      "Democrats | Democratic Party | Barack Obama | Obama 2012 | Dems | TopProg | p2 | Election 2012 | Politics | Change | #TeamFollowBack | Decision 2012\n",
      "\n",
      "TheRReport\n",
      "Cutting a path through politics, with news updates, opinion and errant thoughts. Unapologetic progressive. Global warming. Water. Income inequality.\n",
      "\n",
      "ScotCharlotte\n",
      "Former Press Secretary DNC (Carter Administration) Artist\n",
      "\n",
      "Margaret91448\n",
      "As if it harm'd me giving others the same chances and rights as myself as if it were not indispensable to my own rights that others possess the same.” W.Whitman\n",
      "\n",
      "GlobalWeirding\n",
      "mostly about #climate & other weirdness related to #peace, #socialjustice, #veg, #Bernie2016, #FeelTheBern, #NoGOP/#nvfr, #occupy, #environment, & #happiness\n",
      "\n",
      "kickinghorse892\n",
      "I am an Android. MUST NOT SLEEP; MUST WARN OTHERS\n",
      "\n",
      "poohsbrana\n",
      "#FeeltheBern #WeStandTogether\n",
      "\n",
      "wcgirl1\n",
      "#Economy #Politics  #Activism   No #GOP for me  #Sanders2016 #UsNotMe  @wcgirl2 is my #twitmo account\n",
      "\n",
      "OWS_ellie\n",
      "The revolution is here!  Where are you? \n",
      "We'll Never Give Up, Bernie Sanders https://t.co/366FaVBcuF\n",
      "\n"
     ]
    }
   ],
   "source": [
    "print \"SANDERS\"\n",
    "sanders_tweeters =  sanders_camp.author.value_counts()[:10].index\n",
    "for u in sanders_tweeters:\n",
    "    t = twitter_api.get_user(u)\n",
    "    \n",
    "    print t.screen_name\n",
    "    print t.description\n",
    "    print"
   ]
  },
  {
   "cell_type": "code",
   "execution_count": 44,
   "metadata": {
    "collapsed": false
   },
   "outputs": [
    {
     "name": "stdout",
     "output_type": "stream",
     "text": [
      "CRUZ\n",
      "Jordan_Arras\n",
      "Proud citizen of Texas. Constitutional Conservative. Future Congressman. I believe in freedom, peace, and prosperity. Do you ?\n",
      "\n",
      "DareSomething\n",
      "Info Central For Political Activism, Conservative Issues, Republican, Libertarian, jschulmansr, ResistNet.Com, Tea Parties, my blogs, sites and much more...\n",
      "\n",
      "farm_mom\n",
      "Conservative, Christian, Farm wife to @1861_again, Stay at home mom of 3 boys, Gardner, Altrium health suppliment dealer, Strict Constitutionalist, Former Nurse\n",
      "\n",
      "BoSnerdley\n",
      "Bo Snerdley the Rush Limbaugh show a/k/a The Official Obama Criticizer\n",
      "\n",
      "ChampionNewsNet\n",
      "Your source for IL News and Commentary on Education, Pensions and Politics.\n",
      "\n",
      "rtsradio\n",
      "RTS Radio Podcast returning soon! Stay tuned...\n",
      "\n",
      "piercearrow33\n",
      "father, widower, systems engineer, #followback, unweird, great guy, golfer, investor, @NBA, @NFL, @MLB, RTs = endorsement. Aiming for 500k followers\n",
      "\n",
      "KevinJDonaldson\n",
      "CEO at @RWSolutionsInc, Man of Faith, Author, Life & Business Coach.  I teach people how to overcome adversity & succeed in all areas of their lives.#TFB\n",
      "\n",
      "latikia\n",
      "Wear the mask long enough and it becomes the face.\n",
      "\n"
     ]
    }
   ],
   "source": [
    "print \"CRUZ\"\n",
    "cruz_tweeters =  cruz_camp.author.value_counts()[:10].index\n",
    "for u in cruz_tweeters:\n",
    "    try:\n",
    "        t = twitter_api.get_user(u)\n",
    "\n",
    "        print t.screen_name\n",
    "        print t.description\n",
    "    except:\n",
    "        continue\n",
    "    print"
   ]
  },
  {
   "cell_type": "markdown",
   "metadata": {},
   "source": [
    "## What do random 10 tweeters look like?"
   ]
  },
  {
   "cell_type": "code",
   "execution_count": 57,
   "metadata": {
    "collapsed": false
   },
   "outputs": [
    {
     "name": "stdout",
     "output_type": "stream",
     "text": [
      "           author candidates\n",
      "15212   141645754      10000\n",
      "23198    22292787      00100\n",
      "16530    43616122      00010\n",
      "2467     17544215      10000\n",
      "17691    98967516      00100\n",
      "492      15195038      00100\n",
      "22187   191463695      10000\n",
      "15078  2314084668      00100\n",
      "5795    216068678      00010\n",
      "23677    54727446      10000\n"
     ]
    }
   ],
   "source": [
    "sample1 = df.sample(10)[['author','candidates']]\n",
    "print sample1"
   ]
  },
  {
   "cell_type": "code",
   "execution_count": 70,
   "metadata": {
    "collapsed": false
   },
   "outputs": [
    {
     "name": "stdout",
     "output_type": "stream",
     "text": [
      "@DavidKGather\n",
      "141645754\n",
      "Clinton\n",
      "I write about climate change, Nikola Tesla, and Abraham Lincoln. Oh, and I'm an aquarium nut. Go figure.\n",
      "\n",
      "@EileenDiana\n",
      "22292787\n",
      "Trump\n",
      "Trump supporter, free-lance writer, loves life, liberty & the pursuit of happiness\n",
      "\n",
      "@kickinghorse892\n",
      "43616122\n",
      "Sanders\n",
      "I am an Android. MUST NOT SLEEP; MUST WARN OTHERS\n",
      "\n",
      "@LettersFromUs\n",
      "17544215\n",
      "Clinton\n",
      "Love a little political humor? Then Letters From Us is the site for you. Check us out for new daily blogs and comics to feed your left-brain.\n",
      "\n",
      "@leatherneck111\n",
      "98967516\n",
      "Trump\n",
      "I am a former Marine (E-5 Sergeant.)I am a proponent of eradicating a welfare state.  I am appalled by the degradation of society by the liberal establishment\n",
      "\n",
      "@TheNewsClub_US\n",
      "15195038\n",
      "Trump\n",
      "We bring you the biggest breaking stories all over the world. We have online journalists that are experienced & caffeinated. with @JoshiiHD & DaviiHD\n",
      "\n",
      "@GKMTNtwits\n",
      "191463695\n",
      "Clinton\n",
      "Media Critic/Journalist/Hillary 4 Am. Vol. Leader ~Prolific!!! Bad Manners Blocked! Blogs: https://t.co/KraI7CJNlD & https://t.co/WRcDx0bP63 #PDMFNB #UniteBlue\n",
      "\n",
      "@eAvonLake\n",
      "2314084668\n",
      "Trump\n",
      "Download the eAvonLake App today on Google Play!\n",
      "\n",
      "@PrometheusLaw\n",
      "216068678\n",
      "Sanders\n",
      "I am not accepting new clients. I am on vacation and not eligible to practice law until July 15, 2016.\n",
      "\n",
      "@Genizah123\n",
      "54727446\n",
      "Clinton\n",
      "Graduate of Delaware State , U of Penn ,Bowie Md andTemple U\n",
      "\n"
     ]
    }
   ],
   "source": [
    "for row in sample1.iterrows():\n",
    "    \n",
    "    try:\n",
    "        tid = row[1].author\n",
    "         \n",
    "        t = twitter_api.get_user(row[1].author)\n",
    "\n",
    "        print \"@\"+t.screen_name\n",
    "        print tid\n",
    "        print code_to_candid[row[1].candidates]\n",
    "        print t.description\n",
    "        print\n",
    "    except:\n",
    "        continue "
   ]
  },
  {
   "cell_type": "raw",
   "metadata": {},
   "source": [
    "print \"CRUZ\"\n",
    "cruz_tweeters =  cruz_camp.author.value_counts()[:10].index\n",
    "for u in cruz_tweeters:\n",
    "    try:\n",
    "        t = twitter_api.get_user(u)\n",
    "\n",
    "        print t.screen_name\n",
    "        print t.description\n",
    "    except:\n",
    "        continue\n",
    "    print"
   ]
  },
  {
   "cell_type": "code",
   "execution_count": null,
   "metadata": {
    "collapsed": true
   },
   "outputs": [],
   "source": []
  }
 ],
 "metadata": {
  "kernelspec": {
   "display_name": "Python 2",
   "language": "python",
   "name": "python2"
  },
  "language_info": {
   "codemirror_mode": {
    "name": "ipython",
    "version": 2
   },
   "file_extension": ".py",
   "mimetype": "text/x-python",
   "name": "python",
   "nbconvert_exporter": "python",
   "pygments_lexer": "ipython2",
   "version": "2.7.11"
  }
 },
 "nbformat": 4,
 "nbformat_minor": 0
}
