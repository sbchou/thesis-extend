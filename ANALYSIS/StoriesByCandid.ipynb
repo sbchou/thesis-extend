{
 "cells": [
  {
   "cell_type": "code",
   "execution_count": 1,
   "metadata": {
    "collapsed": true
   },
   "outputs": [],
   "source": [
    "import seaborn as sns\n",
    "import matplotlib.pyplot as plt\n",
    "import pandas\n",
    "%matplotlib inline\n",
    "import numpy as np"
   ]
  },
  {
   "cell_type": "code",
   "execution_count": 6,
   "metadata": {
    "collapsed": true
   },
   "outputs": [],
   "source": [
    "df = pandas.read_csv('DATA/FOR_CORR/candid_coded_by_story.csv',index_col=0)"
   ]
  },
  {
   "cell_type": "code",
   "execution_count": 8,
   "metadata": {
    "collapsed": false
   },
   "outputs": [
    {
     "name": "stdout",
     "output_type": "stream",
     "text": [
      "2579\n",
      "2579\n"
     ]
    }
   ],
   "source": [
    "print len(df)\n",
    "print len(df.url.unique())\n"
   ]
  },
  {
   "cell_type": "code",
   "execution_count": 13,
   "metadata": {
    "collapsed": false
   },
   "outputs": [
    {
     "name": "stdout",
     "output_type": "stream",
     "text": [
      "TRUMP 0.588600232648\n",
      "CLINTON 0.131834044203\n",
      "SANDERS 0.0822024040326\n",
      "CRUZ 0.187281892206\n"
     ]
    }
   ],
   "source": [
    "print 'TRUMP', len(df[df.top_candid == 'TRUMP']) / (1.0 * len(df))\n",
    "print 'CLINTON', len(df[df.top_candid == 'CLINTON']) / (1.0 * len(df))\n",
    "print 'SANDERS', len(df[df.top_candid == 'SANDERS']) / (1.0 * len(df))\n",
    "print 'CRUZ', len(df[df.top_candid == 'CRUZ']) / (1.0 * len(df))"
   ]
  },
  {
   "cell_type": "code",
   "execution_count": null,
   "metadata": {
    "collapsed": true
   },
   "outputs": [],
   "source": []
  }
 ],
 "metadata": {
  "kernelspec": {
   "display_name": "Python 2",
   "language": "python",
   "name": "python2"
  },
  "language_info": {
   "codemirror_mode": {
    "name": "ipython",
    "version": 2
   },
   "file_extension": ".py",
   "mimetype": "text/x-python",
   "name": "python",
   "nbconvert_exporter": "python",
   "pygments_lexer": "ipython2",
   "version": "2.7.11"
  }
 },
 "nbformat": 4,
 "nbformat_minor": 0
}
