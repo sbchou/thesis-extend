{
 "cells": [
  {
   "cell_type": "markdown",
   "metadata": {},
   "source": [
    "## Let's check to see what stories from part 1 are in dataset2"
   ]
  },
  {
   "cell_type": "code",
   "execution_count": 21,
   "metadata": {
    "collapsed": true
   },
   "outputs": [],
   "source": [
    "import seaborn as sns\n",
    "import matplotlib.pyplot as plt\n",
    "import pandas\n",
    "%matplotlib inline\n",
    "import numpy as np"
   ]
  },
  {
   "cell_type": "code",
   "execution_count": 22,
   "metadata": {
    "collapsed": true
   },
   "outputs": [],
   "source": [
    "pandas.set_option('max_colwidth', 1000)"
   ]
  },
  {
   "cell_type": "markdown",
   "metadata": {},
   "source": [
    "## Load Part 1 Data"
   ]
  },
  {
   "cell_type": "code",
   "execution_count": 23,
   "metadata": {
    "collapsed": true
   },
   "outputs": [],
   "source": [
    "part1_df = pandas.read_csv('DATA/STUDY1/Part1/flattened_ALL.csv')"
   ]
  },
  {
   "cell_type": "code",
   "execution_count": 24,
   "metadata": {
    "collapsed": false
   },
   "outputs": [],
   "source": [
    "part2_df = pandas.read_csv('DATA/STUDY1/Part2/flattened_results.csv')\n"
   ]
  },
  {
   "cell_type": "code",
   "execution_count": 25,
   "metadata": {
    "collapsed": false
   },
   "outputs": [],
   "source": [
    "urls1 = set(part1_df.url)\n",
    "titles1 = set(part1_df.title)\n",
    "titles2 = set(part2_df.title)"
   ]
  },
  {
   "cell_type": "markdown",
   "metadata": {},
   "source": [
    "## In the entire dataset, how many stories from part 1 are in here?"
   ]
  },
  {
   "cell_type": "code",
   "execution_count": 26,
   "metadata": {
    "collapsed": true
   },
   "outputs": [],
   "source": [
    "tweets_df = pandas.read_csv('DATA/USERS/all_data.csv', dtype={'candidates': 'S10'})"
   ]
  },
  {
   "cell_type": "code",
   "execution_count": 27,
   "metadata": {
    "collapsed": false
   },
   "outputs": [
    {
     "data": {
      "text/plain": [
       "137978"
      ]
     },
     "execution_count": 27,
     "metadata": {},
     "output_type": "execute_result"
    }
   ],
   "source": [
    "len(tweets_df)"
   ]
  },
  {
   "cell_type": "code",
   "execution_count": 28,
   "metadata": {
    "collapsed": false
   },
   "outputs": [],
   "source": [
    "tweeted_titles = set(tweets_df.title)"
   ]
  },
  {
   "cell_type": "code",
   "execution_count": 29,
   "metadata": {
    "collapsed": false
   },
   "outputs": [],
   "source": [
    "intersect1 = tweeted_titles.intersection(titles1)"
   ]
  },
  {
   "cell_type": "code",
   "execution_count": 30,
   "metadata": {
    "collapsed": true
   },
   "outputs": [],
   "source": [
    "intersect2 = tweeted_titles.intersection(titles2)"
   ]
  },
  {
   "cell_type": "code",
   "execution_count": 31,
   "metadata": {
    "collapsed": false
   },
   "outputs": [
    {
     "name": "stdout",
     "output_type": "stream",
     "text": [
      "Number of Stories from Study 1 Tweeted About: 54\n",
      "Percent of Stories from Study 1 Tweeted About: 45.0 %\n",
      "Total Number of Stories from Study 1: 120\n"
     ]
    }
   ],
   "source": [
    "print \"Number of Stories from Study 1 Tweeted About:\", len(intersect1)\n",
    "print \"Percent of Stories from Study 1 Tweeted About:\", len(intersect1) / (.01 *  len(titles1)), '%'\n",
    "print \"Total Number of Stories from Study 1:\", len(titles1)"
   ]
  },
  {
   "cell_type": "code",
   "execution_count": 32,
   "metadata": {
    "collapsed": false
   },
   "outputs": [
    {
     "name": "stdout",
     "output_type": "stream",
     "text": [
      "Number of Stories from Study 2 Tweeted About: 0\n",
      "Percent of Stories from Study 2 Tweeted About: 0.0 %\n",
      "Total Number of Stories from Study 2: 8\n"
     ]
    }
   ],
   "source": [
    "print \"Number of Stories from Study 2 Tweeted About:\", len(intersect2)\n",
    "print \"Percent of Stories from Study 2 Tweeted About:\", len(intersect2) / (.01 *  len(titles2)), '%'\n",
    "print \"Total Number of Stories from Study 2:\", len(titles2)"
   ]
  },
  {
   "cell_type": "code",
   "execution_count": 33,
   "metadata": {
    "collapsed": true
   },
   "outputs": [],
   "source": [
    "# How many tweets do we have for each of the stories that are replicated in Part1?"
   ]
  },
  {
   "cell_type": "code",
   "execution_count": 34,
   "metadata": {
    "collapsed": false
   },
   "outputs": [
    {
     "data": {
      "text/plain": [
       "54"
      ]
     },
     "execution_count": 34,
     "metadata": {},
     "output_type": "execute_result"
    }
   ],
   "source": [
    "len(intersect1)"
   ]
  },
  {
   "cell_type": "code",
   "execution_count": 35,
   "metadata": {
    "collapsed": true
   },
   "outputs": [],
   "source": [
    "intersect_url = set(tweets_df.url).intersection(urls1)"
   ]
  },
  {
   "cell_type": "code",
   "execution_count": 36,
   "metadata": {
    "collapsed": false
   },
   "outputs": [
    {
     "data": {
      "text/plain": [
       "52"
      ]
     },
     "execution_count": 36,
     "metadata": {},
     "output_type": "execute_result"
    }
   ],
   "source": [
    "len(intersect_url)"
   ]
  },
  {
   "cell_type": "code",
   "execution_count": 37,
   "metadata": {
    "collapsed": false
   },
   "outputs": [
    {
     "name": "stdout",
     "output_type": "stream",
     "text": [
      "Number of Stories from Study 1 Tweeted About: 52\n",
      "Percent of Stories from Study 1 Tweeted About: 44.4444444444 %\n",
      "Total Number of Stories from Study 1: 117\n"
     ]
    }
   ],
   "source": [
    "print \"Number of Stories from Study 1 Tweeted About:\", len(intersect_url)\n",
    "print \"Percent of Stories from Study 1 Tweeted About:\", len(intersect_url) / (.01 *  len(urls1)), '%'\n",
    "print \"Total Number of Stories from Study 1:\", len(urls1)"
   ]
  },
  {
   "cell_type": "code",
   "execution_count": 39,
   "metadata": {
    "collapsed": false
   },
   "outputs": [],
   "source": [
    "intersect_df = tweets_df[tweets_df.url.isin(urls1)]"
   ]
  },
  {
   "cell_type": "code",
   "execution_count": 43,
   "metadata": {
    "collapsed": false
   },
   "outputs": [
    {
     "name": "stdout",
     "output_type": "stream",
     "text": [
      "1559\n"
     ]
    }
   ],
   "source": [
    "print len(intersect_df)"
   ]
  },
  {
   "cell_type": "code",
   "execution_count": 58,
   "metadata": {
    "collapsed": false
   },
   "outputs": [
    {
     "data": {
      "image/png": "[encoded data removed]",
      "text/plain": [
       "<matplotlib.figure.Figure at 0x11a1e7910>"
      ]
     },
     "metadata": {},
     "output_type": "display_data"
    }
   ],
   "source": [
    "intersect_df.url.value_counts().plot(kind='bar')\n",
    "plt.xticks([])\n",
    "plt.ylabel('Number of Tweets')\n",
    "plt.xlabel('Story')\n",
    "plt.title(\"Distribution of Tweets about Stories in Study 1\")\n",
    "plt.tight_layout()\n",
    "plt.savefig('FIGS/OVERLAP/tweet_dist.png')"
   ]
  },
  {
   "cell_type": "code",
   "execution_count": 64,
   "metadata": {
    "collapsed": false
   },
   "outputs": [],
   "source": [
    "gt_10_tweets = intersect_df.title.value_counts()[intersect_df.title.value_counts() >= 10]"
   ]
  },
  {
   "cell_type": "code",
   "execution_count": 65,
   "metadata": {
    "collapsed": false
   },
   "outputs": [
    {
     "data": {
      "text/plain": [
       "33"
      ]
     },
     "execution_count": 65,
     "metadata": {},
     "output_type": "execute_result"
    }
   ],
   "source": [
    "len(gt_10_tweets)"
   ]
  },
  {
   "cell_type": "code",
   "execution_count": 66,
   "metadata": {
    "collapsed": false
   },
   "outputs": [
    {
     "data": {
      "text/plain": [
       "Jeb Bush on Donald Trump: 'The guy needs therapy'                                 154\n",
       "Why Cruz is in trouble in Texas                                                   140\n",
       "Sanders a prolific Dem fundraiser                                                 106\n",
       "Ted Cruz's conventional campaign to win Iowa                                      106\n",
       "Who's funding this pro-Ted Cruz super PAC?                                         82\n",
       "CNN/WMUR Poll: Cruz climbs in NH                                                   78\n",
       "Sanders surpasses 2015 fundraising goal with sizable haul                          76\n",
       "Cruz rules out 'deportation force' to boot undocumented immigrants                 71\n",
       "Ted Cruz worry: Big South Carolina loss equals bad Super Tuesday                   61\n",
       "Hillary Clinton hopes for strong Latino turnout in Nevada                          61\n",
       "Evangelical leader sub-tweets Donald Trump                                         55\n",
       "Political fallout for Clinton after North Korea's nuke test                        42\n",
       "Ted Cruz tries to seize Rand Paul's libertarian mantle                             39\n",
       "Takeaways from Ted Cruz's Iowa road trip                                           39\n",
       "Obama hopes to pave way for Clinton with SOTU                                      38\n",
       "Cruz to tea party supporters: Don't get 'burned' by fake conservatives             32\n",
       "Clinton: 'I know what it is like to come from behind and win in New Hampshire'     26\n",
       "Clinton to Planned Parenthood: 'I will always have your back'                      22\n",
       "Graham: Cruz worse than Obama                                                      22\n",
       "BORDERLINE ACCURATE Trump camp defends using African migrants in 'wall' ad         22\n",
       "Trump unscathed in GOP ad wars                                                     22\n",
       "Sanders goes negative with Goldman Sachs, Iraq jabs                                21\n",
       "Ted Cruz ad features business suits crossing border                                21\n",
       "Trump deflects specifics when it comes to abortion position                        21\n",
       "Cruz changes tune on rounding up undocumented immigrants                           18\n",
       "Sanders raised $20 million in January                                              18\n",
       "Clinton super PAC gets big donor boost                                             17\n",
       "Sanders to release letter from his doctor before Iowa caucuses                     15\n",
       "Jerry Falwell backs Donald Trump: Satire is dead (Opinion)                         15\n",
       "First on CNN: Texas Gov. Greg Abbott to endorse Cruz for president                 13\n",
       "Ted Cruz: To Help Stop Drug Abuse, Build the Mexico Border Wall                    12\n",
       "Ahead of Nevada caucus, Clinton goes up with first Spanish-language ads            12\n",
       "Sanders campaign touts another endorsement that didn't happen                      11\n",
       "Name: title, dtype: int64"
      ]
     },
     "execution_count": 66,
     "metadata": {},
     "output_type": "execute_result"
    }
   ],
   "source": [
    "gt_10_tweets\n"
   ]
  },
  {
   "cell_type": "code",
   "execution_count": null,
   "metadata": {
    "collapsed": true
   },
   "outputs": [],
   "source": []
  }
 ],
 "metadata": {
  "kernelspec": {
   "display_name": "Python 2",
   "language": "python",
   "name": "python2"
  },
  "language_info": {
   "codemirror_mode": {
    "name": "ipython",
    "version": 2
   },
   "file_extension": ".py",
   "mimetype": "text/x-python",
   "name": "python",
   "nbconvert_exporter": "python",
   "pygments_lexer": "ipython2",
   "version": "2.7.11"
  }
 },
 "nbformat": 4,
 "nbformat_minor": 0
}
