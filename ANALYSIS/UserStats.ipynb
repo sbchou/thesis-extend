{
 "cells": [
  {
   "cell_type": "code",
   "execution_count": 1,
   "metadata": {
    "collapsed": true
   },
   "outputs": [],
   "source": [
    "import seaborn as sns\n",
    "import matplotlib.pyplot as plt\n",
    "import pandas\n",
    "%matplotlib inline\n",
    "import numpy as np\n"
   ]
  },
  {
   "cell_type": "code",
   "execution_count": 5,
   "metadata": {
    "collapsed": true
   },
   "outputs": [],
   "source": [
    "df = pandas.read_csv('DATA/USERS/all_data.csv', dtype={'candidates': 'S10'})"
   ]
  },
  {
   "cell_type": "code",
   "execution_count": 6,
   "metadata": {
    "collapsed": false
   },
   "outputs": [
    {
     "data": {
      "text/plain": [
       "Index([u'_id', u'author', u'sentiment', u'time', u'tweet', u'url', u'a_id',\n",
       "       u'title', u'date_written', u'org', u't_id', u'candidates'],\n",
       "      dtype='object')"
      ]
     },
     "execution_count": 6,
     "metadata": {},
     "output_type": "execute_result"
    }
   ],
   "source": [
    "df.columns"
   ]
  },
  {
   "cell_type": "code",
   "execution_count": 99,
   "metadata": {
    "collapsed": false
   },
   "outputs": [
    {
     "name": "stdout",
     "output_type": "stream",
     "text": [
      "Tweets per Author\n"
     ]
    },
    {
     "data": {
      "text/plain": [
       "count    22540.000000\n",
       "mean         6.121473\n",
       "std         40.330685\n",
       "min          1.000000\n",
       "10%          1.000000\n",
       "25%          1.000000\n",
       "50%          1.000000\n",
       "75%          2.000000\n",
       "99%        120.610000\n",
       "max       2103.000000\n",
       "Name: author, dtype: float64"
      ]
     },
     "execution_count": 99,
     "metadata": {},
     "output_type": "execute_result"
    }
   ],
   "source": [
    "tweet_count = list(df.author.value_counts()) \n",
    "print \"Tweets per Author\"\n",
    "df.author.value_counts().describe(percentiles=[.10,.25,.5,.75,.99])"
   ]
  },
  {
   "cell_type": "code",
   "execution_count": 96,
   "metadata": {
    "collapsed": false
   },
   "outputs": [
    {
     "data": {
      "image/png": "[encoded data removed]",
      "text/plain": [
       "<matplotlib.figure.Figure at 0x123d6b050>"
      ]
     },
     "metadata": {},
     "output_type": "display_data"
    }
   ],
   "source": [
    "plt.plot(tweet_count)\n",
    "plt.title(\"Tweet Frequency Distribution\")\n",
    "plt.xlabel(\"Author\")\n",
    "plt.ylabel(\"Number of Tweets by Author\")\n",
    "plt.savefig('FIGS/tweet_dist.png')"
   ]
  },
  {
   "cell_type": "code",
   "execution_count": 19,
   "metadata": {
    "collapsed": false
   },
   "outputs": [
    {
     "data": {
      "text/plain": [
       "14382"
      ]
     },
     "execution_count": 19,
     "metadata": {},
     "output_type": "execute_result"
    }
   ],
   "source": [
    "#cand2code={'HillaryClinton':0,\"JohnKasich\":1,'SenSanders':3, 'realDonaldTrump':2,'TedCruz':4}\n",
    "follows_candid = df[df.candidates != '00000'] \n",
    "len(set(follows_candid.author))"
   ]
  },
  {
   "cell_type": "code",
   "execution_count": 20,
   "metadata": {
    "collapsed": true
   },
   "outputs": [],
   "source": [
    "candids = ['00001','00010','00100','01000','10000']"
   ]
  },
  {
   "cell_type": "code",
   "execution_count": 21,
   "metadata": {
    "collapsed": false
   },
   "outputs": [],
   "source": [
    "single_candid = df[df.candidates.isin(candids)]"
   ]
  },
  {
   "cell_type": "code",
   "execution_count": 22,
   "metadata": {
    "collapsed": false
   },
   "outputs": [
    {
     "data": {
      "text/plain": [
       "7003"
      ]
     },
     "execution_count": 22,
     "metadata": {},
     "output_type": "execute_result"
    }
   ],
   "source": [
    "len(set(single_candid.author))"
   ]
  },
  {
   "cell_type": "code",
   "execution_count": 25,
   "metadata": {
    "collapsed": true
   },
   "outputs": [],
   "source": [
    "# Distribution of follower camps-- distinct on author id"
   ]
  },
  {
   "cell_type": "code",
   "execution_count": 26,
   "metadata": {
    "collapsed": true
   },
   "outputs": [],
   "source": [
    "clinton_camp = df[df.candidates == '10000'] \n",
    "kasich_camp = df[df.candidates == '01000'] \n",
    "trump_camp = df[df.candidates == '00100'] \n",
    "sanders_camp = df[df.candidates == '00010'] \n",
    "cruz_camp = df[df.candidates == '00001'] "
   ]
  },
  {
   "cell_type": "code",
   "execution_count": 40,
   "metadata": {
    "collapsed": false
   },
   "outputs": [
    {
     "name": "stdout",
     "output_type": "stream",
     "text": [
      "Number of Clinton-only followers: 2008\n",
      "Total tweets: 7528\n",
      "\n",
      "Number of Trump-only followers: 2131\n",
      "Total tweets: 10177\n",
      "\n",
      "Number of Sanders-only followers: 1728\n",
      "Total tweets: 5266\n",
      "\n",
      "Number of Cruz-only followers: 962\n",
      "Total tweets: 3785\n",
      "\n",
      "Number of Kasich-only followers: 174\n",
      "Total tweets: 1400\n",
      "\n"
     ]
    }
   ],
   "source": [
    "print 'Number of Clinton-only followers:', len(set(clinton_camp.author))\n",
    "print'Total tweets:', len(clinton_camp)  \n",
    "print\n",
    "print 'Number of Trump-only followers:', len(set(trump_camp.author))\n",
    "print'Total tweets:', len(trump_camp)  \n",
    "print\n",
    "print 'Number of Sanders-only followers:', len(set(sanders_camp.author))\n",
    "print'Total tweets:', len(sanders_camp)  \n",
    "print\n",
    "print 'Number of Cruz-only followers:', len(set(cruz_camp.author))\n",
    "print'Total tweets:', len(cruz_camp)  \n",
    "print\n",
    "print 'Number of Kasich-only followers:', len(set(kasich_camp.author))\n",
    "print'Total tweets:', len(kasich_camp)  \n",
    "print"
   ]
  },
  {
   "cell_type": "code",
   "execution_count": 103,
   "metadata": {
    "collapsed": false
   },
   "outputs": [
    {
     "data": {
      "text/plain": [
       "711881270     691\n",
       "24481831      518\n",
       "17544215      517\n",
       "103576819     516\n",
       "266876176     392\n",
       "16305494      189\n",
       "211300788     149\n",
       "444304468     138\n",
       "1866050042    133\n",
       "87957969       84\n",
       "Name: author, dtype: int64"
      ]
     },
     "execution_count": 103,
     "metadata": {},
     "output_type": "execute_result"
    }
   ],
   "source": [
    "# Who are the top tweeters in each camp?\n",
    "clinton_camp.author.value_counts()[:10]"
   ]
  },
  {
   "cell_type": "code",
   "execution_count": 102,
   "metadata": {
    "collapsed": false
   },
   "outputs": [
    {
     "data": {
      "text/plain": [
       "<matplotlib.axes._subplots.AxesSubplot at 0x124949450>"
      ]
     },
     "execution_count": 102,
     "metadata": {},
     "output_type": "execute_result"
    },
    {
     "data": {
      "image/png": "[encoded data removed]",
      "text/plain": [
       "<matplotlib.figure.Figure at 0x1246feed0>"
      ]
     },
     "metadata": {},
     "output_type": "display_data"
    }
   ],
   "source": [
    "# Distribution of # tweets/user\n",
    "#overall:\n",
    "clinton_camp.author.value_counts()[:10].plot(kind='bar', title='Top 10 Tweeters')\n",
    "\n",
    "# check prev dist graph for counts-- you might have gotten the axes wrong."
   ]
  },
  {
   "cell_type": "code",
   "execution_count": null,
   "metadata": {
    "collapsed": true
   },
   "outputs": [],
   "source": [
    "\n",
    "\n",
    "#tweet_counts = list(df.author.value_counts())  \n",
    "#plt.plot(tweet_counts)\n",
    "#plt.title(\"User Tweet Frequency\")\n",
    "#plt.xlabel(\"Number of Times a User Tweeted\")\n",
    "#plt.ylabel(\"Count\")\n",
    "#plt.savefig('FIGS/tweeting_dist.png')\n"
   ]
  },
  {
   "cell_type": "code",
   "execution_count": 69,
   "metadata": {
    "collapsed": false
   },
   "outputs": [],
   "source": [
    "#df.author.value_counts()[:100]\n",
    "#plt.plot(tweet_counts[:100])\n",
    "#plt.title(\"User Tweet Frequency (Top 100 Users)\")\n",
    "#plt.xlabel(\"Number of Times a User Tweeted\")\n",
    "#plt.ylabel(\"Count\")\n",
    "#plt.savefig('FIGS/tweeting_dist_top_100.png')\n",
    "\n",
    "#df.author.value_counts().plot()\n",
    "\n",
    "#df.groupby(['author']).size().plot()\n",
    "\n",
    "#for each camp:"
   ]
  },
  {
   "cell_type": "code",
   "execution_count": 161,
   "metadata": {
    "collapsed": false
   },
   "outputs": [],
   "source": [
    "#tweet_counts[:100]\n",
    "#df.author.value_counts()"
   ]
  },
  {
   "cell_type": "markdown",
   "metadata": {},
   "source": [
    "## Cutoff of 10 Tweets to Include a Tweeter"
   ]
  },
  {
   "cell_type": "code",
   "execution_count": 144,
   "metadata": {
    "collapsed": false
   },
   "outputs": [],
   "source": [
    "#authors = df.groupby(\"author\").filter(lambda x: len(x) >= 10).author\n",
    "authors_gt_10 = df.author.value_counts()[df.author.value_counts() >= 10].index"
   ]
  },
  {
   "cell_type": "code",
   "execution_count": 152,
   "metadata": {
    "collapsed": false
   },
   "outputs": [
    {
     "name": "stdout",
     "output_type": "stream",
     "text": [
      "1339\n"
     ]
    }
   ],
   "source": [
    "print len(set(authors_gt_10))\n",
    "subset = df[df.author.isin(authors_gt_10)]"
   ]
  },
  {
   "cell_type": "code",
   "execution_count": 153,
   "metadata": {
    "collapsed": false
   },
   "outputs": [],
   "source": [
    "subset.to_csv('DATA/GT_10_TWEETS.csv')"
   ]
  },
  {
   "cell_type": "code",
   "execution_count": 159,
   "metadata": {
    "collapsed": false
   },
   "outputs": [
    {
     "name": "stdout",
     "output_type": "stream",
     "text": [
      "Number of authors > 10 tweets: 1339\n",
      "Number of tweets by those authors: 101055\n",
      "Number of unique stories they're tweeting about: 6496\n"
     ]
    }
   ],
   "source": [
    "print \"Number of authors > 10 tweets:\", len(set(subset.author))\n",
    "print \"Number of tweets by those authors:\", len(subset)\n",
    "print \"Number of unique stories they're tweeting about:\", len(set(subset.a_id))"
   ]
  },
  {
   "cell_type": "code",
   "execution_count": 163,
   "metadata": {
    "collapsed": false
   },
   "outputs": [
    {
     "data": {
      "text/plain": [
       "650"
      ]
     },
     "execution_count": 163,
     "metadata": {},
     "output_type": "execute_result"
    }
   ],
   "source": [
    "#cand2code={'HillaryClinton':0,\"JohnKasich\":1,'SenSanders':3, 'realDonaldTrump':2,'TedCruz':4}\n",
    "follows_candid = subset[subset.candidates != '00000'] \n",
    "len(set(follows_candid.author))"
   ]
  },
  {
   "cell_type": "code",
   "execution_count": 165,
   "metadata": {
    "collapsed": true
   },
   "outputs": [],
   "source": [
    "candids = ['00001','00010','00100','01000','10000']"
   ]
  },
  {
   "cell_type": "code",
   "execution_count": 166,
   "metadata": {
    "collapsed": false
   },
   "outputs": [],
   "source": [
    "single_candid = subset[subset.candidates.isin(candids)]"
   ]
  },
  {
   "cell_type": "code",
   "execution_count": 176,
   "metadata": {
    "collapsed": false
   },
   "outputs": [
    {
     "name": "stdout",
     "output_type": "stream",
     "text": [
      "16890\n",
      "4336\n"
     ]
    }
   ],
   "source": [
    "len(set(single_candid.author))\n",
    "print len(single_candid)\n",
    "print len(set(single_candid.title))"
   ]
  },
  {
   "cell_type": "code",
   "execution_count": 25,
   "metadata": {
    "collapsed": true
   },
   "outputs": [],
   "source": [
    "# Distribution of follower camps-- distinct on author id"
   ]
  },
  {
   "cell_type": "code",
   "execution_count": 170,
   "metadata": {
    "collapsed": true
   },
   "outputs": [],
   "source": [
    "clinton_camp = subset[subset.candidates == '10000'] \n",
    "kasich_camp = subset[subset.candidates == '01000'] \n",
    "trump_camp = subset[subset.candidates == '00100'] \n",
    "sanders_camp = subset[subset.candidates == '00010'] \n",
    "cruz_camp = subset[subset.candidates == '00001'] "
   ]
  },
  {
   "cell_type": "code",
   "execution_count": 171,
   "metadata": {
    "collapsed": false
   },
   "outputs": [
    {
     "name": "stdout",
     "output_type": "stream",
     "text": [
      "Number of Clinton-only followers: 60\n",
      "Total tweets: 4558\n",
      "\n",
      "Number of Trump-only followers: 107\n",
      "Total tweets: 6678\n",
      "\n",
      "Number of Sanders-only followers: 47\n",
      "Total tweets: 2465\n",
      "\n",
      "Number of Cruz-only followers: 40\n",
      "Total tweets: 2087\n",
      "\n",
      "Number of Kasich-only followers: 4\n",
      "Total tweets: 1102\n",
      "\n"
     ]
    }
   ],
   "source": [
    "print 'Number of Clinton-only followers:', len(set(clinton_camp.author))\n",
    "print'Total tweets:', len(clinton_camp)  \n",
    "print\n",
    "print 'Number of Trump-only followers:', len(set(trump_camp.author))\n",
    "print'Total tweets:', len(trump_camp)  \n",
    "print\n",
    "print 'Number of Sanders-only followers:', len(set(sanders_camp.author))\n",
    "print'Total tweets:', len(sanders_camp)  \n",
    "print\n",
    "print 'Number of Cruz-only followers:', len(set(cruz_camp.author))\n",
    "print'Total tweets:', len(cruz_camp)  \n",
    "print\n",
    "print 'Number of Kasich-only followers:', len(set(kasich_camp.author))\n",
    "print'Total tweets:', len(kasich_camp)  \n",
    "print"
   ]
  },
  {
   "cell_type": "code",
   "execution_count": 195,
   "metadata": {
    "collapsed": false
   },
   "outputs": [
    {
     "name": "stdout",
     "output_type": "stream",
     "text": [
      "Top 10 Shared Stories by Clinton-Only Followers\n"
     ]
    },
    {
     "data": {
      "text/plain": [
       "Judge dismisses lawsuits over Clinton's emails                                      29\n",
       "Ben Carson just called his new plan a 'genuine flat tax.' He's wrong.               16\n",
       "GOP senators: If Cruz wins, we lose                                                 13\n",
       "White House won't commit to supporting Sanders over guns                            13\n",
       "Dont be fooled — Donald Trump’s ‘silent majority’ doesn’t exist                     12\n",
       "GOP's Trump revolt: Too little too late?                                            12\n",
       "Republican elders ask 'who's worse' for the GOP brand: Trump or Cruz                12\n",
       "Pope vs. Trump: 'Not Christian' to only build border walls                          12\n",
       "I Get Sanders’ Appeal. But He’s Not a Credible President.                           11\n",
       "Diplomats, national security officials blast Sanders on Iran normalization, ISIL    11\n",
       "Name: title, dtype: int64"
      ]
     },
     "execution_count": 195,
     "metadata": {},
     "output_type": "execute_result"
    }
   ],
   "source": [
    "print \"Top 10 Shared Stories by Clinton-Only Followers\"\n",
    "clinton_camp.title.value_counts()[:10]\n",
    "#.plot(kind='bar', title='Top 10 Stories for Clinton-Only Followers')\n",
    "#plt.ylabel('Number of Tweets')\n"
   ]
  },
  {
   "cell_type": "code",
   "execution_count": 196,
   "metadata": {
    "collapsed": false
   },
   "outputs": [
    {
     "name": "stdout",
     "output_type": "stream",
     "text": [
      "Top 10 Shared Stories by Trump-Only Followers\n"
     ]
    },
    {
     "data": {
      "text/plain": [
       "Trump basks in his spotlight                                                                                                                                                                                               43\n",
       "FOX NEWS POLL: Trump, Cruz  lead Republican field nationally                                                                                                                                                               32\n",
       "MEDIA BUZZ: Conservative elite, sounding a bit panicked, says Trump will destroy GOP - Trump says Cruz should resolve citizenship issue - Carson prays with Clemson coach ahead of title game - CAMPAIGN 2016 LIVE BLOG    31\n",
       "Terrorists use Trump's 'Muslim ban' speech in recruitment video                                                                                                                                                            30\n",
       "Why I'm voting for Trump                                                                                                                                                                                                   29\n",
       "Cruz: Hillary Clinton's backers are 'very eager to support' Donald Trump                                                                                                                                                   26\n",
       "Donald Trump Is Shocking, Vulgar and Right                                                                                                                                                                                 25\n",
       "Campaigns lower expectations in Iowa, brace for Trump win                                                                                                                                                                  25\n",
       "Ted Cruz's misleading attack that Donald Trump 'convinced' the government to 'bulldoze' a widow's home                                                                                                                     24\n",
       "Poll: Evangelicals flocking to Trump                                                                                                                                                                                       23\n",
       "Name: title, dtype: int64"
      ]
     },
     "execution_count": 196,
     "metadata": {},
     "output_type": "execute_result"
    }
   ],
   "source": [
    "print \"Top 10 Shared Stories by Trump-Only Followers\"\n",
    "trump_camp.title.value_counts()[:10]"
   ]
  },
  {
   "cell_type": "code",
   "execution_count": 197,
   "metadata": {
    "collapsed": false
   },
   "outputs": [
    {
     "name": "stdout",
     "output_type": "stream",
     "text": [
      "Top 10 Shared Stories by Sanders-Only Followers\n"
     ]
    },
    {
     "data": {
      "text/plain": [
       "State Department asks for deadline extension on Hillary Clinton emails                 70\n",
       "Bernie Sanders Will Win Iowa, New Hampshire, Nevada and South Carolina. Here's Why.    50\n",
       "Hillary's Corporate Democrats Taking Down Bernie Sanders                               44\n",
       "Bernie Sanders Is a Once in a Lifetime Presidential Candidate. The Time Is Now.        25\n",
       "Bernie Sanders Is Now the 'Inevitable' Democratic Nominee and Presidential Winner      22\n",
       "The Nation endorses Bernie Sanders                                                     21\n",
       "Sanders cracks Clinton's Nevada firewall                                               18\n",
       "On January 20, 2017 Bernie Sanders Will Be Sworn In as America's 45th President        18\n",
       "5 Reasons Bernie Sanders Will Win the Presidency in a Landslide                        17\n",
       "Donald Trump Is Shocking, Vulgar and Right                                             15\n",
       "Name: title, dtype: int64"
      ]
     },
     "execution_count": 197,
     "metadata": {},
     "output_type": "execute_result"
    }
   ],
   "source": [
    "print \"Top 10 Shared Stories by Sanders-Only Followers\"\n",
    "sanders_camp.title.value_counts()[:10]"
   ]
  },
  {
   "cell_type": "code",
   "execution_count": 198,
   "metadata": {
    "collapsed": false
   },
   "outputs": [
    {
     "data": {
      "image/png": "[encoded data removed]",
      "text/plain": [
       "<matplotlib.figure.Figure at 0x127fcf810>"
      ]
     },
     "metadata": {},
     "output_type": "display_data"
    }
   ],
   "source": [
    "clinton_camp.org.value_counts().plot(kind='bar', title='Publications of Stories Shared by Clinton-Only Followers')\n",
    "plt.ylabel('Number of Tweets')\n",
    "plt.savefig('FIGS/clinton_camp_orgs.png')"
   ]
  },
  {
   "cell_type": "code",
   "execution_count": 199,
   "metadata": {
    "collapsed": false
   },
   "outputs": [
    {
     "data": {
      "image/png": "[encoded data removed]",
      "text/plain": [
       "<matplotlib.figure.Figure at 0x128030f90>"
      ]
     },
     "metadata": {},
     "output_type": "display_data"
    }
   ],
   "source": [
    "trump_camp.org.value_counts().plot(kind='bar', title='Publications of Stories Shared by Trump-Only Followers')\n",
    "plt.ylabel('Number of Tweets')\n",
    "plt.savefig('FIGS/trump_camp_orgs.png')"
   ]
  },
  {
   "cell_type": "code",
   "execution_count": 200,
   "metadata": {
    "collapsed": false
   },
   "outputs": [
    {
     "data": {
      "image/png": "[encoded data removed]",
      "text/plain": [
       "<matplotlib.figure.Figure at 0x12820d990>"
      ]
     },
     "metadata": {},
     "output_type": "display_data"
    }
   ],
   "source": [
    "trump_camp.org.value_counts().plot(kind='bar', title='Publications of Stories Shared by Sanders-Only Followers')\n",
    "plt.ylabel('Number of Tweets')\n",
    "plt.savefig('FIGS/sanders_camp_orgs.png')"
   ]
  },
  {
   "cell_type": "code",
   "execution_count": 211,
   "metadata": {
    "collapsed": false
   },
   "outputs": [],
   "source": [
    "s = pandas.Series(subset.author.unique())\n",
    "s.to_csv('DATA/GT_10_TWEETS/users.csv')\n"
   ]
  },
  {
   "cell_type": "code",
   "execution_count": null,
   "metadata": {
    "collapsed": true
   },
   "outputs": [],
   "source": []
  }
 ],
 "metadata": {
  "kernelspec": {
   "display_name": "Python 2",
   "language": "python",
   "name": "python2"
  },
  "language_info": {
   "codemirror_mode": {
    "name": "ipython",
    "version": 2
   },
   "file_extension": ".py",
   "mimetype": "text/x-python",
   "name": "python",
   "nbconvert_exporter": "python",
   "pygments_lexer": "ipython2",
   "version": "2.7.11"
  }
 },
 "nbformat": 4,
 "nbformat_minor": 0
}
