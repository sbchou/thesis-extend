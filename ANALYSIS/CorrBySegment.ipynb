{
 "cells": [
  {
   "cell_type": "markdown",
   "metadata": {},
   "source": [
    "## Repeat Analysis by Segment\n",
    "\n",
    "* First, Let's Divide the Data into each Candidate Camp.\n",
    "* Then check how much data is left.\n",
    "* then graph the Tweet Volume (Y)\n",
    "* as well as independent variables (to look at distributions)\n",
    "* if it looks decent, do the correlatins in R\n",
    "* also, don't forget to try to do glm with family lognormal on the whole set."
   ]
  },
  {
   "cell_type": "markdown",
   "metadata": {},
   "source": [
    " "
   ]
  },
  {
   "cell_type": "code",
   "execution_count": 1,
   "metadata": {
    "collapsed": true
   },
   "outputs": [],
   "source": [
    "import seaborn as sns\n",
    "import matplotlib.pyplot as plt\n",
    "import pandas\n",
    "%matplotlib inline\n",
    "import numpy as np\n",
    "from IPython.display import display, HTML\n",
    "pandas.set_option('max_colwidth', 1000)"
   ]
  },
  {
   "cell_type": "code",
   "execution_count": 2,
   "metadata": {
    "collapsed": false
   },
   "outputs": [],
   "source": [
    "clinton_df=pandas.read_csv('DATA/FOR_CORR/clinton_w_emot.csv')\n",
    "trump_df=pandas.read_csv('DATA/FOR_CORR/trump_w_emot.csv')\n",
    "sanders_df=pandas.read_csv('DATA/FOR_CORR/sanders_w_emot.csv')\n",
    "cruz_df=pandas.read_csv('DATA/FOR_CORR/cruz_w_emot.csv')"
   ]
  },
  {
   "cell_type": "code",
   "execution_count": 3,
   "metadata": {
    "collapsed": false
   },
   "outputs": [
    {
     "name": "stdout",
     "output_type": "stream",
     "text": [
      "Index([u'url', u'org', u'candid_name', u'num_tweets', u'num_tweets_all',\n",
      "       u'sentiment_mean', u'wc', u'negativ_ct', u'positiv_ct',\n",
      "       u'negativ_percent', u'positiv_percent', u'emotionality', u'positivity'],\n",
      "      dtype='object')\n",
      "clinton 1964\n",
      "trump 1983\n",
      "sanders 1207\n",
      "cruz 1495\n"
     ]
    }
   ],
   "source": [
    "print clinton_df.columns\n",
    "print 'clinton', len(clinton_df)\n",
    "print 'trump', len(trump_df)\n",
    "print 'sanders', len(sanders_df)\n",
    "print 'cruz',len(cruz_df)"
   ]
  },
  {
   "cell_type": "markdown",
   "metadata": {
    "collapsed": true
   },
   "source": [
    "## Clinton Descriptive Stats"
   ]
  },
  {
   "cell_type": "code",
   "execution_count": 4,
   "metadata": {
    "collapsed": false
   },
   "outputs": [
    {
     "data": {
      "text/plain": [
       "3.2703665987780042"
      ]
     },
     "execution_count": 4,
     "metadata": {},
     "output_type": "execute_result"
    }
   ],
   "source": [
    "clinton_df.num_tweets.mean()"
   ]
  },
  {
   "cell_type": "code",
   "execution_count": 5,
   "metadata": {
    "collapsed": false
   },
   "outputs": [
    {
     "data": {
      "text/plain": [
       "count    1964.000000\n",
       "mean        3.270367\n",
       "std         4.916596\n",
       "min         1.000000\n",
       "25%         1.000000\n",
       "50%         2.000000\n",
       "75%         4.000000\n",
       "max       115.000000\n",
       "Name: num_tweets, dtype: float64"
      ]
     },
     "execution_count": 5,
     "metadata": {},
     "output_type": "execute_result"
    }
   ],
   "source": [
    "clinton_df.num_tweets.describe()"
   ]
  },
  {
   "cell_type": "code",
   "execution_count": 7,
   "metadata": {
    "collapsed": false
   },
   "outputs": [
    {
     "data": {
      "image/png": "[encoded data removed]",
      "text/plain": [
       "<matplotlib.figure.Figure at 0x1139ef8d0>"
      ]
     },
     "metadata": {},
     "output_type": "display_data"
    }
   ],
   "source": [
    "sns.distplot(clinton_df.num_tweets, kde=False, rug=False);\n",
    "plt.title(\"Number of Tweets Distribution\", fontsize=14)\n",
    "plt.xlabel(\"Number of Tweets\")\n",
    "plt.ylabel(\"Number of Stories\")\n",
    "plt.savefig('FIGS/CORR/SEGMENTS/clinton_tweet_vol.png')"
   ]
  },
  {
   "cell_type": "code",
   "execution_count": 9,
   "metadata": {
    "collapsed": false,
    "scrolled": true
   },
   "outputs": [
    {
     "data": {
      "image/png": "[encoded data removed]",
      "text/plain": [
       "<matplotlib.figure.Figure at 0x1143945d0>"
      ]
     },
     "metadata": {},
     "output_type": "display_data"
    }
   ],
   "source": [
    "sns.distplot(clinton_df.wc, kde=False, rug=False);"
   ]
  },
  {
   "cell_type": "markdown",
   "metadata": {
    "collapsed": true
   },
   "source": [
    "## Trump Descriptive Stats"
   ]
  },
  {
   "cell_type": "code",
   "execution_count": 10,
   "metadata": {
    "collapsed": false
   },
   "outputs": [
    {
     "data": {
      "text/plain": [
       "4.4422592032274331"
      ]
     },
     "execution_count": 10,
     "metadata": {},
     "output_type": "execute_result"
    }
   ],
   "source": [
    "trump_df.num_tweets.mean()"
   ]
  },
  {
   "cell_type": "code",
   "execution_count": 11,
   "metadata": {
    "collapsed": false
   },
   "outputs": [
    {
     "data": {
      "text/plain": [
       "count    1983.000000\n",
       "mean        4.442259\n",
       "std         8.333704\n",
       "min         1.000000\n",
       "25%         1.000000\n",
       "50%         2.000000\n",
       "75%         5.000000\n",
       "max       221.000000\n",
       "Name: num_tweets, dtype: float64"
      ]
     },
     "execution_count": 11,
     "metadata": {},
     "output_type": "execute_result"
    }
   ],
   "source": [
    "trump_df.num_tweets.describe()"
   ]
  },
  {
   "cell_type": "code",
   "execution_count": 12,
   "metadata": {
    "collapsed": false
   },
   "outputs": [
    {
     "data": {
      "image/png": "[encoded data removed]",
      "text/plain": [
       "<matplotlib.figure.Figure at 0x1144b9a50>"
      ]
     },
     "metadata": {},
     "output_type": "display_data"
    }
   ],
   "source": [
    "sns.distplot(trump_df.num_tweets, kde=False, rug=False);\n",
    "plt.title(\"Number of Tweets Distribution\", fontsize=14)\n",
    "plt.xlabel(\"Number of Tweets\")\n",
    "plt.ylabel(\"Number of Stories\")\n",
    "plt.savefig('FIGS/CORR/SEGMENTS/trump_tweet_vol.png')"
   ]
  },
  {
   "cell_type": "code",
   "execution_count": null,
   "metadata": {
    "collapsed": false,
    "scrolled": false
   },
   "outputs": [],
   "source": [
    " "
   ]
  },
  {
   "cell_type": "markdown",
   "metadata": {
    "collapsed": true
   },
   "source": [
    "## Sanders \n",
    "Descriptive Stats"
   ]
  },
  {
   "cell_type": "code",
   "execution_count": 13,
   "metadata": {
    "collapsed": false
   },
   "outputs": [
    {
     "data": {
      "text/plain": [
       "3.903893951946976"
      ]
     },
     "execution_count": 13,
     "metadata": {},
     "output_type": "execute_result"
    }
   ],
   "source": [
    "sanders_df.num_tweets.mean()"
   ]
  },
  {
   "cell_type": "code",
   "execution_count": 14,
   "metadata": {
    "collapsed": false
   },
   "outputs": [
    {
     "data": {
      "text/plain": [
       "count    1207.000000\n",
       "mean        3.903894\n",
       "std         9.549333\n",
       "min         1.000000\n",
       "25%         1.000000\n",
       "50%         2.000000\n",
       "75%         3.000000\n",
       "max       136.000000\n",
       "Name: num_tweets, dtype: float64"
      ]
     },
     "execution_count": 14,
     "metadata": {},
     "output_type": "execute_result"
    }
   ],
   "source": [
    "sanders_df.num_tweets.describe()"
   ]
  },
  {
   "cell_type": "code",
   "execution_count": 15,
   "metadata": {
    "collapsed": false
   },
   "outputs": [
    {
     "data": {
      "image/png": "[encoded data removed]",
      "text/plain": [
       "<matplotlib.figure.Figure at 0x11479f250>"
      ]
     },
     "metadata": {},
     "output_type": "display_data"
    }
   ],
   "source": [
    "sns.distplot(sanders_df.num_tweets, kde=False, rug=False);\n",
    "plt.title(\"Number of Tweets Distribution\", fontsize=14)\n",
    "plt.xlabel(\"Number of Tweets\")\n",
    "plt.ylabel(\"Number of Stories\")\n",
    "plt.savefig('FIGS/CORR/SEGMENTS/sanders_tweet_vol.png')"
   ]
  },
  {
   "cell_type": "code",
   "execution_count": null,
   "metadata": {
    "collapsed": false,
    "scrolled": false
   },
   "outputs": [],
   "source": [
    " "
   ]
  },
  {
   "cell_type": "markdown",
   "metadata": {
    "collapsed": true
   },
   "source": [
    "## Cruz Descriptive Stats"
   ]
  },
  {
   "cell_type": "code",
   "execution_count": 16,
   "metadata": {
    "collapsed": false
   },
   "outputs": [
    {
     "data": {
      "text/plain": [
       "2.3003344481605352"
      ]
     },
     "execution_count": 16,
     "metadata": {},
     "output_type": "execute_result"
    }
   ],
   "source": [
    "cruz_df.num_tweets.mean()"
   ]
  },
  {
   "cell_type": "code",
   "execution_count": 17,
   "metadata": {
    "collapsed": false
   },
   "outputs": [
    {
     "data": {
      "text/plain": [
       "count    1495.000000\n",
       "mean        2.300334\n",
       "std         3.556030\n",
       "min         1.000000\n",
       "25%         1.000000\n",
       "50%         1.000000\n",
       "75%         2.000000\n",
       "max        60.000000\n",
       "Name: num_tweets, dtype: float64"
      ]
     },
     "execution_count": 17,
     "metadata": {},
     "output_type": "execute_result"
    }
   ],
   "source": [
    "cruz_df.num_tweets.describe()"
   ]
  },
  {
   "cell_type": "code",
   "execution_count": 18,
   "metadata": {
    "collapsed": false
   },
   "outputs": [
    {
     "data": {
      "image/png": "[encoded data removed]",
      "text/plain": [
       "<matplotlib.figure.Figure at 0x114910c10>"
      ]
     },
     "metadata": {},
     "output_type": "display_data"
    }
   ],
   "source": [
    "sns.distplot(cruz_df.num_tweets, kde=False, rug=False);\n",
    "plt.title(\"Number of Tweets Distribution\", fontsize=14)\n",
    "plt.xlabel(\"Number of Tweets\")\n",
    "plt.ylabel(\"Number of Stories\")\n",
    "plt.savefig('FIGS/CORR/SEGMENTS/cruz_tweet_vol.png')"
   ]
  },
  {
   "cell_type": "code",
   "execution_count": null,
   "metadata": {
    "collapsed": false,
    "scrolled": false
   },
   "outputs": [],
   "source": [
    " "
   ]
  },
  {
   "cell_type": "code",
   "execution_count": null,
   "metadata": {
    "collapsed": true
   },
   "outputs": [],
   "source": []
  },
  {
   "cell_type": "code",
   "execution_count": null,
   "metadata": {
    "collapsed": true
   },
   "outputs": [],
   "source": []
  },
  {
   "cell_type": "code",
   "execution_count": null,
   "metadata": {
    "collapsed": true
   },
   "outputs": [],
   "source": []
  },
  {
   "cell_type": "code",
   "execution_count": null,
   "metadata": {
    "collapsed": true
   },
   "outputs": [],
   "source": []
  },
  {
   "cell_type": "code",
   "execution_count": null,
   "metadata": {
    "collapsed": true
   },
   "outputs": [],
   "source": []
  },
  {
   "cell_type": "code",
   "execution_count": null,
   "metadata": {
    "collapsed": true
   },
   "outputs": [],
   "source": []
  },
  {
   "cell_type": "code",
   "execution_count": null,
   "metadata": {
    "collapsed": true
   },
   "outputs": [],
   "source": []
  },
  {
   "cell_type": "code",
   "execution_count": null,
   "metadata": {
    "collapsed": true
   },
   "outputs": [],
   "source": []
  },
  {
   "cell_type": "code",
   "execution_count": null,
   "metadata": {
    "collapsed": true
   },
   "outputs": [],
   "source": []
  },
  {
   "cell_type": "code",
   "execution_count": null,
   "metadata": {
    "collapsed": true
   },
   "outputs": [],
   "source": []
  },
  {
   "cell_type": "code",
   "execution_count": null,
   "metadata": {
    "collapsed": true
   },
   "outputs": [],
   "source": []
  },
  {
   "cell_type": "code",
   "execution_count": null,
   "metadata": {
    "collapsed": true
   },
   "outputs": [],
   "source": []
  },
  {
   "cell_type": "code",
   "execution_count": null,
   "metadata": {
    "collapsed": true
   },
   "outputs": [],
   "source": []
  },
  {
   "cell_type": "code",
   "execution_count": null,
   "metadata": {
    "collapsed": true
   },
   "outputs": [],
   "source": []
  },
  {
   "cell_type": "code",
   "execution_count": null,
   "metadata": {
    "collapsed": false
   },
   "outputs": [],
   "source": [
    " df.num_tweets.describe()"
   ]
  },
  {
   "cell_type": "code",
   "execution_count": null,
   "metadata": {
    "collapsed": false
   },
   "outputs": [],
   "source": [
    "plt.hist(df.num_tweets, bins=2000)"
   ]
  },
  {
   "cell_type": "code",
   "execution_count": null,
   "metadata": {
    "collapsed": false
   },
   "outputs": [],
   "source": [
    "numtweets = list(df.num_tweets)\n",
    "numtweets.sort(reversTe=True)\n",
    "sns.distplot(numtweets, kde=False, rug=False, bins=100);\n",
    "plt.title(\"How Many Times was a Story Tweeted?\")\n",
    "plt.ylabel(\"Number of Stories\")\n",
    "plt.xlabel(\"Number of Tweets\")\n",
    "plt.savefig(\"FIGS/CORR/num_tweets_dist.png\")"
   ]
  },
  {
   "cell_type": "markdown",
   "metadata": {},
   "source": [
    "## is it a power law?\n",
    "Returns the loglikelihood ratio, and its p-value, between the two distribution fits, assuming the candidate distributions are nested.\n",
    "### R : float\n",
    "Loglikelihood ratio of the two distributions’ fit to the data. If greater than 0, the first distribution is preferred. If less than 0, the second distribution is preferred.\n",
    "### p : float\n",
    "Significance of R"
   ]
  },
  {
   "cell_type": "code",
   "execution_count": null,
   "metadata": {
    "collapsed": false
   },
   "outputs": [],
   "source": [
    "import powerlaw \n",
    "data = numtweets # data can be list or numpy array \n",
    "results = powerlaw.Fit(data) \n",
    "print results.power_law.alpha \n",
    "print results.power_law.xmin \n",
    "R, p = results.distribution_compare('power_law', 'lognormal', normalized_ratio=True)\n",
    "print \"R\", R\n",
    "print \"p\", p\n",
    " "
   ]
  },
  {
   "cell_type": "code",
   "execution_count": null,
   "metadata": {
    "collapsed": false
   },
   "outputs": [],
   "source": [
    "results.plot_pdf()"
   ]
  },
  {
   "cell_type": "code",
   "execution_count": null,
   "metadata": {
    "collapsed": false
   },
   "outputs": [],
   "source": [
    "f, ax = plt.subplots(figsize=(7, 7))\n",
    "ax.set(xscale=\"log\", yscale=\"log\")\n",
    "sns.regplot(\"wc\", \"num_tweets\", data=df, ax=ax, scatter_kws={\"s\": 100})\n"
   ]
  },
  {
   "cell_type": "markdown",
   "metadata": {},
   "source": [
    "### Do them transforms"
   ]
  },
  {
   "cell_type": "code",
   "execution_count": null,
   "metadata": {
    "collapsed": false
   },
   "outputs": [],
   "source": [
    "df = df.dropna()"
   ]
  },
  {
   "cell_type": "code",
   "execution_count": null,
   "metadata": {
    "collapsed": false
   },
   "outputs": [],
   "source": [
    "sns.distplot(df.num_tweets, kde=False, rug=False);\n",
    "plt.title(\"Number of Tweets Distribution\", fontsize=14)\n",
    "plt.xlabel(\"Number of Tweets\")\n",
    "plt.ylabel(\"Number of Stories\")\n",
    "plt.savefig(\"FIGS/CORR/num_tweets_dist.png\")"
   ]
  },
  {
   "cell_type": "code",
   "execution_count": null,
   "metadata": {
    "collapsed": false
   },
   "outputs": [],
   "source": [
    "sns.distplot(df.log_num_tweets, kde=False, rug=False);\n",
    "plt.title(\"Log(Number of Tweets) Distribution\", fontsize=14)\n",
    "plt.xlabel(\"Log(Number of Tweets)\")\n",
    "plt.ylabel(\"Number of Stories\")\n",
    "plt.savefig(\"FIGS/CORR/log_num_tweets_dist.png\")"
   ]
  },
  {
   "cell_type": "code",
   "execution_count": null,
   "metadata": {
    "collapsed": true
   },
   "outputs": [],
   "source": [
    "df['log_log_num_tweets'] = df.log_num_tweets.apply(np.log)\n",
    "df['log_log_log_num_tweets'] = df.log_log_num_tweets.apply(np.log)"
   ]
  },
  {
   "cell_type": "code",
   "execution_count": null,
   "metadata": {
    "collapsed": false,
    "scrolled": true
   },
   "outputs": [],
   "source": [
    "sns.distplot(df.log_log_num_tweets, kde=False, rug=False);\n",
    "plt.title(\"LogLog(Number of Tweets) Distribution\", fontsize=14)\n",
    "plt.xlabel(\"LogLog(Number of Tweets)\")\n",
    "plt.ylabel(\"Number of Stories\")\n",
    "plt.savefig(\"FIGS/CORR/log_log_num_tweets_dist.png\")"
   ]
  },
  {
   "cell_type": "code",
   "execution_count": null,
   "metadata": {
    "collapsed": false
   },
   "outputs": [],
   "source": [
    "sns.distplot(df.sqrt_num_tweets, kde=False, rug=False);\n",
    "plt.title(\"Sqrt(Number of Tweets) Distribution\", fontsize=14)\n",
    "plt.xlabel(\"Sqrt(Number of Tweets)\")\n",
    "plt.ylabel(\"Number of Stories\")\n",
    "plt.savefig(\"FIGS/CORR/sqrt_num_tweets_dist.png\")"
   ]
  },
  {
   "cell_type": "code",
   "execution_count": null,
   "metadata": {
    "collapsed": true
   },
   "outputs": [],
   "source": [
    "df['log_num_tweets'] = df.num_tweets.apply(np.log)\n",
    "df['log_wc'] = df.wc.apply(np.log)\n",
    "df['log_emot'] = df.emotionality.apply(lambda x: np.log(x + 1))\n",
    "df['log_pos'] = df.positivity.apply(lambda x: np.log(x + 1))"
   ]
  },
  {
   "cell_type": "code",
   "execution_count": null,
   "metadata": {
    "collapsed": true
   },
   "outputs": [],
   "source": [
    "df['sqrt_num_tweets'] = df.num_tweets.apply(np.sqrt)\n",
    "df['sqrt_wc'] = df.wc.apply(np.sqrt)\n",
    "df['sqrt_emot'] = df.emotionality.apply(np.sqrt)\n",
    "df['sqrt_pos'] = df.positivity.apply(lambda x: np.sqrt(abs(x)))"
   ]
  },
  {
   "cell_type": "code",
   "execution_count": null,
   "metadata": {
    "collapsed": true
   },
   "outputs": [],
   "source": [
    "df['sq_num_tweets'] = df.num_tweets.apply(np.square)\n",
    "df['sq_wc'] = df.wc.apply(np.square)\n",
    "df['sq_emot'] = df.emotionality.apply(np.square)\n",
    "df['sq_pos'] = df.positivity.apply(np.square)"
   ]
  },
  {
   "cell_type": "markdown",
   "metadata": {},
   "source": [
    "## first plot independent variables"
   ]
  },
  {
   "cell_type": "code",
   "execution_count": null,
   "metadata": {
    "collapsed": false
   },
   "outputs": [],
   "source": [
    "sns.distplot(df.wc, kde=False, rug=False);\n",
    "plt.title(\"Story Length Distribution\", fontsize=14)\n",
    "plt.xlabel(\"Story Length\")\n",
    "plt.ylabel(\"Number of Stories\")\n",
    "plt.savefig(\"FIGS/CORR/wc_dist.png\")"
   ]
  },
  {
   "cell_type": "code",
   "execution_count": null,
   "metadata": {
    "collapsed": false
   },
   "outputs": [],
   "source": [
    "sns.distplot(df.log_wc, kde=False, rug=False);\n",
    "plt.title(\"Log(Story Length) Distribution\", fontsize=14)\n",
    "plt.xlabel(\"Log(Story Length)\")\n",
    "plt.ylabel(\"Number of Stories\")\n",
    "plt.savefig(\"FIGS/CORR/log_wc_dist.png\")"
   ]
  },
  {
   "cell_type": "code",
   "execution_count": null,
   "metadata": {
    "collapsed": false
   },
   "outputs": [],
   "source": [
    "sns.distplot(df.sqrt_wc, kde=False, rug=False);\n",
    "plt.title(\"Sqrt(Story Length) Distribution\", fontsize=14)\n",
    "plt.xlabel(\"Sqrt(Story Length)\")\n",
    "plt.ylabel(\"Number of Stories\")\n",
    "plt.savefig(\"FIGS/CORR/sqrt_wc_dist.png\")"
   ]
  },
  {
   "cell_type": "code",
   "execution_count": null,
   "metadata": {
    "collapsed": false
   },
   "outputs": [],
   "source": [
    " "
   ]
  },
  {
   "cell_type": "code",
   "execution_count": null,
   "metadata": {
    "collapsed": true
   },
   "outputs": [],
   "source": [
    "sns.distplot(df.log_wc, kde=False, rug=False);\n",
    "plt.title(\"Log(Story Length) Distribution\", fontsize=14)\n",
    "plt.xlabel(\"Log(Story Length)\")\n",
    "plt.ylabel(\"Number of Stories\")\n",
    "plt.savefig(\"FIGS/CORR/log_wc_dist.png\")"
   ]
  },
  {
   "cell_type": "code",
   "execution_count": null,
   "metadata": {
    "collapsed": false
   },
   "outputs": [],
   "source": [
    "sns.distplot(df.emotionality, kde=False, rug=False);\n",
    "plt.title(\"Emotionality Distribution\", fontsize=14)\n",
    "plt.xlabel(\"Emotionality\")\n",
    "plt.ylabel(\"Number of Stories\")\n",
    "plt.savefig(\"FIGS/CORR/emot_dist.png\")"
   ]
  },
  {
   "cell_type": "code",
   "execution_count": null,
   "metadata": {
    "collapsed": false
   },
   "outputs": [],
   "source": [
    "sns.distplot(df.log_emot, kde=False, rug=False);\n",
    "plt.title(\"Log(Emotionality) Distribution\", fontsize=14)\n",
    "plt.xlabel(\"Log(Emotionality)\")\n",
    "plt.ylabel(\"Number of Stories\")\n",
    "plt.savefig(\"FIGS/CORR/log_emot_dist.png\")"
   ]
  },
  {
   "cell_type": "code",
   "execution_count": null,
   "metadata": {
    "collapsed": false
   },
   "outputs": [],
   "source": [
    "sns.distplot(df.sqrt_emot, kde=False, rug=False);\n",
    "plt.title(\"Sqrt(Emotionality) Distribution\", fontsize=14)\n",
    "plt.xlabel(\"Sqrt(Emotionality)\")\n",
    "plt.ylabel(\"Number of Stories\")\n",
    "plt.savefig(\"FIGS/CORR/sqrt_emot_dist.png\")"
   ]
  },
  {
   "cell_type": "code",
   "execution_count": null,
   "metadata": {
    "collapsed": false
   },
   "outputs": [],
   "source": [
    "sns.distplot(df.positivity, kde=False, rug=False);\n",
    "plt.title(\"Positivity Distribution\", fontsize=14)\n",
    "plt.xlabel(\"Positivity\")\n",
    "plt.ylabel(\"Number of Stories\")\n",
    "plt.savefig(\"FIGS/CORR/pos_dist.png\")"
   ]
  },
  {
   "cell_type": "code",
   "execution_count": null,
   "metadata": {
    "collapsed": false
   },
   "outputs": [],
   "source": [
    "sns.distplot(df.log_pos, kde=False, rug=False);\n",
    "plt.title(\"Log(Positivity) Distribution\", fontsize=14)\n",
    "plt.xlabel(\"Log(Positivity)\")\n",
    "plt.ylabel(\"Number of Stories\")\n",
    "plt.savefig(\"FIGS/CORR/log_pos_dist.png\")"
   ]
  },
  {
   "cell_type": "code",
   "execution_count": null,
   "metadata": {
    "collapsed": false
   },
   "outputs": [],
   "source": [
    "sns.distplot(df.sqrt_pos, kde=False, rug=False);\n",
    "plt.title(\"Sqrt(abs(Positivity)) Distribution\", fontsize=14)\n",
    "plt.xlabel(\"Sqrt(abs(Positivity))\")\n",
    "plt.ylabel(\"Number of Stories\")\n",
    "plt.savefig(\"FIGS/CORR/sqrt_pos_dist.png\")"
   ]
  },
  {
   "cell_type": "markdown",
   "metadata": {},
   "source": [
    "## then plot relationships"
   ]
  },
  {
   "cell_type": "code",
   "execution_count": null,
   "metadata": {
    "collapsed": false
   },
   "outputs": [],
   "source": [
    "df.wc.min()"
   ]
  },
  {
   "cell_type": "code",
   "execution_count": null,
   "metadata": {
    "collapsed": false
   },
   "outputs": [],
   "source": [
    "g = sns.pairplot(df[['log_num_tweets', 'log_wc']])"
   ]
  },
  {
   "cell_type": "code",
   "execution_count": null,
   "metadata": {
    "collapsed": false
   },
   "outputs": [],
   "source": [
    "sns.distplot(df.num_tweets, kde=False, rug=False); "
   ]
  },
  {
   "cell_type": "code",
   "execution_count": null,
   "metadata": {
    "collapsed": true
   },
   "outputs": [],
   "source": []
  }
 ],
 "metadata": {
  "kernelspec": {
   "display_name": "Python 2",
   "language": "python",
   "name": "python2"
  },
  "language_info": {
   "codemirror_mode": {
    "name": "ipython",
    "version": 2
   },
   "file_extension": ".py",
   "mimetype": "text/x-python",
   "name": "python",
   "nbconvert_exporter": "python",
   "pygments_lexer": "ipython2",
   "version": "2.7.11"
  }
 },
 "nbformat": 4,
 "nbformat_minor": 0
}
